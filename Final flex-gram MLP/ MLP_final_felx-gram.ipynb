{
 "cells": [
  {
   "cell_type": "code",
   "execution_count": 477,
   "id": "c5be17e5-c88b-4fee-8753-8ba5394d2d83",
   "metadata": {},
   "outputs": [],
   "source": [
    "import torch\n",
    "# choosing gpu as computational device if gpu is available\n",
    "# since we are working with small data this step is not necessary indeed\n",
    "# but i own the repo and do whatever i want... just joking doing it for fun im really stressed out\n",
    "\n",
    "\n",
    "# MPS: Metal Performance Shaders --> for Mac devices with M chips\n",
    "# CUDA: For device with cuda support\n",
    "# CPU: General case\n",
    "\n",
    "if torch.cuda.is_available():\n",
    "    device = torch.device(\"cuda\")\n",
    "elif torch.backends.mps.is_available():\n",
    "    device = torch.device(\"mps\")\n",
    "else:\n",
    "    device = torch.device(\"cpu\")\n",
    "    \n",
    "generator = torch.Generator(device=device)\n",
    "seed = 20040324\n",
    "generator.manual_seed(seed)\n",
    "\n",
    "import pandas as pd\n",
    "\n",
    "# # Read the CSV file\n",
    "# df = pd.read_csv('/Users/ezelbayraktar/Documents/DL-NLP/MyLanguageModelJourney/OPTED-Dictionary.csv')\n",
    "\n",
    "# # Get the first column\n",
    "# first_column = df.iloc[:, 0]\n",
    "\n",
    "# # Convert the first column to text\n",
    "# first_column_text = \"\\n\".join(first_column.astype(str))\n",
    "\n",
    "# print(first_column_text)\n",
    "\n",
    "read_file = open('/Users/ezelbayraktar/Documents/DL-NLP/MyLanguageModelJourney/names.txt', 'r')\n",
    "words = read_file.read().splitlines()\n",
    "read_file.close()"
   ]
  },
  {
   "cell_type": "code",
   "execution_count": 478,
   "id": "c78f6ccb-e00e-4dc7-bd08-8db176b496fe",
   "metadata": {},
   "outputs": [
    {
     "data": {
      "text/plain": [
       "['a',\n",
       " 'b',\n",
       " 'c',\n",
       " 'd',\n",
       " 'e',\n",
       " 'f',\n",
       " 'g',\n",
       " 'h',\n",
       " 'i',\n",
       " 'j',\n",
       " 'k',\n",
       " 'l',\n",
       " 'm',\n",
       " 'n',\n",
       " 'o',\n",
       " 'p',\n",
       " 'q',\n",
       " 'r',\n",
       " 's',\n",
       " 't',\n",
       " 'u',\n",
       " 'v',\n",
       " 'w',\n",
       " 'x',\n",
       " 'y',\n",
       " 'z']"
      ]
     },
     "execution_count": 478,
     "metadata": {},
     "output_type": "execute_result"
    }
   ],
   "source": [
    "#getting chars \n",
    "chars = sorted(list(set(''.join(words))))\n",
    "chars"
   ]
  },
  {
   "cell_type": "code",
   "execution_count": 479,
   "id": "6b21a6b4-3350-4f04-8eee-717f6ae1b195",
   "metadata": {},
   "outputs": [
    {
     "data": {
      "text/plain": [
       "0"
      ]
     },
     "execution_count": 479,
     "metadata": {},
     "output_type": "execute_result"
    }
   ],
   "source": [
    "## implementing a dictionary to enum chars\n",
    "ctoi={}\n",
    "ctoi['.'] = 0\n",
    "i = 1\n",
    "for char in chars:\n",
    "    # i do not check if char is in ctoi since chars is already a set so no dupes\n",
    "    # so it is not possible that char is added to ctos twice\n",
    "    ctoi[char] = i\n",
    "    i+=1\n",
    "ctoi['.']"
   ]
  },
  {
   "cell_type": "code",
   "execution_count": 480,
   "id": "4ff0bb09-b2c0-4353-8970-b52c1a437e4d",
   "metadata": {},
   "outputs": [
    {
     "data": {
      "text/plain": [
       "'.'"
      ]
     },
     "execution_count": 480,
     "metadata": {},
     "output_type": "execute_result"
    }
   ],
   "source": [
    "## implementing a dictionary to char nums\n",
    "\n",
    "## just flipping ctoi since itoc is just the same but with keys and values exchanged\n",
    "itoc = {value: key for key, value in ctoi.items()}\n",
    "itoc[0]"
   ]
  },
  {
   "cell_type": "code",
   "execution_count": 481,
   "id": "7a68f458-03ed-46d8-884c-d4c159b74d4c",
   "metadata": {},
   "outputs": [],
   "source": [
    "## building ...\n",
    "import torch\n",
    "gram = 3\n",
    "X,Y = [],[]\n",
    "for w in words:\n",
    "    #print(w)\n",
    "    grams = [0]*gram\n",
    "    for ch in w+'.':\n",
    "        cai = ctoi[ch] ## cai stands for character as integer\n",
    "        X.append(grams)\n",
    "        Y.append(cai)\n",
    "        #print(itoc[grams[0]],itoc[grams[1]],itoc[grams[2]],\" >> \",itoc[cai])\n",
    "        ##print(ch,cai)\n",
    "        grams = grams[1:] + [cai]\n",
    "\n",
    "X = torch.tensor(X,device=device)\n",
    "Y = torch.tensor(Y,device=device)"
   ]
  },
  {
   "cell_type": "code",
   "execution_count": 482,
   "id": "1d1e2968-664f-40fe-aca4-b590bad1b3d6",
   "metadata": {},
   "outputs": [
    {
     "data": {
      "text/plain": [
       "tensor([ 42732, 123793, 225243,  ...,  60159, 220260, 215991])"
      ]
     },
     "execution_count": 482,
     "metadata": {},
     "output_type": "execute_result"
    }
   ],
   "source": [
    "data_size = X.shape[0]\n",
    "data_random_indices = torch.randperm(data_size)\n",
    "data_random_indices"
   ]
  },
  {
   "cell_type": "code",
   "execution_count": 483,
   "id": "d80a8205-a0a5-4a8a-9c0c-37cbf5fa3ea0",
   "metadata": {},
   "outputs": [],
   "source": [
    "train_size = 0.8\n",
    "#train_indices_of_rows = torch.randint(0, data_size ,data_size * train_size, generator=generator)\n",
    "train_indices_of_rows = data_random_indices[:int(train_size*data_size)]\n",
    "X_train = X[train_indices_of_rows]\n",
    "Y_train = Y[train_indices_of_rows]"
   ]
  },
  {
   "cell_type": "code",
   "execution_count": 484,
   "id": "72cdc2ed-bf39-499c-8714-42f3131c9cc5",
   "metadata": {},
   "outputs": [],
   "source": [
    "validation_size = 0.1\n",
    "#validation_indices_of_rows = torch.randint(0, data_size ,data_size * validation_size, generator=generator)\n",
    "validation_indices_of_rows = data_random_indices[int(train_size*data_size):int((validation_size+train_size)*data_size)]\n",
    "X_valid = X[validation_indices_of_rows]\n",
    "Y_valid = Y[validation_indices_of_rows]"
   ]
  },
  {
   "cell_type": "code",
   "execution_count": 485,
   "id": "e95aaa74-59f4-489d-865b-14e406dfa201",
   "metadata": {},
   "outputs": [],
   "source": [
    "evaluation_size = 0.1\n",
    "#evalutation_indices_of_rows = torch.randint(0, data_size ,data_size * evaluation_size, generator=generator)\n",
    "evalutation_indices_of_rows = data_random_indices[int((validation_size+train_size)*data_size):]\n",
    "X_eval = X[evalutation_indices_of_rows]\n",
    "Y_eval = Y[evalutation_indices_of_rows]"
   ]
  },
  {
   "cell_type": "code",
   "execution_count": 486,
   "id": "7bc77328-2271-455d-9ba4-d96a184bd1ff",
   "metadata": {},
   "outputs": [
    {
     "name": "stdout",
     "output_type": "stream",
     "text": [
      "Shapes:\n",
      "X_train: torch.Size([182516, 3])\n",
      "Y_train: torch.Size([182516])\n",
      "X_valid: torch.Size([22815, 3])\n",
      "Y_valid: torch.Size([22815])\n",
      "X_eval: torch.Size([22815, 3])\n",
      "Y_eval: torch.Size([22815])\n"
     ]
    }
   ],
   "source": [
    "\n",
    "# Print shapes\n",
    "print(\"Shapes:\")\n",
    "print(f\"X_train: {X_train.shape}\")\n",
    "print(f\"Y_train: {Y_train.shape}\")\n",
    "print(f\"X_valid: {X_valid.shape}\")\n",
    "print(f\"Y_valid: {Y_valid.shape}\")\n",
    "print(f\"X_eval: {X_eval.shape}\")\n",
    "print(f\"Y_eval: {Y_eval.shape}\")\n",
    "\n"
   ]
  },
  {
   "cell_type": "code",
   "execution_count": 487,
   "id": "c057ac80-ef7c-44f9-8e2a-5092ba34a2e6",
   "metadata": {},
   "outputs": [
    {
     "data": {
      "text/plain": [
       "tensor([[ 0.1971,  1.0841, -0.1274,  1.4223,  1.9178,  0.8462, -1.1982,  0.6246,\n",
       "         -0.5571,  1.4824],\n",
       "        [-0.6708,  1.9496,  0.3374,  2.1385,  1.7791, -0.0826, -0.3688, -1.4258,\n",
       "          0.5165,  1.3993],\n",
       "        [ 0.3958,  0.7560,  1.8033,  1.4771, -1.3013, -0.5976, -1.4704,  0.4696,\n",
       "         -1.0398, -0.4148],\n",
       "        [-0.3193,  0.0730,  1.0171,  2.4333,  0.1596, -1.6409, -0.0691, -0.2135,\n",
       "          0.5804, -0.5521],\n",
       "        [ 0.6097,  0.9827,  1.0790, -0.4457,  0.5926, -1.4727, -1.1099, -0.9000,\n",
       "         -0.6620,  0.0119],\n",
       "        [-0.5429, -1.5596,  1.1757, -0.0185, -1.0062, -0.2193, -1.1818, -0.0343,\n",
       "         -1.3712,  0.6321],\n",
       "        [ 0.3262,  0.5732, -0.3711, -2.3440, -1.1578,  0.4372, -1.1230,  0.1615,\n",
       "         -1.2454, -0.4244],\n",
       "        [-2.5520,  0.4170, -0.0525,  0.2294, -0.6252, -0.1247, -0.8734,  0.6719,\n",
       "          0.3051, -0.1500],\n",
       "        [ 0.4659, -1.2773,  1.2259, -0.2616,  0.1548, -0.2318, -1.1421, -0.1322,\n",
       "         -0.5040, -0.6521],\n",
       "        [ 0.0030,  0.0741,  0.5801, -0.3560, -0.3154,  1.3862,  0.3407,  1.1618,\n",
       "          0.2657,  1.5153],\n",
       "        [ 0.5596,  0.5222, -0.4475,  1.1434,  0.0162, -0.0199,  0.4153,  0.8626,\n",
       "         -0.0466, -0.6178],\n",
       "        [ 1.1621, -0.5339,  0.4067,  0.9285, -0.5024, -0.5048,  1.7034, -1.0821,\n",
       "          0.6546, -0.6877],\n",
       "        [-0.8630,  1.2189,  0.5130, -0.7564,  1.5473,  1.6271,  0.6272, -0.2031,\n",
       "         -0.3292,  0.8973],\n",
       "        [ 0.9944,  1.0186,  2.6005, -0.3586, -0.7922, -1.1912, -0.1885, -0.4898,\n",
       "          0.3928, -0.1866],\n",
       "        [-0.6729,  0.6061, -1.0084, -0.1939,  0.3960,  0.9167, -0.5001, -0.7221,\n",
       "          1.4846, -1.8734],\n",
       "        [-1.1078,  2.3855,  0.2008,  0.1948,  0.4904, -0.1072,  1.7050,  1.2146,\n",
       "          0.1200, -0.3853],\n",
       "        [ 0.4591, -0.1242, -1.4238, -0.9140, -1.0261,  0.0610,  0.5781, -0.1397,\n",
       "          1.4863,  0.2739],\n",
       "        [-1.3799,  0.2294,  0.1664,  0.8695, -1.0140, -0.4323, -0.1685,  0.7050,\n",
       "          1.1646,  0.3077],\n",
       "        [-0.4637,  0.3839,  1.2466, -0.3422,  0.9663, -0.3802,  0.2257,  0.5029,\n",
       "          0.2990, -0.2222],\n",
       "        [ 0.5603,  0.9881, -1.9041,  1.0025, -1.3779, -0.4841,  1.4869,  0.1460,\n",
       "         -0.3943,  0.7193],\n",
       "        [ 1.1630,  0.3827, -1.2829, -2.0689, -1.6285, -1.4193,  0.6005, -0.6026,\n",
       "          2.4746, -0.5958],\n",
       "        [-0.3747,  0.6075, -1.0730, -0.0800, -0.8772, -0.0146,  0.4362,  1.6054,\n",
       "         -1.0133,  0.3764],\n",
       "        [ 0.0437,  1.1595, -0.7996, -0.5198,  0.7308,  0.9976, -0.5178, -1.3102,\n",
       "          0.3075,  1.5138],\n",
       "        [ 0.4639, -0.1858,  1.0411, -0.7578,  0.8724, -0.9466, -1.7229, -1.0038,\n",
       "         -0.7609,  1.7987],\n",
       "        [ 0.7156, -0.2757, -0.8107, -0.7438, -0.2860, -0.1266,  1.6939,  1.3760,\n",
       "         -1.0544,  1.2464],\n",
       "        [-1.3908,  0.5399,  0.1638,  1.6790,  1.5544,  0.1458, -0.0732,  0.8960,\n",
       "          0.8620,  0.1320],\n",
       "        [ 0.5791, -0.7558, -0.8334, -0.8683, -0.7830,  0.7549, -0.1815,  0.4029,\n",
       "          2.0545,  0.6300]], device='mps:0', requires_grad=True)"
      ]
     },
     "execution_count": 487,
     "metadata": {},
     "output_type": "execute_result"
    }
   ],
   "source": [
    "# X_train = X_train.to(device)\n",
    "# Y_train = Y_train.to(device)\n",
    "# X_valid = X_valid.to(device)\n",
    "# Y_valid = Y_valid.to(device)\n",
    "# X_eval = X_eval.to(device)\n",
    "# Y_eval = Y_eval.to(device)\n",
    "\n",
    "\n",
    "rows = 27 #  english chars + the dot\n",
    "dimension = 10 # dimensions for each char\n",
    "dimensions = torch.randn(rows, dimension, generator=generator, device=device)\n",
    "dimensions = torch.randn((27, 10), generator=generator, device=device, requires_grad=True)\n",
    "\n",
    "dimensions\n",
    "# params are the dimension values our model assigns to characters"
   ]
  },
  {
   "cell_type": "code",
   "execution_count": 488,
   "id": "251671a0-f5ac-45e5-908c-961d40e9987c",
   "metadata": {},
   "outputs": [
    {
     "data": {
      "text/plain": [
       "torch.Size([228146, 3, 10])"
      ]
     },
     "execution_count": 488,
     "metadata": {},
     "output_type": "execute_result"
    }
   ],
   "source": [
    "dimensions[X].shape"
   ]
  },
  {
   "cell_type": "code",
   "execution_count": 489,
   "id": "7e11a6b9-01e9-4d56-9233-38ed234523a7",
   "metadata": {},
   "outputs": [
    {
     "data": {
      "text/plain": [
       "tensor([[[ 0.1971,  1.0841, -0.1274,  ...,  0.6246, -0.5571,  1.4824],\n",
       "         [ 0.1971,  1.0841, -0.1274,  ...,  0.6246, -0.5571,  1.4824],\n",
       "         [ 0.1971,  1.0841, -0.1274,  ...,  0.6246, -0.5571,  1.4824]],\n",
       "\n",
       "        [[ 0.1971,  1.0841, -0.1274,  ...,  0.6246, -0.5571,  1.4824],\n",
       "         [ 0.1971,  1.0841, -0.1274,  ...,  0.6246, -0.5571,  1.4824],\n",
       "         [-0.5429, -1.5596,  1.1757,  ..., -0.0343, -1.3712,  0.6321]],\n",
       "\n",
       "        [[ 0.1971,  1.0841, -0.1274,  ...,  0.6246, -0.5571,  1.4824],\n",
       "         [-0.5429, -1.5596,  1.1757,  ..., -0.0343, -1.3712,  0.6321],\n",
       "         [ 0.9944,  1.0186,  2.6005,  ..., -0.4898,  0.3928, -0.1866]],\n",
       "\n",
       "        ...,\n",
       "\n",
       "        [[ 0.5791, -0.7558, -0.8334,  ...,  0.4029,  2.0545,  0.6300],\n",
       "         [ 0.5791, -0.7558, -0.8334,  ...,  0.4029,  2.0545,  0.6300],\n",
       "         [-1.3908,  0.5399,  0.1638,  ...,  0.8960,  0.8620,  0.1320]],\n",
       "\n",
       "        [[ 0.5791, -0.7558, -0.8334,  ...,  0.4029,  2.0545,  0.6300],\n",
       "         [-1.3908,  0.5399,  0.1638,  ...,  0.8960,  0.8620,  0.1320],\n",
       "         [ 0.5791, -0.7558, -0.8334,  ...,  0.4029,  2.0545,  0.6300]],\n",
       "\n",
       "        [[-1.3908,  0.5399,  0.1638,  ...,  0.8960,  0.8620,  0.1320],\n",
       "         [ 0.5791, -0.7558, -0.8334,  ...,  0.4029,  2.0545,  0.6300],\n",
       "         [ 0.7156, -0.2757, -0.8107,  ...,  1.3760, -1.0544,  1.2464]]],\n",
       "       device='mps:0', grad_fn=<IndexBackward0>)"
      ]
     },
     "execution_count": 489,
     "metadata": {},
     "output_type": "execute_result"
    }
   ],
   "source": [
    "# here we still have the gram table actually but each character in each gram is repsrented with dimenstional params\n",
    "#->> dimensions[X]\n",
    "embedded = dimensions[X] \n",
    "embedded"
   ]
  },
  {
   "cell_type": "code",
   "execution_count": 490,
   "id": "5c0a59af-316c-4259-ab20-e96fd69af6fd",
   "metadata": {},
   "outputs": [],
   "source": [
    "## abandoned class...\n",
    "\n",
    "import torch\n",
    "class layer():\n",
    "    def __init__(self, input_size, output_size):\n",
    "        self.weights = torch.randn(input_size, output_size, requires_grad=True, generator=generator, device=device)\n",
    "        self.bias = torch.randn(output_size, requires_grad=True, generator=generator, device=device)\n",
    "        \n",
    "    def __call__(self, x):\n",
    "        return torch.tanh(x @ self.weights + self.bias)\n",
    "    \n",
    "    def parameters(self):\n",
    "        return [self.weights, self.bias]\n",
    "    \n",
    "    def zero_grad(self):\n",
    "        self.weights.grad = None\n",
    "        self.bias.grad = None\n",
    "\n",
    "\n",
    "\n"
   ]
  },
  {
   "cell_type": "code",
   "execution_count": 491,
   "id": "734fca3b-6435-4f0a-bc36-3940c688212f",
   "metadata": {},
   "outputs": [
    {
     "name": "stdout",
     "output_type": "stream",
     "text": [
      "30\n"
     ]
    }
   ],
   "source": [
    "inputNumberLayer1 = (embedded.shape)[2]*(embedded.shape)[1] # input nummber is equal to (grams count) * (dimensions)\n",
    "neuronsLayer1 = 200 # matter of choice CAUTION: too much neurons may cause overfitting\n",
    "print(inputNumberLayer1)\n",
    "W1 = torch.randn(inputNumberLayer1, neuronsLayer1, generator=generator, device=device)\n",
    "b1 = torch.randn(neuronsLayer1, generator=generator, device=device)\n",
    "\n",
    "W2 = torch.randn(neuronsLayer1, 27, generator=generator, device=device)\n",
    "b2 = torch.randn(27, generator=generator, device=device)\n",
    "\n",
    "# W3 = torch.randn(100, 27, generator=generator, device=device)\n",
    "# b3 = torch.randn(27, generator=generator, device=device)\n",
    "\n",
    "# W4 = torch.randn(140, 90, generator=generator, device=device)\n",
    "# b4 = torch.randn(90, generator=generator, device=device)\n",
    "\n",
    "# layer1 = layer(30, 200)\n",
    "# layer2 = layer(200, 27)\n",
    "# layers = [layer1, layer2]"
   ]
  },
  {
   "cell_type": "code",
   "execution_count": 492,
   "id": "07dfa481-8c6d-4265-92df-758027080155",
   "metadata": {},
   "outputs": [
    {
     "name": "stdout",
     "output_type": "stream",
     "text": [
      "Iteration 0: 25.5528564453125\n",
      "Iteration 1500: 3.927424430847168\n",
      "Iteration 3000: 2.871026039123535\n",
      "Iteration 4500: 2.9789862632751465\n",
      "Iteration 6000: 2.7621750831604004\n",
      "Iteration 7500: 2.4936413764953613\n",
      "Iteration 9000: 2.4769318103790283\n",
      "Iteration 10500: 2.468421220779419\n",
      "Iteration 12000: 2.302752733230591\n",
      "Iteration 13500: 2.359755039215088\n",
      "Iteration 15000: 2.3374216556549072\n",
      "Iteration 16500: 2.233694553375244\n",
      "Iteration 18000: 2.239232063293457\n",
      "Iteration 19500: 2.2342641353607178\n",
      "Iteration 21000: 2.1777524948120117\n",
      "Iteration 22500: 2.121818780899048\n",
      "Iteration 24000: 2.355778455734253\n",
      "Iteration 25500: 2.2771711349487305\n",
      "Iteration 27000: 2.2674310207366943\n",
      "Iteration 28500: 2.178626298904419\n",
      "Iteration 30000: 2.0409369468688965\n",
      "Iteration 31500: 2.1111443042755127\n",
      "Iteration 33000: 2.1927056312561035\n",
      "Iteration 34500: 2.1394011974334717\n",
      "Iteration 36000: 2.1668155193328857\n",
      "Iteration 37500: 2.144819498062134\n",
      "Iteration 39000: 2.082122325897217\n",
      "Iteration 40500: 2.140620231628418\n",
      "Iteration 42000: 2.055034637451172\n",
      "Iteration 43500: 2.2094738483428955\n",
      "Iteration 45000: 2.149843692779541\n",
      "Iteration 46500: 2.1297731399536133\n",
      "Iteration 48000: 2.1997241973876953\n",
      "Iteration 49500: 2.060946226119995\n",
      "Iteration 51000: 2.0747616291046143\n",
      "Iteration 52500: 1.9978419542312622\n",
      "Iteration 54000: 2.1132988929748535\n",
      "Iteration 55500: 2.0434796810150146\n",
      "Iteration 57000: 2.0545706748962402\n",
      "Iteration 58500: 2.1696617603302\n",
      "Iteration 60000: 2.0799245834350586\n",
      "Iteration 61500: 2.1905035972595215\n",
      "Iteration 63000: 2.128190279006958\n",
      "Iteration 64500: 2.030179500579834\n",
      "Iteration 66000: 2.097938299179077\n",
      "Iteration 67500: 2.0944161415100098\n",
      "Iteration 69000: 2.158459186553955\n",
      "Iteration 70500: 2.1848583221435547\n",
      "Iteration 72000: 2.1216094493865967\n",
      "Iteration 73500: 2.1479930877685547\n",
      "Iteration 75000: 2.139145851135254\n",
      "Iteration 76500: 1.9956034421920776\n",
      "Iteration 78000: 2.09433650970459\n",
      "Iteration 79500: 2.0717825889587402\n",
      "Iteration 81000: 2.1174914836883545\n",
      "Iteration 82500: 2.0371181964874268\n",
      "Iteration 84000: 1.977797269821167\n",
      "Iteration 85500: 2.0504038333892822\n",
      "Iteration 87000: 2.128187656402588\n",
      "Iteration 88500: 2.0722458362579346\n",
      "Iteration 90000: 2.12156343460083\n",
      "Iteration 91500: 2.1691479682922363\n",
      "Iteration 93000: 2.048537015914917\n",
      "Iteration 94500: 2.142422914505005\n",
      "Iteration 96000: 2.168031692504883\n",
      "Iteration 97500: 2.219083786010742\n",
      "Iteration 99000: 2.081928014755249\n"
     ]
    },
    {
     "data": {
      "image/png": "[encoded data removed]",
      "text/plain": [
       "<Figure size 640x480 with 1 Axes>"
      ]
     },
     "metadata": {},
     "output_type": "display_data"
    }
   ],
   "source": [
    "import time\n",
    "import matplotlib.pyplot as plt\n",
    "import torch\n",
    "import torch.nn.functional as F\n",
    "\n",
    "loss_values = []\n",
    "iterations = []\n",
    "dimensions = dimensions.to(device)\n",
    "\n",
    "parameters = [W1, b1, W2, b2]\n",
    "for parameter in parameters:\n",
    "    parameter.requires_grad = True\n",
    "optimizer = torch.optim.Adam(parameters, lr=0.1)\n",
    "\n",
    "batch_size = 400\n",
    "\n",
    "\n",
    "# Training loop\n",
    "for iter in range(100000):\n",
    "\n",
    "\n",
    "    batch_indexes = torch.randint(0, X_train.shape[0], (batch_size,)).to(device)\n",
    "    embedded = dimensions[X_train[batch_indexes]]\n",
    "    embedded = embedded.view(embedded.shape[0], embedded.shape[1] * embedded.shape[2])\n",
    " \n",
    "    activation1 = torch.tanh(embedded @ W1 + b1)\n",
    "    # activation2 = torch.tanh(activation1 @ W2 + b2)\n",
    "    # activation3 = torch.tanh(activation2 @ W3 + b3)\n",
    "\n",
    "    out = activation1 @ W2 + b2\n",
    "\n",
    "    logits = out\n",
    "    targets = Y_train[batch_indexes].to(device)\n",
    "    loss = F.cross_entropy(logits, targets)\n",
    "    \n",
    "    # Store loss value and iteration number\n",
    "    loss_values.append(loss.log10().item())\n",
    "    iterations.append(iter)\n",
    "    \n",
    "    if iter % 1500 == 0:\n",
    "        print(f'Iteration {iter}: {loss.item()}')\n",
    "    # backward pass\n",
    "    for p in parameters:\n",
    "        p.grad = None\n",
    "    loss.backward()\n",
    "    \n",
    "    # forward pass\n",
    "    lr = 0.1 if i < 9000 else 0.01\n",
    "    for parameter in parameters:\n",
    "        parameter.data += -lr * parameter.grad\n",
    "\n",
    "# Plot loss graph\n",
    "plt.plot(iterations, loss_values)\n",
    "plt.xlabel('Iteration')\n",
    "plt.ylabel('Loss')\n",
    "plt.title('Loss vs. Iterations')\n",
    "plt.show()\n"
   ]
  },
  {
   "cell_type": "code",
   "execution_count": 493,
   "id": "19e97820-97d0-4a72-bb4f-57108ea64edc",
   "metadata": {},
   "outputs": [
    {
     "data": {
      "text/plain": [
       "tensor(2.1704, device='mps:0', grad_fn=<NllLossBackward0>)"
      ]
     },
     "execution_count": 493,
     "metadata": {},
     "output_type": "execute_result"
    }
   ],
   "source": [
    "\n",
    "embedded = dimensions[X_eval] \n",
    "embedded = embedded.view(embedded.shape[0] , embedded.shape[1]*embedded.shape[2])\n",
    "activation1 = torch.tanh(embedded @ W1 + b1)\n",
    "out = activation1 @ W2 + b2\n",
    "logits = out\n",
    "targets = Y_eval.to(device)\n",
    "loss = F.cross_entropy(logits, targets)\n",
    "loss"
   ]
  },
  {
   "cell_type": "code",
   "execution_count": 494,
   "id": "23a92b10",
   "metadata": {},
   "outputs": [
    {
     "name": "stdout",
     "output_type": "stream",
     "text": [
      "carmaizabelle.\n",
      "khi.\n",
      "mru.\n",
      "reh.\n",
      "cassanden.\n",
      "jazhanna.\n",
      "perric.\n",
      "areei.\n",
      "nellara.\n",
      "chaiir.\n",
      "kaleigh.\n",
      "ham.\n",
      "jocn.\n",
      "quint.\n",
      "shon.\n",
      "raiviana.\n",
      "waveron.\n",
      "jaryxifah.\n",
      "eviifran.\n",
      "ed.\n"
     ]
    }
   ],
   "source": [
    "\n",
    "# sample from the model\n",
    "g = torch.Generator().manual_seed(2147483647 + 10)\n",
    "for _ in range(20):\n",
    "    out = []\n",
    "    context = [0] * gram # initialize with all ...\n",
    "    while True:\n",
    "      emb = dimensions[torch.tensor([context],device=device)] # (1,block_size,d)\n",
    "      h = torch.tanh(emb.view(1, -1) @ W1 + b1)\n",
    "      logits = h @ W2 + b2\n",
    "      probs = F.softmax(logits, dim=1).to('cpu')\n",
    "      ix = torch.multinomial(probs, num_samples=1, generator=g).item()\n",
    "      context = context[1:] + [ix]\n",
    "      out.append(ix)\n",
    "      if ix == 0:\n",
    "        break\n",
    "    \n",
    "    print(''.join(itoc[i] for i in out))"
   ]
  },
  {
   "cell_type": "code",
   "execution_count": null,
   "id": "5a104bb7",
   "metadata": {},
   "outputs": [],
   "source": []
  }
 ],
 "metadata": {
  "kernelspec": {
   "display_name": "Python 3 (ipykernel)",
   "language": "python",
   "name": "python3"
  },
  "language_info": {
   "codemirror_mode": {
    "name": "ipython",
    "version": 3
   },
   "file_extension": ".py",
   "mimetype": "text/x-python",
   "name": "python",
   "nbconvert_exporter": "python",
   "pygments_lexer": "ipython3",
   "version": "3.12.1"
  }
 },
 "nbformat": 4,
 "nbformat_minor": 5
}
