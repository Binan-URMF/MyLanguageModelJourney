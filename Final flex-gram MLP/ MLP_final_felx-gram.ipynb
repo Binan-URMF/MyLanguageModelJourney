{
 "cells": [
  {
   "cell_type": "code",
   "execution_count": 438,
   "id": "c5be17e5-c88b-4fee-8753-8ba5394d2d83",
   "metadata": {},
   "outputs": [],
   "source": [
    "import torch\n",
    "# choosing gpu as computational device if gpu is available\n",
    "# since we are working with small data this step is not necessary indeed\n",
    "# but i own the repo and do whatever i want... just joking doing it for fun im really stressed out\n",
    "\n",
    "\n",
    "# MPS: Metal Performance Shaders --> for Mac devices with M chips\n",
    "# CUDA: For device with cuda support\n",
    "# CPU: General case\n",
    "\n",
    "if torch.cuda.is_available():\n",
    "    device = torch.device(\"cuda\")\n",
    "elif torch.backends.mps.is_available():\n",
    "    device = torch.device(\"mps\")\n",
    "else:\n",
    "    device = torch.device(\"cpu\")\n",
    "    \n",
    "generator = torch.Generator(device=device)\n",
    "seed = 20040324\n",
    "generator.manual_seed(seed)\n",
    "\n",
    "import pandas as pd\n",
    "\n",
    "# # Read the CSV file\n",
    "# df = pd.read_csv('/Users/ezelbayraktar/Documents/DL-NLP/MyLanguageModelJourney/OPTED-Dictionary.csv')\n",
    "\n",
    "# # Get the first column\n",
    "# first_column = df.iloc[:, 0]\n",
    "\n",
    "# # Convert the first column to text\n",
    "# first_column_text = \"\\n\".join(first_column.astype(str))\n",
    "\n",
    "# print(first_column_text)\n",
    "\n",
    "read_file = open('/Users/ezelbayraktar/Documents/DL-NLP/MyLanguageModelJourney/names.txt', 'r')\n",
    "words = read_file.read().splitlines()\n",
    "read_file.close()"
   ]
  },
  {
   "cell_type": "code",
   "execution_count": 439,
   "id": "c78f6ccb-e00e-4dc7-bd08-8db176b496fe",
   "metadata": {},
   "outputs": [
    {
     "data": {
      "text/plain": [
       "['a',\n",
       " 'b',\n",
       " 'c',\n",
       " 'd',\n",
       " 'e',\n",
       " 'f',\n",
       " 'g',\n",
       " 'h',\n",
       " 'i',\n",
       " 'j',\n",
       " 'k',\n",
       " 'l',\n",
       " 'm',\n",
       " 'n',\n",
       " 'o',\n",
       " 'p',\n",
       " 'q',\n",
       " 'r',\n",
       " 's',\n",
       " 't',\n",
       " 'u',\n",
       " 'v',\n",
       " 'w',\n",
       " 'x',\n",
       " 'y',\n",
       " 'z']"
      ]
     },
     "execution_count": 439,
     "metadata": {},
     "output_type": "execute_result"
    }
   ],
   "source": [
    "#getting chars \n",
    "chars = sorted(list(set(''.join(words))))\n",
    "chars"
   ]
  },
  {
   "cell_type": "code",
   "execution_count": 440,
   "id": "6b21a6b4-3350-4f04-8eee-717f6ae1b195",
   "metadata": {},
   "outputs": [
    {
     "data": {
      "text/plain": [
       "0"
      ]
     },
     "execution_count": 440,
     "metadata": {},
     "output_type": "execute_result"
    }
   ],
   "source": [
    "## implementing a dictionary to enum chars\n",
    "ctoi={}\n",
    "ctoi['.'] = 0\n",
    "i = 1\n",
    "for char in chars:\n",
    "    # i do not check if char is in ctoi since chars is already a set so no dupes\n",
    "    # so it is not possible that char is added to ctos twice\n",
    "    ctoi[char] = i\n",
    "    i+=1\n",
    "ctoi['.']"
   ]
  },
  {
   "cell_type": "code",
   "execution_count": 441,
   "id": "4ff0bb09-b2c0-4353-8970-b52c1a437e4d",
   "metadata": {},
   "outputs": [
    {
     "data": {
      "text/plain": [
       "'.'"
      ]
     },
     "execution_count": 441,
     "metadata": {},
     "output_type": "execute_result"
    }
   ],
   "source": [
    "## implementing a dictionary to char nums\n",
    "\n",
    "## just flipping ctoi since itoc is just the same but with keys and values exchanged\n",
    "itoc = {value: key for key, value in ctoi.items()}\n",
    "itoc[0]"
   ]
  },
  {
   "cell_type": "code",
   "execution_count": 442,
   "id": "7a68f458-03ed-46d8-884c-d4c159b74d4c",
   "metadata": {},
   "outputs": [],
   "source": [
    "## building ...\n",
    "import torch\n",
    "gram = 3\n",
    "X,Y = [],[]\n",
    "for w in words:\n",
    "    #print(w)\n",
    "    grams = [0]*gram\n",
    "    for ch in w+'.':\n",
    "        cai = ctoi[ch] ## cai stands for character as integer\n",
    "        X.append(grams)\n",
    "        Y.append(cai)\n",
    "        #print(itoc[grams[0]],itoc[grams[1]],itoc[grams[2]],\" >> \",itoc[cai])\n",
    "        ##print(ch,cai)\n",
    "        grams = grams[1:] + [cai]\n",
    "\n",
    "X = torch.tensor(X,device=device)\n",
    "Y = torch.tensor(Y,device=device)"
   ]
  },
  {
   "cell_type": "code",
   "execution_count": 443,
   "id": "1d1e2968-664f-40fe-aca4-b590bad1b3d6",
   "metadata": {},
   "outputs": [
    {
     "data": {
      "text/plain": [
       "tensor([ 82789, 110908, 209409,  ...,  55688,  14733,  72665])"
      ]
     },
     "execution_count": 443,
     "metadata": {},
     "output_type": "execute_result"
    }
   ],
   "source": [
    "data_size = X.shape[0]\n",
    "data_random_indices = torch.randperm(data_size)\n",
    "data_random_indices"
   ]
  },
  {
   "cell_type": "code",
   "execution_count": 444,
   "id": "d80a8205-a0a5-4a8a-9c0c-37cbf5fa3ea0",
   "metadata": {},
   "outputs": [],
   "source": [
    "train_size = 0.8\n",
    "#train_indices_of_rows = torch.randint(0, data_size ,data_size * train_size, generator=generator)\n",
    "train_indices_of_rows = data_random_indices[:int(train_size*data_size)]\n",
    "X_train = X[train_indices_of_rows]\n",
    "Y_train = Y[train_indices_of_rows]"
   ]
  },
  {
   "cell_type": "code",
   "execution_count": 445,
   "id": "72cdc2ed-bf39-499c-8714-42f3131c9cc5",
   "metadata": {},
   "outputs": [],
   "source": [
    "validation_size = 0.1\n",
    "#validation_indices_of_rows = torch.randint(0, data_size ,data_size * validation_size, generator=generator)\n",
    "validation_indices_of_rows = data_random_indices[int(train_size*data_size):int((validation_size+train_size)*data_size)]\n",
    "X_valid = X[validation_indices_of_rows]\n",
    "Y_valid = Y[validation_indices_of_rows]"
   ]
  },
  {
   "cell_type": "code",
   "execution_count": 446,
   "id": "e95aaa74-59f4-489d-865b-14e406dfa201",
   "metadata": {},
   "outputs": [],
   "source": [
    "evaluation_size = 0.1\n",
    "#evalutation_indices_of_rows = torch.randint(0, data_size ,data_size * evaluation_size, generator=generator)\n",
    "evalutation_indices_of_rows = data_random_indices[int((validation_size+train_size)*data_size):]\n",
    "X_eval = X[evalutation_indices_of_rows]\n",
    "Y_eval = Y[evalutation_indices_of_rows]"
   ]
  },
  {
   "cell_type": "code",
   "execution_count": 447,
   "id": "7bc77328-2271-455d-9ba4-d96a184bd1ff",
   "metadata": {},
   "outputs": [
    {
     "name": "stdout",
     "output_type": "stream",
     "text": [
      "Shapes:\n",
      "X_train: torch.Size([182516, 3])\n",
      "Y_train: torch.Size([182516])\n",
      "X_valid: torch.Size([22815, 3])\n",
      "Y_valid: torch.Size([22815])\n",
      "X_eval: torch.Size([22815, 3])\n",
      "Y_eval: torch.Size([22815])\n"
     ]
    }
   ],
   "source": [
    "\n",
    "# Print shapes\n",
    "print(\"Shapes:\")\n",
    "print(f\"X_train: {X_train.shape}\")\n",
    "print(f\"Y_train: {Y_train.shape}\")\n",
    "print(f\"X_valid: {X_valid.shape}\")\n",
    "print(f\"Y_valid: {Y_valid.shape}\")\n",
    "print(f\"X_eval: {X_eval.shape}\")\n",
    "print(f\"Y_eval: {Y_eval.shape}\")\n",
    "\n"
   ]
  },
  {
   "cell_type": "code",
   "execution_count": 448,
   "id": "c057ac80-ef7c-44f9-8e2a-5092ba34a2e6",
   "metadata": {},
   "outputs": [
    {
     "data": {
      "text/plain": [
       "tensor([[-0.8441,  0.4442,  0.7368,  0.7954, -0.5493,  0.2943, -0.1826, -1.3402,\n",
       "          1.2121,  0.3059],\n",
       "        [ 0.3878, -1.1010,  1.8189,  0.4719, -0.2023, -1.8422,  0.5779,  1.0814,\n",
       "          1.2433,  0.4114],\n",
       "        [-0.7053, -0.3688, -0.8450, -0.0475, -0.9467,  1.3064, -0.6005, -0.4381,\n",
       "          0.7840,  0.3449],\n",
       "        [ 0.1305, -0.9211,  1.0137, -0.3206, -1.0797, -1.0420,  0.7330,  0.0224,\n",
       "         -0.6115,  2.0619],\n",
       "        [ 0.2378, -1.1784, -1.8409, -1.0786, -0.2863, -0.9967,  0.3653,  0.0674,\n",
       "         -0.6903, -1.4424],\n",
       "        [-0.2955,  0.1750, -1.3892,  0.9093, -0.8116, -1.4969,  1.0157,  1.1712,\n",
       "          2.3478, -0.9131],\n",
       "        [-1.3849, -0.8881, -1.2339,  0.1638,  2.2019, -1.1133, -2.1620,  0.2332,\n",
       "          0.5493, -2.0426],\n",
       "        [-0.2015,  1.1151, -0.3645,  2.1503,  0.9801, -0.8833, -1.1786, -2.2045,\n",
       "          2.1848,  0.8490],\n",
       "        [-0.6684, -0.4144, -2.1090,  0.8225,  1.5607, -0.2541, -0.4118, -0.9687,\n",
       "         -3.6585,  0.2116],\n",
       "        [-0.3794,  0.0753, -0.4615,  0.1192,  0.3348,  0.1684, -0.5154,  0.4893,\n",
       "         -0.4453, -0.0327],\n",
       "        [-0.2016, -0.4472, -0.0140, -1.6577, -2.1381, -0.8504, -0.6963, -1.4112,\n",
       "          0.3520,  0.2280],\n",
       "        [-2.8115, -0.3213,  0.7614, -0.0866, -2.6969,  0.9126, -0.9112, -0.3301,\n",
       "          0.8868,  0.6435],\n",
       "        [-1.1941,  0.3251, -2.8221,  0.2151,  0.9980,  0.6420, -1.5214,  0.6384,\n",
       "          1.0512,  0.1240],\n",
       "        [ 0.1682,  0.9504,  0.0173,  1.0907,  0.0278,  0.4998, -2.6318, -0.3346,\n",
       "         -1.4071,  0.2976],\n",
       "        [-0.0352,  0.7057,  0.9440,  0.9250, -2.8419,  0.2774,  1.1711, -0.3227,\n",
       "          0.0891, -0.4716],\n",
       "        [-0.7782, -1.0873,  0.2361,  0.0267,  1.4052,  0.9911,  0.2010, -0.6221,\n",
       "         -0.5070,  0.7834],\n",
       "        [-1.5190,  0.3758,  1.6766, -0.4430,  0.9507, -0.7439, -0.3583,  0.1128,\n",
       "          0.1480, -1.2532],\n",
       "        [ 1.2991,  0.7194,  0.9117,  0.5180, -1.0657, -0.0270,  2.1130, -0.0733,\n",
       "         -1.4218,  0.8061],\n",
       "        [-1.0629,  0.1450,  0.8371,  0.8379, -2.4034,  0.3151, -0.4858, -0.4645,\n",
       "         -0.3645,  0.7703],\n",
       "        [-0.4481, -0.4807, -0.8987, -1.9964, -1.4233,  0.8889,  0.3420, -1.6673,\n",
       "          0.7009, -0.5208],\n",
       "        [-0.4557, -0.5930,  0.9668,  1.3464, -1.4811, -2.1404,  0.5201, -0.3522,\n",
       "          0.0866, -1.3522],\n",
       "        [ 0.3179,  0.6915, -0.3057, -0.1215, -1.4720, -2.8616,  0.4030,  0.8484,\n",
       "          0.0585, -0.1521],\n",
       "        [ 1.3061, -1.1550,  1.2946,  2.1280,  0.9186,  0.9395,  0.3793, -0.2685,\n",
       "          0.5603, -0.8106],\n",
       "        [ 0.6832, -0.7029,  0.3811, -0.1238,  1.7302,  1.6085,  0.8928,  0.8287,\n",
       "          0.3633, -0.4974],\n",
       "        [ 0.0160,  2.0778, -1.0237, -0.0881, -1.1508, -1.5165, -0.6367,  0.2532,\n",
       "         -0.1833,  0.6823],\n",
       "        [ 0.2917,  0.0040,  0.9855,  2.0789, -1.1320,  1.2614,  0.4117, -1.0812,\n",
       "          1.5191, -0.7838],\n",
       "        [ 0.0287, -0.8999, -1.8260, -1.9796, -2.0570,  1.4006,  0.1310, -0.9048,\n",
       "         -1.5102,  1.2622]], device='mps:0', requires_grad=True)"
      ]
     },
     "execution_count": 448,
     "metadata": {},
     "output_type": "execute_result"
    }
   ],
   "source": [
    "# X_train = X_train.to(device)\n",
    "# Y_train = Y_train.to(device)\n",
    "# X_valid = X_valid.to(device)\n",
    "# Y_valid = Y_valid.to(device)\n",
    "# X_eval = X_eval.to(device)\n",
    "# Y_eval = Y_eval.to(device)\n",
    "\n",
    "\n",
    "rows = 27 #  english chars + the dot\n",
    "dimension = 10 # dimensions for each char\n",
    "dimensions = torch.randn(rows, dimension, generator=generator, device=device)\n",
    "dimensions = torch.randn((27, 10), generator=generator, device=device, requires_grad=True)\n",
    "\n",
    "dimensions\n",
    "# params are the dimension values our model assigns to characters"
   ]
  },
  {
   "cell_type": "code",
   "execution_count": 449,
   "id": "251671a0-f5ac-45e5-908c-961d40e9987c",
   "metadata": {},
   "outputs": [
    {
     "data": {
      "text/plain": [
       "torch.Size([228146, 3, 10])"
      ]
     },
     "execution_count": 449,
     "metadata": {},
     "output_type": "execute_result"
    }
   ],
   "source": [
    "dimensions[X].shape"
   ]
  },
  {
   "cell_type": "code",
   "execution_count": 450,
   "id": "7e11a6b9-01e9-4d56-9233-38ed234523a7",
   "metadata": {},
   "outputs": [
    {
     "data": {
      "text/plain": [
       "tensor([[[-0.8441,  0.4442,  0.7368,  ..., -1.3402,  1.2121,  0.3059],\n",
       "         [-0.8441,  0.4442,  0.7368,  ..., -1.3402,  1.2121,  0.3059],\n",
       "         [-0.8441,  0.4442,  0.7368,  ..., -1.3402,  1.2121,  0.3059]],\n",
       "\n",
       "        [[-0.8441,  0.4442,  0.7368,  ..., -1.3402,  1.2121,  0.3059],\n",
       "         [-0.8441,  0.4442,  0.7368,  ..., -1.3402,  1.2121,  0.3059],\n",
       "         [-0.2955,  0.1750, -1.3892,  ...,  1.1712,  2.3478, -0.9131]],\n",
       "\n",
       "        [[-0.8441,  0.4442,  0.7368,  ..., -1.3402,  1.2121,  0.3059],\n",
       "         [-0.2955,  0.1750, -1.3892,  ...,  1.1712,  2.3478, -0.9131],\n",
       "         [ 0.1682,  0.9504,  0.0173,  ..., -0.3346, -1.4071,  0.2976]],\n",
       "\n",
       "        ...,\n",
       "\n",
       "        [[ 0.0287, -0.8999, -1.8260,  ..., -0.9048, -1.5102,  1.2622],\n",
       "         [ 0.0287, -0.8999, -1.8260,  ..., -0.9048, -1.5102,  1.2622],\n",
       "         [ 0.2917,  0.0040,  0.9855,  ..., -1.0812,  1.5191, -0.7838]],\n",
       "\n",
       "        [[ 0.0287, -0.8999, -1.8260,  ..., -0.9048, -1.5102,  1.2622],\n",
       "         [ 0.2917,  0.0040,  0.9855,  ..., -1.0812,  1.5191, -0.7838],\n",
       "         [ 0.0287, -0.8999, -1.8260,  ..., -0.9048, -1.5102,  1.2622]],\n",
       "\n",
       "        [[ 0.2917,  0.0040,  0.9855,  ..., -1.0812,  1.5191, -0.7838],\n",
       "         [ 0.0287, -0.8999, -1.8260,  ..., -0.9048, -1.5102,  1.2622],\n",
       "         [ 0.0160,  2.0778, -1.0237,  ...,  0.2532, -0.1833,  0.6823]]],\n",
       "       device='mps:0', grad_fn=<IndexBackward0>)"
      ]
     },
     "execution_count": 450,
     "metadata": {},
     "output_type": "execute_result"
    }
   ],
   "source": [
    "# here we still have the gram table actually but each character in each gram is repsrented with dimenstional params\n",
    "#->> dimensions[X]\n",
    "embedded = dimensions[X] \n",
    "embedded"
   ]
  },
  {
   "cell_type": "code",
   "execution_count": 451,
   "id": "5c0a59af-316c-4259-ab20-e96fd69af6fd",
   "metadata": {},
   "outputs": [],
   "source": [
    "## abandoned class...\n",
    "\n",
    "import torch\n",
    "class layer():\n",
    "    def __init__(self, input_size, output_size):\n",
    "        self.weights = torch.randn(input_size, output_size, requires_grad=True, generator=generator, device=device)\n",
    "        self.bias = torch.randn(output_size, requires_grad=True, generator=generator, device=device)\n",
    "        \n",
    "    def __call__(self, x):\n",
    "        return torch.tanh(x @ self.weights + self.bias)\n",
    "    \n",
    "    def parameters(self):\n",
    "        return [self.weights, self.bias]\n",
    "    \n",
    "    def zero_grad(self):\n",
    "        self.weights.grad = None\n",
    "        self.bias.grad = None\n",
    "\n",
    "\n",
    "\n"
   ]
  },
  {
   "cell_type": "code",
   "execution_count": 452,
   "id": "734fca3b-6435-4f0a-bc36-3940c688212f",
   "metadata": {},
   "outputs": [
    {
     "name": "stdout",
     "output_type": "stream",
     "text": [
      "30\n"
     ]
    }
   ],
   "source": [
    "inputNumberLayer1 = (embedded.shape)[2]*(embedded.shape)[1] # input nummber is equal to (grams count) * (dimensions)\n",
    "neuronsLayer1 = 200 # matter of choice CAUTION: too much neurons may cause overfitting\n",
    "print(inputNumberLayer1)\n",
    "W1 = torch.randn(inputNumberLayer1, neuronsLayer1, generator=generator, device=device)\n",
    "b1 = torch.randn(neuronsLayer1, generator=generator, device=device)\n",
    "\n",
    "W2 = torch.randn(neuronsLayer1, 27, generator=generator, device=device)\n",
    "b2 = torch.randn(27, generator=generator, device=device)\n",
    "\n",
    "# W3 = torch.randn(100, 27, generator=generator, device=device)\n",
    "# b3 = torch.randn(27, generator=generator, device=device)\n",
    "\n",
    "# W4 = torch.randn(140, 90, generator=generator, device=device)\n",
    "# b4 = torch.randn(90, generator=generator, device=device)\n",
    "\n",
    "# layer1 = layer(30, 200)\n",
    "# layer2 = layer(200, 27)\n",
    "# layers = [layer1, layer2]"
   ]
  },
  {
   "cell_type": "code",
   "execution_count": 469,
   "id": "07dfa481-8c6d-4265-92df-758027080155",
   "metadata": {},
   "outputs": [
    {
     "name": "stdout",
     "output_type": "stream",
     "text": [
      "Iteration 0: 2.0537850856781006\n",
      "Iteration 1500: 2.064054250717163\n",
      "Iteration 3000: 2.0814571380615234\n",
      "Iteration 4500: 2.072052240371704\n",
      "Iteration 6000: 2.0651257038116455\n",
      "Iteration 7500: 2.0621023178100586\n",
      "Iteration 9000: 2.0584542751312256\n"
     ]
    },
    {
     "data": {
      "image/png": "[encoded data removed]",
      "text/plain": [
       "<Figure size 640x480 with 1 Axes>"
      ]
     },
     "metadata": {},
     "output_type": "display_data"
    }
   ],
   "source": [
    "import time\n",
    "import matplotlib.pyplot as plt\n",
    "import torch\n",
    "import torch.nn.functional as F\n",
    "\n",
    "loss_values = []\n",
    "iterations = []\n",
    "dimensions = dimensions.to(device)\n",
    "\n",
    "parameters = [W1, b1, W2, b2]\n",
    "for parameter in parameters:\n",
    "    parameter.requires_grad = True\n",
    "optimizer = torch.optim.Adam(parameters, lr=0.1)\n",
    "\n",
    "batch_size = 20000\n",
    "\n",
    "\n",
    "# Training loop\n",
    "for iter in range(10000):\n",
    "\n",
    "\n",
    "    batch_indexes = torch.randint(0, X_train.shape[0], (batch_size,)).to(device)\n",
    "    embedded = dimensions[X_train[batch_indexes]]\n",
    "    embedded = embedded.view(embedded.shape[0], embedded.shape[1] * embedded.shape[2])\n",
    " \n",
    "    activation1 = torch.tanh(embedded @ W1 + b1)\n",
    "    # activation2 = torch.tanh(activation1 @ W2 + b2)\n",
    "    # activation3 = torch.tanh(activation2 @ W3 + b3)\n",
    "\n",
    "    out = activation1 @ W2 + b2\n",
    "\n",
    "    logits = out\n",
    "    targets = Y_train[batch_indexes].to(device)\n",
    "    loss = F.cross_entropy(logits, targets)\n",
    "    \n",
    "    # Store loss value and iteration number\n",
    "    loss_values.append(loss.log10().item())\n",
    "    iterations.append(iter)\n",
    "    \n",
    "    if iter % 1500 == 0:\n",
    "        print(f'Iteration {iter}: {loss.item()}')\n",
    "    # backward pass\n",
    "    for p in parameters:\n",
    "        p.grad = None\n",
    "    loss.backward()\n",
    "    \n",
    "    # forward pass\n",
    "    lr = 0.1 if i < 9000 else 0.01\n",
    "    for parameter in parameters:\n",
    "        parameter.data += -lr * parameter.grad\n",
    "\n",
    "# Plot loss graph\n",
    "plt.plot(iterations, loss_values)\n",
    "plt.xlabel('Iteration')\n",
    "plt.ylabel('Loss')\n",
    "plt.title('Loss vs. Iterations')\n",
    "plt.show()\n"
   ]
  },
  {
   "cell_type": "code",
   "execution_count": 476,
   "id": "19e97820-97d0-4a72-bb4f-57108ea64edc",
   "metadata": {},
   "outputs": [
    {
     "data": {
      "text/plain": [
       "tensor(2.1374, device='mps:0', grad_fn=<NllLossBackward0>)"
      ]
     },
     "execution_count": 476,
     "metadata": {},
     "output_type": "execute_result"
    }
   ],
   "source": [
    "\n",
    "embedded = dimensions[X_eval] \n",
    "embedded = embedded.view(embedded.shape[0] , embedded.shape[1]*embedded.shape[2])\n",
    "activation1 = torch.tanh(embedded @ W1 + b1)\n",
    "out = activation1 @ W2 + b2\n",
    "logits = out\n",
    "targets = Y_eval.to(device)\n",
    "loss = F.cross_entropy(logits, targets)\n",
    "loss"
   ]
  },
  {
   "cell_type": "code",
   "execution_count": 472,
   "id": "23a92b10",
   "metadata": {},
   "outputs": [
    {
     "name": "stdout",
     "output_type": "stream",
     "text": [
      "carmahela.\n",
      "jhleigh.\n",
      "mili.\n",
      "taty.\n",
      "skaan.\n",
      "kena.\n",
      "hut.\n",
      "farelynn.\n",
      "kaeli.\n",
      "ner.\n",
      "kia.\n",
      "chaiiy.\n",
      "kaleigh.\n",
      "ham.\n",
      "joce.\n",
      "quinton.\n",
      "lilea.\n",
      "jadiq.\n",
      "waler.\n",
      "gianrix.\n"
     ]
    }
   ],
   "source": [
    "\n",
    "# sample from the model\n",
    "g = torch.Generator().manual_seed(2147483647 + 10)\n",
    "for _ in range(20):\n",
    "    out = []\n",
    "    context = [0] * gram # initialize with all ...\n",
    "    while True:\n",
    "      emb = dimensions[torch.tensor([context],device=device)] # (1,block_size,d)\n",
    "      h = torch.tanh(emb.view(1, -1) @ W1 + b1)\n",
    "      logits = h @ W2 + b2\n",
    "      probs = F.softmax(logits, dim=1).to('cpu')\n",
    "      ix = torch.multinomial(probs, num_samples=1, generator=g).item()\n",
    "      context = context[1:] + [ix]\n",
    "      out.append(ix)\n",
    "      if ix == 0:\n",
    "        break\n",
    "    \n",
    "    print(''.join(itoc[i] for i in out))"
   ]
  },
  {
   "cell_type": "code",
   "execution_count": null,
   "id": "5a104bb7",
   "metadata": {},
   "outputs": [],
   "source": []
  }
 ],
 "metadata": {
  "kernelspec": {
   "display_name": "Python 3 (ipykernel)",
   "language": "python",
   "name": "python3"
  },
  "language_info": {
   "codemirror_mode": {
    "name": "ipython",
    "version": 3
   },
   "file_extension": ".py",
   "mimetype": "text/x-python",
   "name": "python",
   "nbconvert_exporter": "python",
   "pygments_lexer": "ipython3",
   "version": "3.12.1"
  }
 },
 "nbformat": 4,
 "nbformat_minor": 5
}
