{
 "cells": [
  {
   "cell_type": "code",
   "execution_count": 35,
   "id": "c5be17e5-c88b-4fee-8753-8ba5394d2d83",
   "metadata": {},
   "outputs": [],
   "source": [
    "import torch\n",
    "# choosing gpu as computational device if gpu is available\n",
    "# since we are working with small data this step is not necessary indeed\n",
    "# but i own the repo and do whatever i want... just joking doing it for fun im really stressed out\n",
    "\n",
    "\n",
    "# MPS: Metal Performance Shaders --> for Mac devices with M chips\n",
    "# CUDA: For device with cuda support\n",
    "# CPU: General case\n",
    "\n",
    "if torch.cuda.is_available():\n",
    "    device = torch.device(\"cuda\")\n",
    "elif torch.backends.mps.is_available():\n",
    "    device = torch.device(\"mps\")\n",
    "else:\n",
    "    device = torch.device(\"cpu\")\n",
    "    \n",
    "generator = torch.Generator(device=device)\n",
    "seed = 20040324\n",
    "generator.manual_seed(seed)\n",
    "\n",
    "import pandas as pd\n",
    "\n",
    "# # Read the CSV file\n",
    "# df = pd.read_csv('/Users/ezelbayraktar/Documents/DL-NLP/MyLanguageModelJourney/OPTED-Dictionary.csv')\n",
    "\n",
    "# # Get the first column\n",
    "# first_column = df.iloc[:, 0]\n",
    "\n",
    "# # Convert the first column to text\n",
    "# first_column_text = \"\\n\".join(first_column.astype(str))\n",
    "\n",
    "# print(first_column_text)\n",
    "\n",
    "read_file = open('/Users/ezelbayraktar/Documents/DL-NLP/MyLanguageModelJourney/names.txt', 'r')\n",
    "words = read_file.read().splitlines()\n",
    "read_file.close()"
   ]
  },
  {
   "cell_type": "code",
   "execution_count": 36,
   "id": "c78f6ccb-e00e-4dc7-bd08-8db176b496fe",
   "metadata": {},
   "outputs": [
    {
     "data": {
      "text/plain": [
       "['a',\n",
       " 'b',\n",
       " 'c',\n",
       " 'd',\n",
       " 'e',\n",
       " 'f',\n",
       " 'g',\n",
       " 'h',\n",
       " 'i',\n",
       " 'j',\n",
       " 'k',\n",
       " 'l',\n",
       " 'm',\n",
       " 'n',\n",
       " 'o',\n",
       " 'p',\n",
       " 'q',\n",
       " 'r',\n",
       " 's',\n",
       " 't',\n",
       " 'u',\n",
       " 'v',\n",
       " 'w',\n",
       " 'x',\n",
       " 'y',\n",
       " 'z']"
      ]
     },
     "execution_count": 36,
     "metadata": {},
     "output_type": "execute_result"
    }
   ],
   "source": [
    "#getting chars \n",
    "chars = sorted(list(set(''.join(words))))\n",
    "chars"
   ]
  },
  {
   "cell_type": "code",
   "execution_count": 37,
   "id": "6b21a6b4-3350-4f04-8eee-717f6ae1b195",
   "metadata": {},
   "outputs": [
    {
     "data": {
      "text/plain": [
       "0"
      ]
     },
     "execution_count": 37,
     "metadata": {},
     "output_type": "execute_result"
    }
   ],
   "source": [
    "## implementing a dictionary to enum chars\n",
    "ctoi={}\n",
    "ctoi['.'] = 0\n",
    "i = 1\n",
    "for char in chars:\n",
    "    # i do not check if char is in ctoi since chars is already a set so no dupes\n",
    "    # so it is not possible that char is added to ctos twice\n",
    "    ctoi[char] = i\n",
    "    i+=1\n",
    "ctoi['.']"
   ]
  },
  {
   "cell_type": "code",
   "execution_count": 38,
   "id": "4ff0bb09-b2c0-4353-8970-b52c1a437e4d",
   "metadata": {},
   "outputs": [
    {
     "data": {
      "text/plain": [
       "'.'"
      ]
     },
     "execution_count": 38,
     "metadata": {},
     "output_type": "execute_result"
    }
   ],
   "source": [
    "## implementing a dictionary to char nums\n",
    "\n",
    "## just flipping ctoi since itoc is just the same but with keys and values exchanged\n",
    "itoc = {value: key for key, value in ctoi.items()}\n",
    "itoc[0]"
   ]
  },
  {
   "cell_type": "code",
   "execution_count": 39,
   "id": "7a68f458-03ed-46d8-884c-d4c159b74d4c",
   "metadata": {},
   "outputs": [],
   "source": [
    "## building ...\n",
    "import torch\n",
    "gram = 3\n",
    "X,Y = [],[]\n",
    "for w in words:\n",
    "    #print(w)\n",
    "    grams = [0]*gram\n",
    "    for ch in w+'.':\n",
    "        cai = ctoi[ch] ## cai stands for character as integer\n",
    "        X.append(grams)\n",
    "        Y.append(cai)\n",
    "        #print(itoc[grams[0]],itoc[grams[1]],itoc[grams[2]],\" >> \",itoc[cai])\n",
    "        ##print(ch,cai)\n",
    "        grams = grams[1:] + [cai]\n",
    "\n",
    "X = torch.tensor(X,device=device)\n",
    "Y = torch.tensor(Y,device=device)"
   ]
  },
  {
   "cell_type": "code",
   "execution_count": 40,
   "id": "1d1e2968-664f-40fe-aca4-b590bad1b3d6",
   "metadata": {},
   "outputs": [
    {
     "data": {
      "text/plain": [
       "tensor([ 32979, 147050,  23279,  ...,  77720, 185955, 132601])"
      ]
     },
     "execution_count": 40,
     "metadata": {},
     "output_type": "execute_result"
    }
   ],
   "source": [
    "data_size = X.shape[0]\n",
    "data_random_indices = torch.randperm(data_size)\n",
    "data_random_indices"
   ]
  },
  {
   "cell_type": "code",
   "execution_count": 41,
   "id": "d80a8205-a0a5-4a8a-9c0c-37cbf5fa3ea0",
   "metadata": {},
   "outputs": [],
   "source": [
    "train_size = 0.85\n",
    "#train_indices_of_rows = torch.randint(0, data_size ,data_size * train_size, generator=generator)\n",
    "train_indices_of_rows = data_random_indices[:int(train_size*data_size)]\n",
    "X_train = X[train_indices_of_rows]\n",
    "Y_train = Y[train_indices_of_rows]"
   ]
  },
  {
   "cell_type": "code",
   "execution_count": 42,
   "id": "72cdc2ed-bf39-499c-8714-42f3131c9cc5",
   "metadata": {},
   "outputs": [],
   "source": [
    "validation_size = 0.1\n",
    "#validation_indices_of_rows = torch.randint(0, data_size ,data_size * validation_size, generator=generator)\n",
    "validation_indices_of_rows = data_random_indices[int(train_size*data_size):int((validation_size+train_size)*data_size)]\n",
    "X_valid = X[validation_indices_of_rows]\n",
    "Y_valid = Y[validation_indices_of_rows]"
   ]
  },
  {
   "cell_type": "code",
   "execution_count": 43,
   "id": "e95aaa74-59f4-489d-865b-14e406dfa201",
   "metadata": {},
   "outputs": [],
   "source": [
    "evaluation_size = 0.1\n",
    "#evalutation_indices_of_rows = torch.randint(0, data_size ,data_size * evaluation_size, generator=generator)\n",
    "evalutation_indices_of_rows = data_random_indices[int((validation_size+train_size)*data_size):]\n",
    "X_eval = X[evalutation_indices_of_rows]\n",
    "Y_eval = Y[evalutation_indices_of_rows]"
   ]
  },
  {
   "cell_type": "code",
   "execution_count": 44,
   "id": "7bc77328-2271-455d-9ba4-d96a184bd1ff",
   "metadata": {},
   "outputs": [
    {
     "name": "stdout",
     "output_type": "stream",
     "text": [
      "Shapes:\n",
      "X_train: torch.Size([193924, 3])\n",
      "Y_train: torch.Size([193924])\n",
      "X_valid: torch.Size([22814, 3])\n",
      "Y_valid: torch.Size([22814])\n",
      "X_eval: torch.Size([11408, 3])\n",
      "Y_eval: torch.Size([11408])\n"
     ]
    }
   ],
   "source": [
    "\n",
    "# Print shapes\n",
    "print(\"Shapes:\")\n",
    "print(f\"X_train: {X_train.shape}\")\n",
    "print(f\"Y_train: {Y_train.shape}\")\n",
    "print(f\"X_valid: {X_valid.shape}\")\n",
    "print(f\"Y_valid: {Y_valid.shape}\")\n",
    "print(f\"X_eval: {X_eval.shape}\")\n",
    "print(f\"Y_eval: {Y_eval.shape}\")\n",
    "\n"
   ]
  },
  {
   "cell_type": "code",
   "execution_count": 45,
   "id": "c057ac80-ef7c-44f9-8e2a-5092ba34a2e6",
   "metadata": {},
   "outputs": [
    {
     "data": {
      "text/plain": [
       "torch.Size([27, 15])"
      ]
     },
     "execution_count": 45,
     "metadata": {},
     "output_type": "execute_result"
    }
   ],
   "source": [
    "# X_train = X_train.to(device)\n",
    "# Y_train = Y_train.to(device)\n",
    "# X_valid = X_valid.to(device)\n",
    "# Y_valid = Y_valid.to(device)\n",
    "# X_eval = X_eval.to(device)\n",
    "# Y_eval = Y_eval.to(device)\n",
    "\n",
    "\n",
    "\n",
    "rows = len(chars) + 1 #  english chars + the dot\n",
    "dimension = 15 # dimensions for each char\n",
    "dimensions = torch.randn((rows, dimension), generator=generator, device=device)\n",
    "#dimensions = torch.randn((27, 10), generator=generator, device=device, requires_grad=True)\n",
    "\n",
    "dimensions.shape\n",
    "# params are the dimension values our model assigns to characters"
   ]
  },
  {
   "cell_type": "code",
   "execution_count": 46,
   "id": "251671a0-f5ac-45e5-908c-961d40e9987c",
   "metadata": {},
   "outputs": [
    {
     "data": {
      "text/plain": [
       "torch.Size([228146, 3, 15])"
      ]
     },
     "execution_count": 46,
     "metadata": {},
     "output_type": "execute_result"
    }
   ],
   "source": [
    "dimensions[X].shape"
   ]
  },
  {
   "cell_type": "code",
   "execution_count": 47,
   "id": "7e11a6b9-01e9-4d56-9233-38ed234523a7",
   "metadata": {},
   "outputs": [
    {
     "data": {
      "text/plain": [
       "torch.Size([228146, 3, 15])"
      ]
     },
     "execution_count": 47,
     "metadata": {},
     "output_type": "execute_result"
    }
   ],
   "source": [
    "# here we still have the gram table actually but each character in each gram is repsrented with dimenstional params\n",
    "#->> dimensions[X]\n",
    "embedded = dimensions[X] \n",
    "embedded.shape"
   ]
  },
  {
   "cell_type": "code",
   "execution_count": 48,
   "id": "734fca3b-6435-4f0a-bc36-3940c688212f",
   "metadata": {},
   "outputs": [
    {
     "name": "stdout",
     "output_type": "stream",
     "text": [
      "45\n"
     ]
    }
   ],
   "source": [
    "inputNumberLayer1 = (embedded.shape)[2]*(embedded.shape)[1] # input nummber is equal to (grams count) * (dimensions)\n",
    "\n",
    "\n",
    "neuronsLayer1 = 200 # matter of choice CAUTION: too much neurons may cause overfitting\n",
    "\n",
    "print(inputNumberLayer1)\n",
    "\n",
    "y_gain = torch.ones(1,neuronsLayer1,  device=device)\n",
    "y_b = torch.zeros(1,neuronsLayer1,  device=device)\n",
    "\n",
    "model_std = torch.ones(1,neuronsLayer1,  device=device)\n",
    "model_mean = torch.zeros(1,neuronsLayer1,  device=device)\n",
    "\n",
    "\n",
    "W1 = torch.randn(inputNumberLayer1, neuronsLayer1, generator=generator, device=device) * ((5/3)/ (inputNumberLayer1)**0.5)\n",
    "b1 = torch.randn(neuronsLayer1, generator=generator, device=device) * 0.1\n",
    "\n",
    "W2 = torch.randn(neuronsLayer1, 27, generator=generator, device=device) * 0.1\n",
    "b2 = torch.randn(27, generator=generator, device=device) * 0.1\n",
    "\n",
    "# W3 = torch.randn(100, 27, generator=generator, device=device)\n",
    "# b3 = torch.randn(27, generator=generator, device=device)\n",
    "\n",
    "# W4 = torch.randn(140, 90, generator=generator, device=device)\n",
    "# b4 = torch.randn(90, generator=generator, device=device)\n",
    "\n",
    "# layer1 = layer(30, 200)\n",
    "# layer2 = layer(200, 27)\n",
    "# layers = [layer1, layer2]"
   ]
  },
  {
   "cell_type": "code",
   "execution_count": 85,
   "id": "07dfa481-8c6d-4265-92df-758027080155",
   "metadata": {},
   "outputs": [
    {
     "name": "stdout",
     "output_type": "stream",
     "text": [
      "Iteration 0: 2.158914089202881, Time: 1713432528.5979211\n",
      "Iteration 1000: 2.0417773723602295, Time: 1713432533.920042\n",
      "Iteration 2000: 2.1039037704467773, Time: 1713432538.876619\n",
      "Iteration 3000: 2.037090539932251, Time: 1713432543.78433\n",
      "Iteration 4000: 1.9025291204452515, Time: 1713432548.700497\n",
      "Iteration 5000: 2.2109813690185547, Time: 1713432554.272594\n",
      "Iteration 6000: 2.08143949508667, Time: 1713432558.9036632\n",
      "Iteration 7000: 2.0376651287078857, Time: 1713432563.6541\n",
      "Iteration 8000: 2.0048489570617676, Time: 1713432568.6479518\n",
      "Iteration 9000: 2.3181304931640625, Time: 1713432573.486911\n",
      "Iteration 10000: 2.1084372997283936, Time: 1713432578.503233\n",
      "Iteration 11000: 2.0178911685943604, Time: 1713432583.404047\n",
      "Iteration 12000: 2.1046900749206543, Time: 1713432588.682844\n",
      "Iteration 13000: 2.099911689758301, Time: 1713432593.299055\n",
      "Iteration 14000: 2.1365671157836914, Time: 1713432597.991478\n",
      "Iteration 15000: 2.071028470993042, Time: 1713432602.724342\n",
      "Iteration 16000: 2.046849012374878, Time: 1713432608.11141\n",
      "Iteration 17000: 2.137995719909668, Time: 1713432613.3843179\n",
      "Iteration 18000: 2.133486032485962, Time: 1713432619.739221\n",
      "Iteration 19000: 2.0471818447113037, Time: 1713432624.49525\n",
      "Iteration 20000: 2.0354132652282715, Time: 1713432629.281628\n",
      "Iteration 21000: 1.967760443687439, Time: 1713432634.151914\n",
      "Iteration 22000: 2.2155380249023438, Time: 1713432638.791272\n",
      "Iteration 23000: 2.029667377471924, Time: 1713432643.448143\n",
      "Iteration 24000: 2.177456855773926, Time: 1713432648.3685172\n",
      "Iteration 25000: 2.0049309730529785, Time: 1713432653.5659509\n",
      "Iteration 26000: 2.0660579204559326, Time: 1713432658.7227101\n",
      "Iteration 27000: 2.005638837814331, Time: 1713432663.415205\n",
      "Iteration 28000: 2.019540548324585, Time: 1713432668.054666\n",
      "Iteration 29000: 1.9467204809188843, Time: 1713432672.709132\n",
      "Iteration 30000: 2.0410263538360596, Time: 1713432677.364779\n",
      "Iteration 31000: 2.0137906074523926, Time: 1713432682.238477\n",
      "Iteration 32000: 2.135272741317749, Time: 1713432687.277266\n",
      "Iteration 33000: 2.072880744934082, Time: 1713432692.3581061\n",
      "Iteration 34000: 2.044287919998169, Time: 1713432697.728767\n",
      "Iteration 35000: 2.07671856880188, Time: 1713432703.208816\n",
      "Iteration 36000: 2.1476800441741943, Time: 1713432708.135701\n",
      "Iteration 37000: 2.026204824447632, Time: 1713432713.065114\n",
      "Iteration 38000: 2.0455596446990967, Time: 1713432718.301933\n",
      "Iteration 39000: 2.0546681880950928, Time: 1713432722.997086\n",
      "Iteration 40000: 2.1123158931732178, Time: 1713432727.719883\n",
      "Iteration 41000: 2.033414125442505, Time: 1713432732.543979\n",
      "Iteration 42000: 1.9378379583358765, Time: 1713432737.415871\n",
      "Iteration 43000: 2.042598247528076, Time: 1713432742.476056\n",
      "Iteration 44000: 2.0092668533325195, Time: 1713432748.194913\n",
      "Iteration 45000: 2.1205883026123047, Time: 1713432754.116148\n",
      "Iteration 46000: 2.111741781234741, Time: 1713432759.708641\n",
      "Iteration 47000: 2.120224952697754, Time: 1713432765.219855\n",
      "Iteration 48000: 2.032803535461426, Time: 1713432771.1086872\n",
      "Iteration 49000: 2.1029932498931885, Time: 1713432776.478057\n"
     ]
    },
    {
     "data": {
      "image/png": "[encoded data removed]",
      "text/plain": [
       "<Figure size 640x480 with 1 Axes>"
      ]
     },
     "metadata": {},
     "output_type": "display_data"
    },
    {
     "name": "stdout",
     "output_type": "stream",
     "text": [
      "50000 iterations done. Last loss: 0.6846219897270203\n"
     ]
    }
   ],
   "source": [
    "import time\n",
    "import matplotlib.pyplot as plt\n",
    "import torch\n",
    "import torch.nn.functional as F\n",
    "\n",
    "loss_values = []\n",
    "iterations = []\n",
    "dimensions = dimensions.to(device)\n",
    "\n",
    "parameters = [W1, b1, W2, b2]\n",
    "for parameter in parameters:\n",
    "    parameter.requires_grad = True\n",
    "parameters += [y_gain, y_b]\n",
    "batch_size = 90\n",
    "\n",
    "iters = 50000\n",
    "\n",
    "# Training loop\n",
    "for iter in range(iters):\n",
    "\n",
    "\n",
    "    batch_indexes = torch.randint(0, X_train.shape[0], (batch_size,)).to(device)\n",
    "    embedded = dimensions[X_train[batch_indexes]]\n",
    "    embedded = embedded.view(embedded.shape[0], embedded.shape[1] * embedded.shape[2])\n",
    "    \n",
    "    not_activated_layer1 = embedded @ W1 + b1\n",
    "    nal_mean = not_activated_layer1.mean(0, keepdim=True)\n",
    "    nal_std = not_activated_layer1.std(0, keepdim=True)\n",
    "    \n",
    "    nal_to_normalize = y_gain * ((not_activated_layer1 - nal_mean) / nal_std) + y_b\n",
    "    activation1 = torch.tanh(nal_to_normalize)\n",
    "\n",
    "    with torch.no_grad():\n",
    "        model_mean = 0.99 * model_mean + 0.01 * nal_mean\n",
    "        model_std = 0.99 * model_std + 0.01 * nal_std\n",
    "\n",
    "    # activation1 = torch.tanh(embedded @ W1 + b1)\n",
    "    # activation2 = torch.tanh(activation1 @ W2 + b2)\n",
    "    # activation3 = torch.tanh(activation2 @ W3 + b3)\n",
    "\n",
    "    out = activation1 @ W2 + b2\n",
    "\n",
    "    logits = out\n",
    "    targets = Y_train[batch_indexes].to(device)\n",
    "    loss = F.cross_entropy(logits, targets)\n",
    "    \n",
    "    # Store loss value and iteration number\n",
    "    loss_values.append(loss.log().item())\n",
    "    iterations.append(iter)\n",
    "    \n",
    "    if iter % 1000 == 0:\n",
    "        print(f'Iteration {iter}: {loss.item()}, Time: {time.time()}')\n",
    "        batch_size += 10\n",
    "    # backward pass\n",
    "    for p in parameters:\n",
    "        p.grad = None\n",
    "    loss.backward()\n",
    "    \n",
    "    # forward pass\n",
    "    # forward pass\n",
    "    lr = 0.1 if iter < iters*0.9 else 0.01\n",
    "\n",
    "    for parameter in parameters:\n",
    "        if parameter.grad is not None:\n",
    "            parameter.data += -lr * parameter.grad\n",
    "\n",
    "\n",
    "# Plot loss graph\n",
    "plt.plot(iterations, loss_values)\n",
    "plt.xlabel('Iteration')\n",
    "plt.ylabel('Loss')\n",
    "plt.title('Loss vs. Iterations')\n",
    "plt.show()\n",
    "print(f'{len(loss_values)} iterations done. Last loss: {loss_values[-1]}')\n"
   ]
  },
  {
   "cell_type": "code",
   "execution_count": 86,
   "id": "19e97820-97d0-4a72-bb4f-57108ea64edc",
   "metadata": {},
   "outputs": [
    {
     "data": {
      "text/plain": [
       "tensor(2.1178, device='mps:0', grad_fn=<NllLossBackward0>)"
      ]
     },
     "execution_count": 86,
     "metadata": {},
     "output_type": "execute_result"
    }
   ],
   "source": [
    "\n",
    "embedded = dimensions[X_eval]\n",
    "embedded = embedded.view(embedded.shape[0] , embedded.shape[1]*embedded.shape[2])\n",
    "activation1_raw = embedded @ W1 + b1\n",
    "activation1_std = activation1_raw.std(0, keepdim=True)\n",
    "activation1_mean = activation1_raw.mean(0, keepdim=True)\n",
    "activation1 = torch.tanh(y_gain * ((activation1_raw - activation1_mean) / activation1_std) + y_b)\n",
    "out = activation1 @ W2 + b2\n",
    "logits = out\n",
    "targets = Y_eval.to(device)\n",
    "loss = F.cross_entropy(logits, targets)\n",
    "loss"
   ]
  },
  {
   "cell_type": "code",
   "execution_count": 87,
   "id": "23a92b10",
   "metadata": {},
   "outputs": [
    {
     "name": "stdout",
     "output_type": "stream",
     "text": [
      "tie.\n",
      "shute.\n",
      "recnan.\n",
      "emreebeadiva.\n",
      "adie.\n",
      "sur.\n",
      "ofiyah.\n",
      "drick.\n",
      "kennella.\n",
      "ku.\n",
      "rajd.\n",
      "sadity.\n",
      "ina.\n",
      "roreyah.\n",
      "laurie.\n",
      "zyyah.\n",
      "rael.\n",
      "mina.\n",
      "baalayton.\n",
      "sey.\n"
     ]
    }
   ],
   "source": [
    "\n",
    "# sample from the model\n",
    "for _ in range(20):\n",
    "    out = []\n",
    "    context = [0] * gram # initialize with all ...\n",
    "    while True:\n",
    "      emb = dimensions[torch.tensor([context],device=device)] # (1,block_size,d)\n",
    "      emb = emb.view(emb.shape[0], emb.shape[1] * emb.shape[2])\n",
    "      emb = emb @ W1 + b1\n",
    "      layer_1 = y_gain * ((emb - model_mean) / model_std) + y_b\n",
    "      h = torch.tanh(layer_1)\n",
    "      logits = h @ W2 + b2\n",
    "      probs = F.softmax(logits, dim=1).to('cpu')\n",
    "      ix = torch.multinomial(probs, num_samples=1, generator=g).item()\n",
    "      context = context[1:] + [ix]\n",
    "      out.append(ix)\n",
    "      if ix == 0:\n",
    "        break\n",
    "    \n",
    "    print(''.join(itoc[i] for i in out))"
   ]
  },
  {
   "cell_type": "code",
   "execution_count": 52,
   "id": "5a104bb7",
   "metadata": {},
   "outputs": [
    {
     "data": {
      "image/png": "[encoded data removed]",
      "text/plain": [
       "<Figure size 600x600 with 1 Axes>"
      ]
     },
     "metadata": {},
     "output_type": "display_data"
    }
   ],
   "source": [
    "import matplotlib.pyplot as plt\n",
    "import numpy as np\n",
    "\n",
    "# Set up the figure and axis\n",
    "fig, ax = plt.subplots(1,1,figsize=(6,6))\n",
    "circles = []\n",
    "lines = []\n",
    "\n",
    "# Number of neurons in each layer\n",
    "input_neurons = inputNumberLayer1\n",
    "layer1_neurons = neuronsLayer1\n",
    "output_neurons = 27\n",
    "\n",
    "# Scaling factors for the y-coordinates\n",
    "input_scale = 10\n",
    "layer1_scale = 10\n",
    "output_scale = 10\n",
    "\n",
    "# Create circles for each neuron\n",
    "for i in range(input_neurons):\n",
    "    circles.append(plt.Circle((0, i/(input_neurons-1)*input_scale), 0.03, color='r'))  # smaller radius\n",
    "for i in range(layer1_neurons):\n",
    "    circles.append(plt.Circle((1, i/(layer1_neurons-1)*layer1_scale), 0.03, color='b'))  # smaller radius\n",
    "for i in range(output_neurons):\n",
    "    circles.append(plt.Circle((2, i/(output_neurons-1)*output_scale), 0.03, color='g'))  # smaller radius\n",
    "\n",
    "# Create lines for each connection\n",
    "for i in range(input_neurons):\n",
    "    for j in range(layer1_neurons):\n",
    "        lines.append(plt.Line2D((0, 1), (i/(input_neurons-1)*input_scale, j/(layer1_neurons-1)*layer1_scale), color='gray', linewidth=0.2))  # thinner line\n",
    "for i in range(layer1_neurons):\n",
    "    for j in range(output_neurons):\n",
    "        lines.append(plt.Line2D((1, 2), (i/(layer1_neurons-1)*layer1_scale, j/(output_neurons-1)*output_scale), color='gray', linewidth=0.2))  # thinner line\n",
    "\n",
    "# Add all artists (neurons and connections) to the plot\n",
    "for line in lines:\n",
    "    ax.add_artist(line)\n",
    "for circle in circles:\n",
    "    ax.add_artist(circle)\n",
    "\n",
    "# Set limits and labels\n",
    "ax.set_xlim(-0.5, 2.5)\n",
    "ax.set_ylim(-0.5, max(input_scale, layer1_scale, output_scale) + 0.5)\n",
    "ax.set_xticks([0, 1, 2])\n",
    "ax.set_xticklabels(['Input Layer', 'Layer 1', 'Layer 2'])\n",
    "\n",
    "plt.show()"
   ]
  },
  {
   "cell_type": "code",
   "execution_count": null,
   "id": "565e0fcd",
   "metadata": {},
   "outputs": [],
   "source": []
  }
 ],
 "metadata": {
  "kernelspec": {
   "display_name": "Python 3 (ipykernel)",
   "language": "python",
   "name": "python3"
  },
  "language_info": {
   "codemirror_mode": {
    "name": "ipython",
    "version": 3
   },
   "file_extension": ".py",
   "mimetype": "text/x-python",
   "name": "python",
   "nbconvert_exporter": "python",
   "pygments_lexer": "ipython3",
   "version": "3.12.1"
  }
 },
 "nbformat": 4,
 "nbformat_minor": 5
}
