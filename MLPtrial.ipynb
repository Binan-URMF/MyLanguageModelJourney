{
 "cells": [
  {
   "cell_type": "code",
   "execution_count": 1,
   "id": "c5be17e5-c88b-4fee-8753-8ba5394d2d83",
   "metadata": {},
   "outputs": [
    {
     "data": {
      "text/plain": [
       "['emma',\n",
       " 'olivia',\n",
       " 'ava',\n",
       " 'isabella',\n",
       " 'sophia',\n",
       " 'charlotte',\n",
       " 'mia',\n",
       " 'amelia',\n",
       " 'harper',\n",
       " 'evelyn']"
      ]
     },
     "execution_count": 1,
     "metadata": {},
     "output_type": "execute_result"
    }
   ],
   "source": [
    "import pandas as pd\n",
    "words = open('/Users/ezelbayraktar/Documents/DL-NLP/MyLanguageModelJourney/names.txt','r').read().splitlines()\n",
    "words[:10]"
   ]
  },
  {
   "cell_type": "code",
   "execution_count": 2,
   "id": "c78f6ccb-e00e-4dc7-bd08-8db176b496fe",
   "metadata": {},
   "outputs": [
    {
     "data": {
      "text/plain": [
       "['a',\n",
       " 'b',\n",
       " 'c',\n",
       " 'd',\n",
       " 'e',\n",
       " 'f',\n",
       " 'g',\n",
       " 'h',\n",
       " 'i',\n",
       " 'j',\n",
       " 'k',\n",
       " 'l',\n",
       " 'm',\n",
       " 'n',\n",
       " 'o',\n",
       " 'p',\n",
       " 'q',\n",
       " 'r',\n",
       " 's',\n",
       " 't',\n",
       " 'u',\n",
       " 'v',\n",
       " 'w',\n",
       " 'x',\n",
       " 'y',\n",
       " 'z']"
      ]
     },
     "execution_count": 2,
     "metadata": {},
     "output_type": "execute_result"
    }
   ],
   "source": [
    "#getting chars \n",
    "chars = sorted(list(set(''.join(words))))\n",
    "chars"
   ]
  },
  {
   "cell_type": "code",
   "execution_count": 3,
   "id": "6b21a6b4-3350-4f04-8eee-717f6ae1b195",
   "metadata": {},
   "outputs": [
    {
     "data": {
      "text/plain": [
       "0"
      ]
     },
     "execution_count": 3,
     "metadata": {},
     "output_type": "execute_result"
    }
   ],
   "source": [
    "## implementing a dictionary to enum chars\n",
    "ctoi={}\n",
    "ctoi['.'] = 0\n",
    "i = 1\n",
    "for char in chars:\n",
    "    # i do not check if char is in ctoi since chars is already a set so no dupes\n",
    "    # so it is not possible that char is added to ctos twice\n",
    "    ctoi[char] = i\n",
    "    i+=1\n",
    "ctoi['.']"
   ]
  },
  {
   "cell_type": "code",
   "execution_count": 4,
   "id": "4ff0bb09-b2c0-4353-8970-b52c1a437e4d",
   "metadata": {},
   "outputs": [
    {
     "data": {
      "text/plain": [
       "'.'"
      ]
     },
     "execution_count": 4,
     "metadata": {},
     "output_type": "execute_result"
    }
   ],
   "source": [
    "## implementing a dictionary to char nums\n",
    "\n",
    "## just flipping ctoi since itoc is just the same but with keys and values exchanged\n",
    "itoc = {value: key for key, value in ctoi.items()}\n",
    "itoc[0]"
   ]
  },
  {
   "cell_type": "code",
   "execution_count": 5,
   "id": "7a68f458-03ed-46d8-884c-d4c159b74d4c",
   "metadata": {},
   "outputs": [],
   "source": [
    "## building ...\n",
    "import torch\n",
    "gram = 3\n",
    "X,Y = [],[]\n",
    "for w in words:\n",
    "    #print(w)\n",
    "    grams = [0]*gram\n",
    "    for ch in w+'.':\n",
    "        cai = ctoi[ch] ## cai stands for character as integer\n",
    "        X.append(grams)\n",
    "        Y.append(cai)\n",
    "        #print(itoc[grams[0]],itoc[grams[1]],itoc[grams[2]],\" >> \",itoc[cai])\n",
    "        ##print(ch,cai)\n",
    "        grams = grams[1:] + [cai]\n",
    "\n",
    "X = torch.tensor(X)\n",
    "Y = torch.tensor(Y)"
   ]
  },
  {
   "cell_type": "code",
   "execution_count": 6,
   "id": "d80a8205-a0a5-4a8a-9c0c-37cbf5fa3ea0",
   "metadata": {},
   "outputs": [
    {
     "data": {
      "text/plain": [
       "tensor([[ 0,  0,  0],\n",
       "        [ 0,  0,  5],\n",
       "        [ 0,  5, 13],\n",
       "        ...,\n",
       "        [26, 26, 25],\n",
       "        [26, 25, 26],\n",
       "        [25, 26, 24]])"
      ]
     },
     "execution_count": 6,
     "metadata": {},
     "output_type": "execute_result"
    }
   ],
   "source": [
    "X"
   ]
  },
  {
   "cell_type": "code",
   "execution_count": 7,
   "id": "79143f63-27c4-4957-a958-2854988146be",
   "metadata": {},
   "outputs": [
    {
     "data": {
      "text/plain": [
       "tensor([ 5, 13, 13,  ..., 26, 24,  0])"
      ]
     },
     "execution_count": 7,
     "metadata": {},
     "output_type": "execute_result"
    }
   ],
   "source": [
    "Y"
   ]
  },
  {
   "cell_type": "code",
   "execution_count": 8,
   "id": "61afd382-93e2-444e-9faf-14e3cc933d43",
   "metadata": {},
   "outputs": [
    {
     "data": {
      "text/plain": [
       "(torch.Size([228146, 3]), torch.int64, torch.Size([228146]), torch.int64)"
      ]
     },
     "execution_count": 8,
     "metadata": {},
     "output_type": "execute_result"
    }
   ],
   "source": [
    "X.shape , X.dtype , Y.shape , Y.dtype"
   ]
  },
  {
   "cell_type": "code",
   "execution_count": 9,
   "id": "c057ac80-ef7c-44f9-8e2a-5092ba34a2e6",
   "metadata": {},
   "outputs": [
    {
     "data": {
      "text/plain": [
       "tensor([[-1.3736e+00,  3.9266e-01],\n",
       "        [ 1.0474e+00,  5.9269e-01],\n",
       "        [ 6.2265e-02, -8.5668e-01],\n",
       "        [-2.8596e-01,  2.6313e-01],\n",
       "        [ 1.7229e-01,  2.5927e-01],\n",
       "        [-1.0883e-03, -3.6440e-01],\n",
       "        [-7.4800e-01,  6.9759e-01],\n",
       "        [-2.2528e+00, -2.1919e-01],\n",
       "        [ 7.0076e-01, -1.1138e+00],\n",
       "        [-8.8191e-02, -1.0446e+00],\n",
       "        [-1.3928e+00, -9.6845e-04],\n",
       "        [ 1.2695e+00, -9.9722e-01],\n",
       "        [-9.8367e-02,  7.9659e-01],\n",
       "        [ 1.2109e+00, -2.0763e+00],\n",
       "        [-1.7025e+00,  7.6926e-01],\n",
       "        [-2.0471e-01,  1.9653e-01],\n",
       "        [ 5.4901e-01,  2.1528e+00],\n",
       "        [ 1.4497e+00,  1.7131e+00],\n",
       "        [ 9.5621e-01,  1.9685e+00],\n",
       "        [ 6.2519e-01,  2.4074e-01],\n",
       "        [ 8.3296e-01,  4.6716e-01],\n",
       "        [-3.4052e-01, -3.2161e-01],\n",
       "        [ 3.2996e-01, -1.2689e+00],\n",
       "        [ 8.2533e-02,  6.1379e-01],\n",
       "        [-3.4519e-01, -9.7349e-01],\n",
       "        [-3.5902e-01, -3.3153e-01],\n",
       "        [-5.4774e-01,  5.5413e-01]], device='mps:0')"
      ]
     },
     "execution_count": 9,
     "metadata": {},
     "output_type": "execute_result"
    }
   ],
   "source": [
    "# choosing gpu as computational device if gpu is available\n",
    "# since we are working with small data this step is not necessary indeed\n",
    "# but i own the repo and do whatever i want... just joking doing it for fun im really stressed out\n",
    "\n",
    "\n",
    "# MPS: Metal Performance Shaders --> for Mac devices with M chips\n",
    "# CUDA: For device with cuda support\n",
    "# CPU: General case\n",
    "if torch.cuda.is_available():\n",
    "    device = torch.device(\"cuda\")\n",
    "elif torch.backends.mps.is_available():\n",
    "    device = torch.device(\"mps\")\n",
    "else:\n",
    "    device = torch.device(\"cpu\")\n",
    "Y = Y.to(device)\n",
    "X = X.to(device)\n",
    "\n",
    "generator = torch.Generator(device=device)\n",
    "#seed = 20040324\n",
    "#generator.manual_seed(seed)\n",
    "\n",
    "rows = 27 #  english chars + the dot\n",
    "dimension = 2 # dimensions for each char\n",
    "params = torch.randn(rows, dimension, generator=generator, device=device)\n",
    "params\n",
    "# params are the dimension values our model assigns to characters"
   ]
  },
  {
   "cell_type": "code",
   "execution_count": 10,
   "id": "7919b84e-b7cc-4f0d-a2f3-80a609b1f645",
   "metadata": {},
   "outputs": [
    {
     "data": {
      "text/plain": [
       "tensor([ 0.0623, -0.8567], device='mps:0')"
      ]
     },
     "execution_count": 10,
     "metadata": {},
     "output_type": "execute_result"
    }
   ],
   "source": [
    "## experimenting with indecis\n",
    "params[2]"
   ]
  },
  {
   "cell_type": "code",
   "execution_count": 11,
   "id": "16c1dd3a-636a-48e1-bc07-330b4b8bd240",
   "metadata": {},
   "outputs": [
    {
     "data": {
      "text/plain": [
       "tensor([ 9, 22,  9], device='mps:0')"
      ]
     },
     "execution_count": 11,
     "metadata": {},
     "output_type": "execute_result"
    }
   ],
   "source": [
    "X[10]"
   ]
  },
  {
   "cell_type": "code",
   "execution_count": 12,
   "id": "9ff2f94a-432c-4726-8abc-fe5fc5e60f69",
   "metadata": {},
   "outputs": [
    {
     "data": {
      "text/plain": [
       "tensor([[-0.0882, -1.0446],\n",
       "        [ 0.3300, -1.2689],\n",
       "        [-0.0882, -1.0446]], device='mps:0')"
      ]
     },
     "execution_count": 12,
     "metadata": {},
     "output_type": "execute_result"
    }
   ],
   "source": [
    "params[X[10]]"
   ]
  },
  {
   "cell_type": "code",
   "execution_count": 13,
   "id": "df2b679c-3afb-459d-a59e-9759809dbe20",
   "metadata": {},
   "outputs": [
    {
     "data": {
      "text/plain": [
       "torch.Size([3, 2])"
      ]
     },
     "execution_count": 13,
     "metadata": {},
     "output_type": "execute_result"
    }
   ],
   "source": [
    "params[X[10]].shape"
   ]
  },
  {
   "cell_type": "code",
   "execution_count": 14,
   "id": "251671a0-f5ac-45e5-908c-961d40e9987c",
   "metadata": {},
   "outputs": [
    {
     "data": {
      "text/plain": [
       "torch.Size([228146, 3, 2])"
      ]
     },
     "execution_count": 14,
     "metadata": {},
     "output_type": "execute_result"
    }
   ],
   "source": [
    "params[X].shape"
   ]
  },
  {
   "cell_type": "code",
   "execution_count": 15,
   "id": "7e11a6b9-01e9-4d56-9233-38ed234523a7",
   "metadata": {},
   "outputs": [
    {
     "data": {
      "text/plain": [
       "tensor([[[-1.3736e+00,  3.9266e-01],\n",
       "         [-1.3736e+00,  3.9266e-01],\n",
       "         [-1.3736e+00,  3.9266e-01]],\n",
       "\n",
       "        [[-1.3736e+00,  3.9266e-01],\n",
       "         [-1.3736e+00,  3.9266e-01],\n",
       "         [-1.0883e-03, -3.6440e-01]],\n",
       "\n",
       "        [[-1.3736e+00,  3.9266e-01],\n",
       "         [-1.0883e-03, -3.6440e-01],\n",
       "         [ 1.2109e+00, -2.0763e+00]],\n",
       "\n",
       "        ...,\n",
       "\n",
       "        [[-5.4774e-01,  5.5413e-01],\n",
       "         [-5.4774e-01,  5.5413e-01],\n",
       "         [-3.5902e-01, -3.3153e-01]],\n",
       "\n",
       "        [[-5.4774e-01,  5.5413e-01],\n",
       "         [-3.5902e-01, -3.3153e-01],\n",
       "         [-5.4774e-01,  5.5413e-01]],\n",
       "\n",
       "        [[-3.5902e-01, -3.3153e-01],\n",
       "         [-5.4774e-01,  5.5413e-01],\n",
       "         [-3.4519e-01, -9.7349e-01]]], device='mps:0')"
      ]
     },
     "execution_count": 15,
     "metadata": {},
     "output_type": "execute_result"
    }
   ],
   "source": [
    "# here we still have the gram table actually but each character in each gram is repsrented with dimenstional params\n",
    "params[X]"
   ]
  },
  {
   "cell_type": "code",
   "execution_count": 16,
   "id": "20e9174e-38ee-433d-a389-1b5a139a7b51",
   "metadata": {},
   "outputs": [],
   "source": [
    "emb = params[X]\n"
   ]
  },
  {
   "cell_type": "code",
   "execution_count": 17,
   "id": "e86bc4fd-e10c-4c1f-965c-f89f2aac7b63",
   "metadata": {},
   "outputs": [
    {
     "data": {
      "text/plain": [
       "tensor([[ 0.4057,  0.1224,  0.7896,  ...,  0.5229, -2.4942, -0.9010],\n",
       "        [-0.8378,  0.9826,  1.2608,  ...,  0.3411, -0.3754, -1.1941],\n",
       "        [-0.3678,  1.8012,  0.5007,  ..., -1.2406, -0.9563, -1.8918],\n",
       "        [ 0.7669,  0.0492, -0.7167,  ...,  0.4146, -3.5071, -0.4178],\n",
       "        [-0.1586,  0.3480, -0.3436,  ..., -0.6795, -1.2412, -0.3884],\n",
       "        [-1.1859, -1.6101, -2.1689,  ..., -2.0254, -0.2208,  2.0707]],\n",
       "       device='mps:0')"
      ]
     },
     "execution_count": 17,
     "metadata": {},
     "output_type": "execute_result"
    }
   ],
   "source": [
    "\n",
    "\n",
    "#layer 1\n",
    "inputNumberLayer1 = (params[X].shape)[2]*(params[X].shape)[1] # input nummber is equal to (grams count) * (dimensions)\n",
    "inputNumberLayer1\n",
    "neuronsLayer1 = 200 # matter of choice CAUTION: too much neurons may cause overfitting\n",
    "\n",
    "W1 = torch.randn(inputNumberLayer1, neuronsLayer1, generator=generator, device=device) # first layer's weights\n",
    "W1"
   ]
  },
  {
   "cell_type": "code",
   "execution_count": 18,
   "id": "c2cad3e3-b3c3-4ee8-859a-0c755ffe7767",
   "metadata": {},
   "outputs": [
    {
     "data": {
      "text/plain": [
       "torch.Size([6, 200])"
      ]
     },
     "execution_count": 18,
     "metadata": {},
     "output_type": "execute_result"
    }
   ],
   "source": [
    "W1.shape"
   ]
  },
  {
   "cell_type": "code",
   "execution_count": 19,
   "id": "81f6517b-55b7-4e73-9c31-e37d5ed6cd1a",
   "metadata": {},
   "outputs": [],
   "source": [
    "b1 = torch.randn(200,generator=generator, device=device)"
   ]
  },
  {
   "cell_type": "code",
   "execution_count": 20,
   "id": "a7a715da-9ab3-40dc-9275-abe32106358e",
   "metadata": {},
   "outputs": [
    {
     "data": {
      "text/plain": [
       "(torch.Size([6, 200]), torch.Size([228146, 3, 2]))"
      ]
     },
     "execution_count": 20,
     "metadata": {},
     "output_type": "execute_result"
    }
   ],
   "source": [
    "W1.shape, emb.shape #hmmmm.. problem! cannot matrix multiply because of dimensions not holding"
   ]
  },
  {
   "cell_type": "code",
   "execution_count": 21,
   "id": "2ff8d079-d18b-4631-8284-d4399602e8f8",
   "metadata": {},
   "outputs": [],
   "source": [
    "#->> emb = torch.cat(torch.unbind(emb,1),1)\n",
    "#->> emb\n",
    "## MY EXPLANATION:\n",
    "\n",
    "## here torch.unbind(emb,1) seperates our tensor across the first dimension (columns) and we get three (32,2) tensors. \n",
    "## i was confused when i learned about it at first so here is the explanation. \n",
    "## imagine a cube of 32 rows , 3 columns, and 2 layers(depth) we seperate the cube across columns so we are left with three slices\n",
    "## each of 32 row and 2 depth layers. we concatenate the slices now across the first dimension of each. \n",
    "## here is the key! the first dimension now is what was depth layers before. the 2 is now the columns. so when we contatenate\n",
    "## across the first dimension we combine three two columns to get six columns. the first two are the columns of the first slice\n",
    "## and the depth layers of the first column we had initially.\n",
    "\n",
    "## GPT EDITED EXPLANATION\n",
    "\n",
    "# Imagine 'emb' as a 3D tensor with a shape of (32, 3, 2), where\n",
    "# 32 represents the depth (layers), 3 represents the rows, and 2 represents the columns.\n",
    "\n",
    "# Applying torch.unbind(emb, 1) splits 'emb' across the rows (since 1 indicates rows here),\n",
    "# resulting in 3 tensors, each with a shape of (32, 2) - they have 32 layers (depth) and 2 columns,\n",
    "# but only 1 row because we've split along the rows.\n",
    "\n",
    "# These 3 tensors are like 3 flat sheets from our initial cube:\n",
    "# 1. The first sheet contains the first row from every layer.\n",
    "# 2. The second sheet contains the second row from every layer.\n",
    "# 3. The third sheet contains the third row from every layer.\n",
    "\n",
    "# Now, torch.cat(...) will concatenate these 3 sheets along the first dimension (rows),\n",
    "# effectively stacking them back to form the original structure but now as separate tensors.\n",
    "\n",
    "# After concatenation, we have a tensor that resembles the original 'emb' in shape,\n",
    "# having 32 layers (depth), 3 rows, and 2 columns.\n",
    "# The first dimension now refers to the rows, the second to the layers (depth), and the third to columns.\n",
    "# This reassembled structure maintains the original depth and columns but has reorganized the rows.\n"
   ]
  },
  {
   "cell_type": "code",
   "execution_count": 22,
   "id": "e3f54a92-4e1a-42d9-8942-c7583594a127",
   "metadata": {},
   "outputs": [
    {
     "data": {
      "text/plain": [
       "tensor([[True, True, True, True, True, True],\n",
       "        [True, True, True, True, True, True],\n",
       "        [True, True, True, True, True, True],\n",
       "        ...,\n",
       "        [True, True, True, True, True, True],\n",
       "        [True, True, True, True, True, True],\n",
       "        [True, True, True, True, True, True]], device='mps:0')"
      ]
     },
     "execution_count": 22,
     "metadata": {},
     "output_type": "execute_result"
    }
   ],
   "source": [
    "## ACTUALLY IT IS EASIER TO RESHAPE!! \n",
    "## since all tensors are stored as one dimensional arrays in memory we can just reshape the tensor\n",
    "## but old and new dimensions mul must hold\n",
    "emb.view(X.shape[0],6) == torch.cat(torch.unbind(emb,1),1)"
   ]
  },
  {
   "cell_type": "code",
   "execution_count": 23,
   "id": "e93fec16-bb8e-4c00-b887-f6faa2a02673",
   "metadata": {},
   "outputs": [
    {
     "data": {
      "text/plain": [
       "(torch.Size([228146, 200]),\n",
       " tensor([[ 0.3044, -0.9941, -0.9059,  ...,  0.7740,  0.9999,  0.9998],\n",
       "         [ 0.7592, -0.8385, -0.3219,  ...,  0.9262,  0.9982,  0.9838],\n",
       "         [ 0.9410,  0.9997,  0.9995,  ...,  0.9784,  0.9988, -0.9992],\n",
       "         ...,\n",
       "         [ 0.7747,  0.3464,  0.7021,  ...,  0.8709,  0.4344,  0.0430],\n",
       "         [-0.6273, -0.6826, -0.2500,  ..., -0.7306,  0.9979,  0.9613],\n",
       "         [ 0.9892,  0.5025,  0.8595,  ...,  0.9844,  0.4232, -0.3835]],\n",
       "        device='mps:0'))"
      ]
     },
     "execution_count": 23,
     "metadata": {},
     "output_type": "execute_result"
    }
   ],
   "source": [
    "activation1 = torch.tanh(emb.view(emb.shape[0],emb.shape[1] * emb.shape[2]) @ W1 + b1)\n",
    "activation1.shape,activation1"
   ]
  },
  {
   "cell_type": "code",
   "execution_count": 24,
   "id": "734fca3b-6435-4f0a-bc36-3940c688212f",
   "metadata": {},
   "outputs": [],
   "source": [
    "W2 = torch.randn(200,27,generator=generator, device=device)\n",
    "b2 = torch.randn(27,generator=generator, device=device)"
   ]
  },
  {
   "cell_type": "code",
   "execution_count": 25,
   "id": "d4df5e94-e427-4666-8692-0be9fa7ba7bc",
   "metadata": {},
   "outputs": [],
   "source": [
    "logits = activation1 @ W2 + b2\n",
    "logits.shape\n",
    "logits = logits.to(device)\n"
   ]
  },
  {
   "cell_type": "code",
   "execution_count": 26,
   "id": "c60713c7-e5f7-43ae-98e1-99000b9d78ba",
   "metadata": {},
   "outputs": [],
   "source": [
    "import torch.nn.functional as F\n",
    "\n"
   ]
  },
  {
   "cell_type": "code",
   "execution_count": 27,
   "id": "7feb3f04-5751-49df-a09e-8eeb829b7848",
   "metadata": {},
   "outputs": [],
   "source": [
    "parameters = [params,W1,b1,W2,b2]\n",
    "for p in parameters:\n",
    "    p.requires_grad = True"
   ]
  },
  {
   "cell_type": "code",
   "execution_count": 28,
   "id": "07dfa481-8c6d-4265-92df-758027080155",
   "metadata": {},
   "outputs": [
    {
     "name": "stdout",
     "output_type": "stream",
     "text": [
      "Iteration 0: 26.76344108581543\n",
      "Iteration 100: 3.1476993560791016\n",
      "Iteration 200: 2.7942967414855957\n",
      "Iteration 300: 2.7025485038757324\n",
      "Iteration 400: 2.6607797145843506\n",
      "Iteration 500: 2.6360323429107666\n",
      "Iteration 600: 2.619171380996704\n",
      "Iteration 700: 2.606302261352539\n",
      "Iteration 800: 2.5955100059509277\n",
      "Iteration 900: 2.5858802795410156\n",
      "Time elapsed: 506.509202003479 seconds\n"
     ]
    },
    {
     "data": {
      "image/png": "[encoded data removed]",
      "text/plain": [
       "<Figure size 640x480 with 1 Axes>"
      ]
     },
     "metadata": {},
     "output_type": "display_data"
    }
   ],
   "source": [
    "import time\n",
    "import matplotlib.pyplot as plt\n",
    "\n",
    "# Initialize lists to store loss values and iteration numbers\n",
    "loss_values = []\n",
    "iterations = []\n",
    "\n",
    "# Start the timer\n",
    "start_time = time.time()\n",
    "\n",
    "# Training loop\n",
    "for iter in range(1000):\n",
    "    emb = params[X]\n",
    "    activation1 = torch.tanh(emb.view(emb.shape[0], emb.shape[1] * emb.shape[2]) @ W1 + b1)\n",
    "    logits = activation1 @ W2 + b2\n",
    "    loss = F.cross_entropy(logits, Y)\n",
    "    \n",
    "    # Store loss value and iteration number\n",
    "    loss_values.append(loss.item())\n",
    "    iterations.append(iter)\n",
    "    \n",
    "    if iter % 100 == 0:\n",
    "        print(f'Iteration {iter}: {loss.item()}')\n",
    "    \n",
    "    for p in parameters:\n",
    "        p.grad = None\n",
    "    loss.backward()\n",
    "    for p in parameters:\n",
    "        p.data += -0.1 * p.grad\n",
    "\n",
    "# Print time elapsed\n",
    "end_time = time.time()\n",
    "print(f\"Time elapsed: {end_time - start_time} seconds\")\n",
    "\n",
    "# Plot loss graph\n",
    "plt.plot(iterations, loss_values)\n",
    "plt.xlabel('Iteration')\n",
    "plt.ylabel('Loss')\n",
    "plt.title('Loss vs. Iterations')\n",
    "plt.show()\n"
   ]
  },
  {
   "cell_type": "code",
   "execution_count": 34,
   "id": "19e97820-97d0-4a72-bb4f-57108ea64edc",
   "metadata": {},
   "outputs": [
    {
     "data": {
      "image/png": "[encoded data removed]",
      "text/plain": [
       "<Figure size 640x480 with 1 Axes>"
      ]
     },
     "metadata": {},
     "output_type": "display_data"
    }
   ],
   "source": [
    "# Plot loss graph\n",
    "plt.plot(iterations[900:], loss_values[900:])\n",
    "plt.xlabel('Iteration')\n",
    "plt.ylabel('Loss')\n",
    "plt.title('Loss vs. Iterations')\n",
    "plt.show()"
   ]
  },
  {
   "cell_type": "code",
   "execution_count": null,
   "id": "bffb1e92-1c52-4ab4-93b0-f114f5b3eea9",
   "metadata": {},
   "outputs": [],
   "source": []
  }
 ],
 "metadata": {
  "kernelspec": {
   "display_name": "Python 3 (ipykernel)",
   "language": "python",
   "name": "python3"
  },
  "language_info": {
   "codemirror_mode": {
    "name": "ipython",
    "version": 3
   },
   "file_extension": ".py",
   "mimetype": "text/x-python",
   "name": "python",
   "nbconvert_exporter": "python",
   "pygments_lexer": "ipython3",
   "version": "3.12.1"
  }
 },
 "nbformat": 4,
 "nbformat_minor": 5
}
