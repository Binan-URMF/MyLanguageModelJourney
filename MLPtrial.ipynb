{
 "cells": [
  {
   "cell_type": "code",
   "execution_count": 1,
   "id": "c5be17e5-c88b-4fee-8753-8ba5394d2d83",
   "metadata": {},
   "outputs": [
    {
     "data": {
      "text/plain": [
       "['emma',\n",
       " 'olivia',\n",
       " 'ava',\n",
       " 'isabella',\n",
       " 'sophia',\n",
       " 'charlotte',\n",
       " 'mia',\n",
       " 'amelia',\n",
       " 'harper',\n",
       " 'evelyn']"
      ]
     },
     "execution_count": 1,
     "metadata": {},
     "output_type": "execute_result"
    }
   ],
   "source": [
    "import torch\n",
    "# choosing gpu as computational device if gpu is available\n",
    "# since we are working with small data this step is not necessary indeed\n",
    "# but i own the repo and do whatever i want... just joking doing it for fun im really stressed out\n",
    "\n",
    "\n",
    "# MPS: Metal Performance Shaders --> for Mac devices with M chips\n",
    "# CUDA: For device with cuda support\n",
    "# CPU: General case\n",
    "# if torch.cuda.is_available():\n",
    "#     device = torch.device(\"cuda\")\n",
    "# elif torch.backends.mps.is_available():\n",
    "#     device = torch.device(\"mps\")\n",
    "# else:\n",
    "#     device = torch.device(\"cpu\")\n",
    "    \n",
    "generator = torch.Generator()\n",
    "seed = 20040324\n",
    "generator.manual_seed(seed)\n",
    "\n",
    "words = open('/Users/ezelbayraktar/Documents/DL-NLP/MyLanguageModelJourney/names.txt','r').read().splitlines()\n",
    "words[:10]"
   ]
  },
  {
   "cell_type": "code",
   "execution_count": 2,
   "id": "c78f6ccb-e00e-4dc7-bd08-8db176b496fe",
   "metadata": {},
   "outputs": [
    {
     "data": {
      "text/plain": [
       "['a',\n",
       " 'b',\n",
       " 'c',\n",
       " 'd',\n",
       " 'e',\n",
       " 'f',\n",
       " 'g',\n",
       " 'h',\n",
       " 'i',\n",
       " 'j',\n",
       " 'k',\n",
       " 'l',\n",
       " 'm',\n",
       " 'n',\n",
       " 'o',\n",
       " 'p',\n",
       " 'q',\n",
       " 'r',\n",
       " 's',\n",
       " 't',\n",
       " 'u',\n",
       " 'v',\n",
       " 'w',\n",
       " 'x',\n",
       " 'y',\n",
       " 'z']"
      ]
     },
     "execution_count": 2,
     "metadata": {},
     "output_type": "execute_result"
    }
   ],
   "source": [
    "#getting chars \n",
    "chars = sorted(list(set(''.join(words))))\n",
    "chars"
   ]
  },
  {
   "cell_type": "code",
   "execution_count": 3,
   "id": "6b21a6b4-3350-4f04-8eee-717f6ae1b195",
   "metadata": {},
   "outputs": [
    {
     "data": {
      "text/plain": [
       "0"
      ]
     },
     "execution_count": 3,
     "metadata": {},
     "output_type": "execute_result"
    }
   ],
   "source": [
    "## implementing a dictionary to enum chars\n",
    "ctoi={}\n",
    "ctoi['.'] = 0\n",
    "i = 1\n",
    "for char in chars:\n",
    "    # i do not check if char is in ctoi since chars is already a set so no dupes\n",
    "    # so it is not possible that char is added to ctos twice\n",
    "    ctoi[char] = i\n",
    "    i+=1\n",
    "ctoi['.']"
   ]
  },
  {
   "cell_type": "code",
   "execution_count": 4,
   "id": "4ff0bb09-b2c0-4353-8970-b52c1a437e4d",
   "metadata": {},
   "outputs": [
    {
     "data": {
      "text/plain": [
       "'.'"
      ]
     },
     "execution_count": 4,
     "metadata": {},
     "output_type": "execute_result"
    }
   ],
   "source": [
    "## implementing a dictionary to char nums\n",
    "\n",
    "## just flipping ctoi since itoc is just the same but with keys and values exchanged\n",
    "itoc = {value: key for key, value in ctoi.items()}\n",
    "itoc[0]"
   ]
  },
  {
   "cell_type": "code",
   "execution_count": 5,
   "id": "7a68f458-03ed-46d8-884c-d4c159b74d4c",
   "metadata": {},
   "outputs": [],
   "source": [
    "## building ...\n",
    "import torch\n",
    "gram = 3\n",
    "X,Y = [],[]\n",
    "for w in words:\n",
    "    #print(w)\n",
    "    grams = [0]*gram\n",
    "    for ch in w+'.':\n",
    "        cai = ctoi[ch] ## cai stands for character as integer\n",
    "        X.append(grams)\n",
    "        Y.append(cai)\n",
    "        #print(itoc[grams[0]],itoc[grams[1]],itoc[grams[2]],\" >> \",itoc[cai])\n",
    "        ##print(ch,cai)\n",
    "        grams = grams[1:] + [cai]\n",
    "\n",
    "X = torch.tensor(X)\n",
    "Y = torch.tensor(Y)"
   ]
  },
  {
   "cell_type": "code",
   "execution_count": 6,
   "id": "1d1e2968-664f-40fe-aca4-b590bad1b3d6",
   "metadata": {},
   "outputs": [
    {
     "data": {
      "text/plain": [
       "tensor([185845,  97520,  19937,  ..., 179664,   5743, 201061])"
      ]
     },
     "execution_count": 6,
     "metadata": {},
     "output_type": "execute_result"
    }
   ],
   "source": [
    "data_size = X.shape[0]\n",
    "data_random_indices = torch.randperm(data_size)\n",
    "data_random_indices"
   ]
  },
  {
   "cell_type": "code",
   "execution_count": 7,
   "id": "d80a8205-a0a5-4a8a-9c0c-37cbf5fa3ea0",
   "metadata": {},
   "outputs": [],
   "source": [
    "train_size = 0.8\n",
    "#train_indices_of_rows = torch.randint(0, data_size ,data_size * train_size, generator=generator)\n",
    "train_indices_of_rows = data_random_indices[:int(train_size*data_size)]\n",
    "X_train = X[train_indices_of_rows]\n",
    "Y_train = Y[train_indices_of_rows]"
   ]
  },
  {
   "cell_type": "code",
   "execution_count": 8,
   "id": "72cdc2ed-bf39-499c-8714-42f3131c9cc5",
   "metadata": {},
   "outputs": [],
   "source": [
    "validation_size = 0.1\n",
    "#validation_indices_of_rows = torch.randint(0, data_size ,data_size * validation_size, generator=generator)\n",
    "validation_indices_of_rows = data_random_indices[int(train_size*data_size):int((validation_size+train_size)*data_size)]\n",
    "X_valid = X[validation_indices_of_rows]\n",
    "Y_valid = Y[validation_indices_of_rows]"
   ]
  },
  {
   "cell_type": "code",
   "execution_count": 9,
   "id": "e95aaa74-59f4-489d-865b-14e406dfa201",
   "metadata": {},
   "outputs": [],
   "source": [
    "evaluation_size = 0.1\n",
    "#evalutation_indices_of_rows = torch.randint(0, data_size ,data_size * evaluation_size, generator=generator)\n",
    "evalutation_indices_of_rows = data_random_indices[int((validation_size+train_size)*data_size):]\n",
    "X_eval = X[evalutation_indices_of_rows]\n",
    "Y_eval = Y[evalutation_indices_of_rows]"
   ]
  },
  {
   "cell_type": "code",
   "execution_count": 10,
   "id": "7bc77328-2271-455d-9ba4-d96a184bd1ff",
   "metadata": {},
   "outputs": [
    {
     "name": "stdout",
     "output_type": "stream",
     "text": [
      "Shapes:\n",
      "X_train: torch.Size([182516, 3])\n",
      "Y_train: torch.Size([182516])\n",
      "X_valid: torch.Size([22815, 3])\n",
      "Y_valid: torch.Size([22815])\n",
      "X_eval: torch.Size([22815, 3])\n",
      "Y_eval: torch.Size([22815])\n"
     ]
    }
   ],
   "source": [
    "\n",
    "# Print shapes\n",
    "print(\"Shapes:\")\n",
    "print(f\"X_train: {X_train.shape}\")\n",
    "print(f\"Y_train: {Y_train.shape}\")\n",
    "print(f\"X_valid: {X_valid.shape}\")\n",
    "print(f\"Y_valid: {Y_valid.shape}\")\n",
    "print(f\"X_eval: {X_eval.shape}\")\n",
    "print(f\"Y_eval: {Y_eval.shape}\")\n",
    "\n"
   ]
  },
  {
   "cell_type": "code",
   "execution_count": 11,
   "id": "c057ac80-ef7c-44f9-8e2a-5092ba34a2e6",
   "metadata": {},
   "outputs": [
    {
     "data": {
      "text/plain": [
       "tensor([[ 0.0683, -0.3570, -0.4303, -0.2795,  1.1312, -0.0754, -2.0496,  0.7462,\n",
       "         -0.1661, -0.0568],\n",
       "        [-1.1872, -0.8173,  1.4278, -0.3219, -0.1768, -0.1670, -0.2226,  0.5139,\n",
       "          0.6991,  0.7423],\n",
       "        [-1.0318,  0.6355, -0.7301, -1.0503, -0.4305, -0.2259,  0.3296,  2.2490,\n",
       "         -0.1233, -0.3759],\n",
       "        [ 0.3918, -0.6880,  0.3937,  0.3894, -0.8212, -0.5815, -1.5138, -0.6488,\n",
       "          1.4601,  0.0655],\n",
       "        [ 0.1458, -0.2901,  0.2604, -0.2802,  0.3193, -1.5792,  0.4424,  0.1094,\n",
       "          0.6861,  1.0459],\n",
       "        [ 0.8097, -1.3159,  1.3181, -1.1194, -2.4727,  0.1153,  0.0430, -0.7017,\n",
       "          0.6018, -0.8158],\n",
       "        [-0.1015,  0.0766, -0.0466, -0.4807,  0.2152, -0.6514, -1.0142, -1.9668,\n",
       "         -0.6928,  0.3195],\n",
       "        [ 0.8701, -0.6555, -0.8817, -1.7050,  1.4939, -0.7213,  0.9808, -0.9988,\n",
       "         -0.2021, -0.1600],\n",
       "        [ 1.5585,  2.1921,  0.3221, -0.6525,  0.1620, -0.1199,  1.5351,  0.8613,\n",
       "          1.8042,  1.8288],\n",
       "        [-1.0050, -0.4491, -0.9979, -0.2308, -0.1013,  0.3158,  1.9556,  0.0208,\n",
       "         -0.4650, -1.7135],\n",
       "        [-2.3093, -1.6896,  0.5714, -0.7198,  0.5928, -0.9738,  0.3870,  0.3217,\n",
       "         -0.2334,  1.0441],\n",
       "        [ 1.2642,  1.2366,  2.7692,  1.2703,  0.4804, -0.9055, -1.2094,  0.0069,\n",
       "          0.9244, -1.4515],\n",
       "        [ 0.5414, -0.7982, -0.5648,  0.8099, -0.7478, -0.4848,  0.1397,  0.5045,\n",
       "          0.0047, -0.0572],\n",
       "        [ 0.4684, -1.2707, -0.2099,  0.4135,  1.3979, -0.3133, -0.1080, -0.1080,\n",
       "         -0.3437, -0.1431],\n",
       "        [ 0.4086,  1.0973,  0.5590,  0.1255, -1.4341, -0.8147,  0.3045,  0.9520,\n",
       "          0.6481,  1.6828],\n",
       "        [ 0.3212, -0.2003, -0.3665,  0.4273,  1.3735, -1.4753,  0.8670,  1.4481,\n",
       "         -2.5547,  0.6391],\n",
       "        [-0.5929,  0.2512, -1.0014, -0.1596, -0.2715, -1.4990, -1.2749,  0.9080,\n",
       "         -0.5680,  1.0701],\n",
       "        [-0.8429, -0.1479,  0.8614, -1.2471,  0.7095,  0.5657,  0.6627,  1.3559,\n",
       "          0.0506,  1.7209],\n",
       "        [-0.0144,  0.0728,  0.5373, -1.2918, -0.6121,  0.1198,  0.5702,  1.4170,\n",
       "         -1.5034, -0.1059],\n",
       "        [-1.0060,  0.4899,  0.5741, -1.4172,  0.3496, -1.6555, -0.8410,  1.2594,\n",
       "          1.4730,  0.4660],\n",
       "        [ 2.1403, -1.1784, -2.0364,  0.5879,  0.2471, -0.1400, -0.3059,  0.0189,\n",
       "          0.3835,  1.4601],\n",
       "        [ 1.6477, -1.3483,  0.6076, -1.6063,  0.0091, -0.2440,  0.0994, -1.9847,\n",
       "          0.0390, -0.2897],\n",
       "        [-0.2656,  0.6540, -0.0875,  0.3526,  0.7936, -1.3831,  0.5599,  0.9693,\n",
       "         -0.8438,  0.2131],\n",
       "        [-0.6918, -0.9175,  0.5409,  0.5656, -0.8712,  0.2513,  0.1200, -0.4325,\n",
       "          0.5229, -1.1535],\n",
       "        [-0.0213, -1.1687, -0.1011,  0.7798,  0.5645, -0.6947,  2.2793,  0.4503,\n",
       "          0.0961,  0.3007],\n",
       "        [ 1.2350, -1.1325, -1.1650,  0.3695, -0.4136, -1.2870,  0.0117, -0.3953,\n",
       "          1.3377,  0.3334],\n",
       "        [ 0.0643, -1.8099,  0.9281,  0.1966, -0.6316,  0.0201, -2.2331, -0.3422,\n",
       "          0.2602, -0.1008]])"
      ]
     },
     "execution_count": 11,
     "metadata": {},
     "output_type": "execute_result"
    }
   ],
   "source": [
    "# X_train = X_train.to(device)\n",
    "# Y_train = Y_train.to(device)\n",
    "# X_valid = X_valid.to(device)\n",
    "# Y_valid = Y_valid.to(device)\n",
    "# X_eval = X_eval.to(device)\n",
    "# Y_eval = Y_eval.to(device)\n",
    "\n",
    "\n",
    "rows = 27 #  english chars + the dot\n",
    "dimension = 10 # dimensions for each char\n",
    "dimensions = torch.randn(rows, dimension, generator=generator)\n",
    "dimensions\n",
    "# params are the dimension values our model assigns to characters"
   ]
  },
  {
   "cell_type": "code",
   "execution_count": 12,
   "id": "251671a0-f5ac-45e5-908c-961d40e9987c",
   "metadata": {},
   "outputs": [
    {
     "data": {
      "text/plain": [
       "torch.Size([228146, 3, 10])"
      ]
     },
     "execution_count": 12,
     "metadata": {},
     "output_type": "execute_result"
    }
   ],
   "source": [
    "dimensions[X].shape"
   ]
  },
  {
   "cell_type": "code",
   "execution_count": 13,
   "id": "7e11a6b9-01e9-4d56-9233-38ed234523a7",
   "metadata": {},
   "outputs": [
    {
     "data": {
      "text/plain": [
       "tensor([[[ 0.0683, -0.3570, -0.4303,  ...,  0.7462, -0.1661, -0.0568],\n",
       "         [ 0.0683, -0.3570, -0.4303,  ...,  0.7462, -0.1661, -0.0568],\n",
       "         [ 0.0683, -0.3570, -0.4303,  ...,  0.7462, -0.1661, -0.0568]],\n",
       "\n",
       "        [[ 0.0683, -0.3570, -0.4303,  ...,  0.7462, -0.1661, -0.0568],\n",
       "         [ 0.0683, -0.3570, -0.4303,  ...,  0.7462, -0.1661, -0.0568],\n",
       "         [ 0.8097, -1.3159,  1.3181,  ..., -0.7017,  0.6018, -0.8158]],\n",
       "\n",
       "        [[ 0.0683, -0.3570, -0.4303,  ...,  0.7462, -0.1661, -0.0568],\n",
       "         [ 0.8097, -1.3159,  1.3181,  ..., -0.7017,  0.6018, -0.8158],\n",
       "         [ 0.4684, -1.2707, -0.2099,  ..., -0.1080, -0.3437, -0.1431]],\n",
       "\n",
       "        ...,\n",
       "\n",
       "        [[ 0.0643, -1.8099,  0.9281,  ..., -0.3422,  0.2602, -0.1008],\n",
       "         [ 0.0643, -1.8099,  0.9281,  ..., -0.3422,  0.2602, -0.1008],\n",
       "         [ 1.2350, -1.1325, -1.1650,  ..., -0.3953,  1.3377,  0.3334]],\n",
       "\n",
       "        [[ 0.0643, -1.8099,  0.9281,  ..., -0.3422,  0.2602, -0.1008],\n",
       "         [ 1.2350, -1.1325, -1.1650,  ..., -0.3953,  1.3377,  0.3334],\n",
       "         [ 0.0643, -1.8099,  0.9281,  ..., -0.3422,  0.2602, -0.1008]],\n",
       "\n",
       "        [[ 1.2350, -1.1325, -1.1650,  ..., -0.3953,  1.3377,  0.3334],\n",
       "         [ 0.0643, -1.8099,  0.9281,  ..., -0.3422,  0.2602, -0.1008],\n",
       "         [-0.0213, -1.1687, -0.1011,  ...,  0.4503,  0.0961,  0.3007]]])"
      ]
     },
     "execution_count": 13,
     "metadata": {},
     "output_type": "execute_result"
    }
   ],
   "source": [
    "# here we still have the gram table actually but each character in each gram is repsrented with dimenstional params\n",
    "#->> dimensions[X]\n",
    "embedded = dimensions[X] \n",
    "embedded"
   ]
  },
  {
   "cell_type": "code",
   "execution_count": 14,
   "id": "5c0a59af-316c-4259-ab20-e96fd69af6fd",
   "metadata": {},
   "outputs": [],
   "source": [
    "class layer():\n",
    "    def __init__(self, input_size, output_size):\n",
    "        self.weights = torch.randn(input_size, output_size, requires_grad=True, generator=generator)\n",
    "        self.bias = torch.randn(output_size, requires_grad=True, generator=generator)\n",
    "        \n",
    "    def __call__(self, x):\n",
    "        return torch.tanh(x @ self.weights + self.bias)\n",
    "    \n",
    "    def parameters(self):\n",
    "        return [self.weights, self.bias]\n",
    "    \n",
    "    def zero_grad(self):\n",
    "        self.weights.grad = None\n",
    "        self.bias.grad = None"
   ]
  },
  {
   "cell_type": "code",
   "execution_count": 15,
   "id": "734fca3b-6435-4f0a-bc36-3940c688212f",
   "metadata": {},
   "outputs": [],
   "source": [
    "# inputNumberLayer1 = (embedded.shape)[2]*(embedded.shape)[1] # input nummber is equal to (grams count) * (dimensions)\n",
    "# neuronsLayer1 = 200 # matter of choice CAUTION: too much neurons may cause overfitting\n",
    "\n",
    "# W1 = torch.randn(inputNumberLayer1, neuronsLayer1, generator=generator, device=device) # first layer's weights\n",
    "# b1 = torch.randn(200,generator=generator, device=device)\n",
    "\n",
    "# activation1 = torch.tanh(emb.view(emb.shape[0],emb.shape[1] * emb.shape[2]) @ W1 + b1)\n",
    "\n",
    "# W2 = torch.randn(200,27,generator=generator, device=device)\n",
    "# b2 = torch.randn(27,generator=generator, device=device)\n",
    "\n",
    "# activation2 = torch.tanh(activation1 @ W2 + b2)\n",
    "\n",
    "# W3 = torch.randn(140,27,generator=generator, device=device)\n",
    "# b3 = torch.randn(27,generator=generator, device=device)\n",
    "\n",
    "# activation3 = torch.tanh(activation2 @ W3 + b3)\n",
    "\n",
    "# W4 = torch.randn(90,27,generator=generator, device=device)\n",
    "# b4 = torch.randn(27,generator=generator, device=device)\n",
    "\n",
    "# activation3 = torch.tanh(activation2 @ W4 + b4)\n",
    "fi = gram*dimension\n",
    "layer1 = layer(fi, 100)\n",
    "layer2 = layer(100, 27)\n",
    "\n",
    "layers = [layer1, layer2]\n"
   ]
  },
  {
   "cell_type": "code",
   "execution_count": 16,
   "id": "5b94445d-bf02-4789-86b5-6c16bfcce55e",
   "metadata": {},
   "outputs": [
    {
     "data": {
      "text/plain": [
       "tensor([0.0010, 0.0010, 0.0010, 0.0010, 0.0010, 0.0010, 0.0010, 0.0010, 0.0011,\n",
       "        0.0011, 0.0011, 0.0011, 0.0011, 0.0011, 0.0011, 0.0011, 0.0011, 0.0011,\n",
       "        0.0011, 0.0011, 0.0011, 0.0012, 0.0012, 0.0012, 0.0012, 0.0012, 0.0012,\n",
       "        0.0012, 0.0012, 0.0012, 0.0012, 0.0012, 0.0012, 0.0013, 0.0013, 0.0013,\n",
       "        0.0013, 0.0013, 0.0013, 0.0013, 0.0013, 0.0013, 0.0013, 0.0013, 0.0014,\n",
       "        0.0014, 0.0014, 0.0014, 0.0014, 0.0014, 0.0014, 0.0014, 0.0014, 0.0014,\n",
       "        0.0015, 0.0015, 0.0015, 0.0015, 0.0015, 0.0015, 0.0015, 0.0015, 0.0015,\n",
       "        0.0015, 0.0016, 0.0016, 0.0016, 0.0016, 0.0016, 0.0016, 0.0016, 0.0016,\n",
       "        0.0016, 0.0017, 0.0017, 0.0017, 0.0017, 0.0017, 0.0017, 0.0017, 0.0017,\n",
       "        0.0018, 0.0018, 0.0018, 0.0018, 0.0018, 0.0018, 0.0018, 0.0018, 0.0019,\n",
       "        0.0019, 0.0019, 0.0019, 0.0019, 0.0019, 0.0019, 0.0019, 0.0020, 0.0020,\n",
       "        0.0020, 0.0020, 0.0020, 0.0020, 0.0020, 0.0021, 0.0021, 0.0021, 0.0021,\n",
       "        0.0021, 0.0021, 0.0021, 0.0022, 0.0022, 0.0022, 0.0022, 0.0022, 0.0022,\n",
       "        0.0022, 0.0023, 0.0023, 0.0023, 0.0023, 0.0023, 0.0023, 0.0024, 0.0024,\n",
       "        0.0024, 0.0024, 0.0024, 0.0024, 0.0025, 0.0025, 0.0025, 0.0025, 0.0025,\n",
       "        0.0025, 0.0026, 0.0026, 0.0026, 0.0026, 0.0026, 0.0027, 0.0027, 0.0027,\n",
       "        0.0027, 0.0027, 0.0027, 0.0028, 0.0028, 0.0028, 0.0028, 0.0028, 0.0029,\n",
       "        0.0029, 0.0029, 0.0029, 0.0029, 0.0030, 0.0030, 0.0030, 0.0030, 0.0030,\n",
       "        0.0031, 0.0031, 0.0031, 0.0031, 0.0032, 0.0032, 0.0032, 0.0032, 0.0032,\n",
       "        0.0033, 0.0033, 0.0033, 0.0033, 0.0034, 0.0034, 0.0034, 0.0034, 0.0034,\n",
       "        0.0035, 0.0035, 0.0035, 0.0035, 0.0036, 0.0036, 0.0036, 0.0036, 0.0037,\n",
       "        0.0037, 0.0037, 0.0037, 0.0038, 0.0038, 0.0038, 0.0039, 0.0039, 0.0039,\n",
       "        0.0039, 0.0040, 0.0040, 0.0040, 0.0040, 0.0041, 0.0041, 0.0041, 0.0042,\n",
       "        0.0042, 0.0042, 0.0042, 0.0043, 0.0043, 0.0043, 0.0044, 0.0044, 0.0044,\n",
       "        0.0045, 0.0045, 0.0045, 0.0045, 0.0046, 0.0046, 0.0046, 0.0047, 0.0047,\n",
       "        0.0047, 0.0048, 0.0048, 0.0048, 0.0049, 0.0049, 0.0049, 0.0050, 0.0050,\n",
       "        0.0050, 0.0051, 0.0051, 0.0051, 0.0052, 0.0052, 0.0053, 0.0053, 0.0053,\n",
       "        0.0054, 0.0054, 0.0054, 0.0055, 0.0055, 0.0056, 0.0056, 0.0056, 0.0057,\n",
       "        0.0057, 0.0058, 0.0058, 0.0058, 0.0059, 0.0059, 0.0060, 0.0060, 0.0060,\n",
       "        0.0061, 0.0061, 0.0062, 0.0062, 0.0062, 0.0063, 0.0063, 0.0064, 0.0064,\n",
       "        0.0065, 0.0065, 0.0066, 0.0066, 0.0067, 0.0067, 0.0067, 0.0068, 0.0068,\n",
       "        0.0069, 0.0069, 0.0070, 0.0070, 0.0071, 0.0071, 0.0072, 0.0072, 0.0073,\n",
       "        0.0073, 0.0074, 0.0074, 0.0075, 0.0075, 0.0076, 0.0076, 0.0077, 0.0077,\n",
       "        0.0078, 0.0079, 0.0079, 0.0080, 0.0080, 0.0081, 0.0081, 0.0082, 0.0082,\n",
       "        0.0083, 0.0084, 0.0084, 0.0085, 0.0085, 0.0086, 0.0086, 0.0087, 0.0088,\n",
       "        0.0088, 0.0089, 0.0090, 0.0090, 0.0091, 0.0091, 0.0092, 0.0093, 0.0093,\n",
       "        0.0094, 0.0095, 0.0095, 0.0096, 0.0097, 0.0097, 0.0098, 0.0099, 0.0099,\n",
       "        0.0100, 0.0101, 0.0101, 0.0102, 0.0103, 0.0104, 0.0104, 0.0105, 0.0106,\n",
       "        0.0106, 0.0107, 0.0108, 0.0109, 0.0109, 0.0110, 0.0111, 0.0112, 0.0112,\n",
       "        0.0113, 0.0114, 0.0115, 0.0116, 0.0116, 0.0117, 0.0118, 0.0119, 0.0120,\n",
       "        0.0121, 0.0121, 0.0122, 0.0123, 0.0124, 0.0125, 0.0126, 0.0127, 0.0127,\n",
       "        0.0128, 0.0129, 0.0130, 0.0131, 0.0132, 0.0133, 0.0134, 0.0135, 0.0136,\n",
       "        0.0137, 0.0137, 0.0138, 0.0139, 0.0140, 0.0141, 0.0142, 0.0143, 0.0144,\n",
       "        0.0145, 0.0146, 0.0147, 0.0148, 0.0149, 0.0150, 0.0151, 0.0152, 0.0154,\n",
       "        0.0155, 0.0156, 0.0157, 0.0158, 0.0159, 0.0160, 0.0161, 0.0162, 0.0163,\n",
       "        0.0165, 0.0166, 0.0167, 0.0168, 0.0169, 0.0170, 0.0171, 0.0173, 0.0174,\n",
       "        0.0175, 0.0176, 0.0178, 0.0179, 0.0180, 0.0181, 0.0182, 0.0184, 0.0185,\n",
       "        0.0186, 0.0188, 0.0189, 0.0190, 0.0192, 0.0193, 0.0194, 0.0196, 0.0197,\n",
       "        0.0198, 0.0200, 0.0201, 0.0202, 0.0204, 0.0205, 0.0207, 0.0208, 0.0210,\n",
       "        0.0211, 0.0212, 0.0214, 0.0215, 0.0217, 0.0218, 0.0220, 0.0221, 0.0223,\n",
       "        0.0225, 0.0226, 0.0228, 0.0229, 0.0231, 0.0232, 0.0234, 0.0236, 0.0237,\n",
       "        0.0239, 0.0241, 0.0242, 0.0244, 0.0246, 0.0247, 0.0249, 0.0251, 0.0253,\n",
       "        0.0254, 0.0256, 0.0258, 0.0260, 0.0261, 0.0263, 0.0265, 0.0267, 0.0269,\n",
       "        0.0271, 0.0273, 0.0274, 0.0276, 0.0278, 0.0280, 0.0282, 0.0284, 0.0286,\n",
       "        0.0288, 0.0290, 0.0292, 0.0294, 0.0296, 0.0298, 0.0300, 0.0302, 0.0304,\n",
       "        0.0307, 0.0309, 0.0311, 0.0313, 0.0315, 0.0317, 0.0320, 0.0322, 0.0324,\n",
       "        0.0326, 0.0328, 0.0331, 0.0333, 0.0335, 0.0338, 0.0340, 0.0342, 0.0345,\n",
       "        0.0347, 0.0350, 0.0352, 0.0354, 0.0357, 0.0359, 0.0362, 0.0364, 0.0367,\n",
       "        0.0369, 0.0372, 0.0375, 0.0377, 0.0380, 0.0382, 0.0385, 0.0388, 0.0390,\n",
       "        0.0393, 0.0396, 0.0399, 0.0401, 0.0404, 0.0407, 0.0410, 0.0413, 0.0416,\n",
       "        0.0418, 0.0421, 0.0424, 0.0427, 0.0430, 0.0433, 0.0436, 0.0439, 0.0442,\n",
       "        0.0445, 0.0448, 0.0451, 0.0455, 0.0458, 0.0461, 0.0464, 0.0467, 0.0471,\n",
       "        0.0474, 0.0477, 0.0480, 0.0484, 0.0487, 0.0491, 0.0494, 0.0497, 0.0501,\n",
       "        0.0504, 0.0508, 0.0511, 0.0515, 0.0518, 0.0522, 0.0526, 0.0529, 0.0533,\n",
       "        0.0537, 0.0540, 0.0544, 0.0548, 0.0552, 0.0556, 0.0559, 0.0563, 0.0567,\n",
       "        0.0571, 0.0575, 0.0579, 0.0583, 0.0587, 0.0591, 0.0595, 0.0599, 0.0604,\n",
       "        0.0608, 0.0612, 0.0616, 0.0621, 0.0625, 0.0629, 0.0634, 0.0638, 0.0642,\n",
       "        0.0647, 0.0651, 0.0656, 0.0660, 0.0665, 0.0670, 0.0674, 0.0679, 0.0684,\n",
       "        0.0688, 0.0693, 0.0698, 0.0703, 0.0708, 0.0713, 0.0718, 0.0723, 0.0728,\n",
       "        0.0733, 0.0738, 0.0743, 0.0748, 0.0753, 0.0758, 0.0764, 0.0769, 0.0774,\n",
       "        0.0780, 0.0785, 0.0790, 0.0796, 0.0802, 0.0807, 0.0813, 0.0818, 0.0824,\n",
       "        0.0830, 0.0835, 0.0841, 0.0847, 0.0853, 0.0859, 0.0865, 0.0871, 0.0877,\n",
       "        0.0883, 0.0889, 0.0895, 0.0901, 0.0908, 0.0914, 0.0920, 0.0927, 0.0933,\n",
       "        0.0940, 0.0946, 0.0953, 0.0959, 0.0966, 0.0973, 0.0979, 0.0986, 0.0993,\n",
       "        0.1000, 0.1007, 0.1014, 0.1021, 0.1028, 0.1035, 0.1042, 0.1050, 0.1057,\n",
       "        0.1064, 0.1072, 0.1079, 0.1087, 0.1094, 0.1102, 0.1109, 0.1117, 0.1125,\n",
       "        0.1133, 0.1140, 0.1148, 0.1156, 0.1164, 0.1172, 0.1181, 0.1189, 0.1197,\n",
       "        0.1205, 0.1214, 0.1222, 0.1231, 0.1239, 0.1248, 0.1256, 0.1265, 0.1274,\n",
       "        0.1283, 0.1292, 0.1301, 0.1310, 0.1319, 0.1328, 0.1337, 0.1346, 0.1356,\n",
       "        0.1365, 0.1374, 0.1384, 0.1394, 0.1403, 0.1413, 0.1423, 0.1433, 0.1443,\n",
       "        0.1453, 0.1463, 0.1473, 0.1483, 0.1493, 0.1504, 0.1514, 0.1525, 0.1535,\n",
       "        0.1546, 0.1557, 0.1567, 0.1578, 0.1589, 0.1600, 0.1611, 0.1623, 0.1634,\n",
       "        0.1645, 0.1657, 0.1668, 0.1680, 0.1691, 0.1703, 0.1715, 0.1727, 0.1739,\n",
       "        0.1751, 0.1763, 0.1775, 0.1788, 0.1800, 0.1812, 0.1825, 0.1838, 0.1850,\n",
       "        0.1863, 0.1876, 0.1889, 0.1902, 0.1916, 0.1929, 0.1942, 0.1956, 0.1969,\n",
       "        0.1983, 0.1997, 0.2010, 0.2024, 0.2038, 0.2053, 0.2067, 0.2081, 0.2096,\n",
       "        0.2110, 0.2125, 0.2140, 0.2154, 0.2169, 0.2184, 0.2200, 0.2215, 0.2230,\n",
       "        0.2246, 0.2261, 0.2277, 0.2293, 0.2309, 0.2325, 0.2341, 0.2357, 0.2373,\n",
       "        0.2390, 0.2406, 0.2423, 0.2440, 0.2457, 0.2474, 0.2491, 0.2508, 0.2526,\n",
       "        0.2543, 0.2561, 0.2579, 0.2597, 0.2615, 0.2633, 0.2651, 0.2669, 0.2688,\n",
       "        0.2707, 0.2725, 0.2744, 0.2763, 0.2783, 0.2802, 0.2821, 0.2841, 0.2861,\n",
       "        0.2880, 0.2900, 0.2921, 0.2941, 0.2961, 0.2982, 0.3002, 0.3023, 0.3044,\n",
       "        0.3065, 0.3087, 0.3108, 0.3130, 0.3151, 0.3173, 0.3195, 0.3217, 0.3240,\n",
       "        0.3262, 0.3285, 0.3308, 0.3331, 0.3354, 0.3377, 0.3400, 0.3424, 0.3448,\n",
       "        0.3472, 0.3496, 0.3520, 0.3544, 0.3569, 0.3594, 0.3619, 0.3644, 0.3669,\n",
       "        0.3695, 0.3720, 0.3746, 0.3772, 0.3798, 0.3825, 0.3851, 0.3878, 0.3905,\n",
       "        0.3932, 0.3959, 0.3987, 0.4014, 0.4042, 0.4070, 0.4098, 0.4127, 0.4155,\n",
       "        0.4184, 0.4213, 0.4243, 0.4272, 0.4302, 0.4331, 0.4362, 0.4392, 0.4422,\n",
       "        0.4453, 0.4484, 0.4515, 0.4546, 0.4578, 0.4610, 0.4642, 0.4674, 0.4706,\n",
       "        0.4739, 0.4772, 0.4805, 0.4838, 0.4872, 0.4906, 0.4940, 0.4974, 0.5008,\n",
       "        0.5043, 0.5078, 0.5113, 0.5149, 0.5185, 0.5221, 0.5257, 0.5293, 0.5330,\n",
       "        0.5367, 0.5404, 0.5442, 0.5479, 0.5517, 0.5556, 0.5594, 0.5633, 0.5672,\n",
       "        0.5712, 0.5751, 0.5791, 0.5831, 0.5872, 0.5913, 0.5954, 0.5995, 0.6036,\n",
       "        0.6078, 0.6120, 0.6163, 0.6206, 0.6249, 0.6292, 0.6336, 0.6380, 0.6424,\n",
       "        0.6469, 0.6513, 0.6559, 0.6604, 0.6650, 0.6696, 0.6743, 0.6789, 0.6837,\n",
       "        0.6884, 0.6932, 0.6980, 0.7028, 0.7077, 0.7126, 0.7176, 0.7225, 0.7275,\n",
       "        0.7326, 0.7377, 0.7428, 0.7480, 0.7531, 0.7584, 0.7636, 0.7689, 0.7743,\n",
       "        0.7796, 0.7850, 0.7905, 0.7960, 0.8015, 0.8071, 0.8127, 0.8183, 0.8240,\n",
       "        0.8297, 0.8355, 0.8412, 0.8471, 0.8530, 0.8589, 0.8648, 0.8708, 0.8769,\n",
       "        0.8830, 0.8891, 0.8953, 0.9015, 0.9077, 0.9140, 0.9204, 0.9268, 0.9332,\n",
       "        0.9397, 0.9462, 0.9528, 0.9594, 0.9660, 0.9727, 0.9795, 0.9863, 0.9931,\n",
       "        1.0000])"
      ]
     },
     "execution_count": 16,
     "metadata": {},
     "output_type": "execute_result"
    }
   ],
   "source": [
    "lr = torch.linspace(-3,0,1000)\n",
    "lre = 10 ** lr\n",
    "lre"
   ]
  },
  {
   "cell_type": "code",
   "execution_count": 17,
   "id": "67d6f801-42c1-49c9-8216-acce58b3aca0",
   "metadata": {},
   "outputs": [
    {
     "data": {
      "text/plain": [
       "torch.Size([228146, 3, 10])"
      ]
     },
     "execution_count": 17,
     "metadata": {},
     "output_type": "execute_result"
    }
   ],
   "source": [
    "# WE NEED TO RESHAPE DIMENSIONS SO MATRIX MULTIPLICATION GETS TO BE POSSIBLE\n",
    "# WEIGHTS ARE 2D WHILE INDEXED DIMENSIONS(EMBEDDED) ARE 3D\n",
    "# weights are seen to be 2d in the weights class\n",
    "embedded.shape"
   ]
  },
  {
   "cell_type": "code",
   "execution_count": 18,
   "id": "19fb04ab-fb17-4b37-8143-ade58e600f0d",
   "metadata": {},
   "outputs": [],
   "source": [
    "# i used a more complex and inefficient way to reconstruct dimensions previously but sice pytorch stores everything as 1D anyway, \n",
    "# lets just change the view of the "
   ]
  },
  {
   "cell_type": "code",
   "execution_count": 26,
   "id": "07dfa481-8c6d-4265-92df-758027080155",
   "metadata": {},
   "outputs": [
    {
     "name": "stdout",
     "output_type": "stream",
     "text": [
      "Iteration 0: 2.8268706798553467\n",
      "Iteration 500: 2.8210561275482178\n",
      "Iteration 1000: 2.847076654434204\n",
      "Iteration 1500: 2.829538345336914\n",
      "Iteration 2000: 2.8226559162139893\n",
      "Iteration 2500: 2.8268556594848633\n",
      "Iteration 3000: 2.8262758255004883\n",
      "Iteration 3500: 2.80806303024292\n",
      "Iteration 4000: 2.8061399459838867\n",
      "Iteration 4500: 2.8029627799987793\n",
      "Iteration 5000: 2.7993123531341553\n",
      "Iteration 5500: 2.79803466796875\n",
      "Iteration 6000: 2.7689573764801025\n",
      "Iteration 6500: 2.791922092437744\n",
      "Iteration 7000: 2.78064227104187\n",
      "Iteration 7500: 2.789646625518799\n",
      "Iteration 8000: 2.7858777046203613\n",
      "Iteration 8500: 2.7782347202301025\n",
      "Iteration 9000: 2.777695894241333\n",
      "Iteration 9500: 2.7705183029174805\n",
      "Iteration 10000: 2.7768208980560303\n",
      "Iteration 10500: 2.782006025314331\n",
      "Iteration 11000: 2.771512508392334\n",
      "Iteration 11500: 2.76467227935791\n",
      "Iteration 12000: 2.764726161956787\n",
      "Iteration 12500: 2.779752731323242\n",
      "Iteration 13000: 2.7643613815307617\n",
      "Iteration 13500: 2.761319398880005\n",
      "Iteration 14000: 2.7685136795043945\n",
      "Iteration 14500: 2.7530629634857178\n",
      "Iteration 15000: 2.7578604221343994\n",
      "Iteration 15500: 2.760432720184326\n",
      "Iteration 16000: 2.7527782917022705\n",
      "Iteration 16500: 2.7687764167785645\n",
      "Iteration 17000: 2.7450411319732666\n",
      "Iteration 17500: 2.772199869155884\n",
      "Iteration 18000: 2.7440688610076904\n",
      "Iteration 18500: 2.74310040473938\n",
      "Iteration 19000: 2.7536613941192627\n",
      "Iteration 19500: 2.7567882537841797\n",
      "Iteration 20000: 2.765477180480957\n",
      "Iteration 20500: 2.7582945823669434\n",
      "Iteration 21000: 2.7504429817199707\n",
      "Iteration 21500: 2.7629764080047607\n",
      "Iteration 22000: 2.7424159049987793\n",
      "Iteration 22500: 2.736067295074463\n",
      "Iteration 23000: 2.753744602203369\n",
      "Iteration 23500: 2.7468385696411133\n",
      "Iteration 24000: 2.7195656299591064\n",
      "Iteration 24500: 2.7471628189086914\n",
      "Iteration 25000: 2.7337088584899902\n",
      "Iteration 25500: 2.7434959411621094\n",
      "Iteration 26000: 2.7304625511169434\n",
      "Iteration 26500: 2.751667022705078\n",
      "Iteration 27000: 2.742109775543213\n",
      "Iteration 27500: 2.741431951522827\n",
      "Iteration 28000: 2.7507216930389404\n",
      "Iteration 28500: 2.7424376010894775\n",
      "Iteration 29000: 2.727186679840088\n",
      "Iteration 29500: 2.742217540740967\n",
      "Iteration 30000: 2.716745138168335\n",
      "Iteration 30500: 2.7368547916412354\n",
      "Iteration 31000: 2.7305169105529785\n",
      "Iteration 31500: 2.7414848804473877\n",
      "Iteration 32000: 2.715484142303467\n",
      "Iteration 32500: 2.72859525680542\n",
      "Iteration 33000: 2.7462031841278076\n",
      "Iteration 33500: 2.738985776901245\n",
      "Iteration 34000: 2.723078727722168\n",
      "Iteration 34500: 2.7171785831451416\n",
      "Iteration 35000: 2.7147693634033203\n",
      "Iteration 35500: 2.7280867099761963\n",
      "Iteration 36000: 2.7254395484924316\n",
      "Iteration 36500: 2.6984682083129883\n",
      "Iteration 37000: 2.7342731952667236\n",
      "Iteration 37500: 2.7068240642547607\n",
      "Iteration 38000: 2.754384994506836\n",
      "Iteration 38500: 2.7361092567443848\n",
      "Iteration 39000: 2.737492322921753\n",
      "Iteration 39500: 2.7274632453918457\n",
      "Iteration 40000: 2.7154524326324463\n",
      "Iteration 40500: 2.7023065090179443\n",
      "Iteration 41000: 2.719592332839966\n",
      "Iteration 41500: 2.724379062652588\n",
      "Iteration 42000: 2.725698709487915\n",
      "Iteration 42500: 2.7047348022460938\n",
      "Iteration 43000: 2.6973016262054443\n",
      "Iteration 43500: 2.737478017807007\n",
      "Iteration 44000: 2.711090087890625\n",
      "Iteration 44500: 2.705991506576538\n",
      "Iteration 45000: 2.713148832321167\n",
      "Iteration 45500: 2.698927879333496\n",
      "Iteration 46000: 2.7260241508483887\n",
      "Iteration 46500: 2.700868606567383\n",
      "Iteration 47000: 2.706712007522583\n",
      "Iteration 47500: 2.706563711166382\n",
      "Iteration 48000: 2.705744981765747\n",
      "Iteration 48500: 2.7166261672973633\n",
      "Iteration 49000: 2.7406537532806396\n",
      "Iteration 49500: 2.6947975158691406\n",
      "Time elapsed: 169.8151741027832 seconds\n"
     ]
    },
    {
     "data": {
      "image/png": "[encoded data removed]",
      "text/plain": [
       "<Figure size 640x480 with 1 Axes>"
      ]
     },
     "metadata": {},
     "output_type": "display_data"
    }
   ],
   "source": [
    "import time\n",
    "import matplotlib.pyplot as plt\n",
    "import torch\n",
    "import torch.nn.functional as F\n",
    "\n",
    "# Initialize lists to store loss values and iteration numbers\n",
    "loss_values = []\n",
    "iterations = []\n",
    "\n",
    "batch_size = 4000\n",
    "\n",
    "# Assuming 'layers' is a list of your custom layer objects, you need to modify\n",
    "# the layer class to ensure all operations are done on the specified device.\n",
    "# For now, we'll assume layers and dimensions are moved to the correct device outside this snippet.\n",
    "\n",
    "# Start the timer\n",
    "start_time = time.time()\n",
    "\n",
    "# Training loop\n",
    "for iter in range(50000):\n",
    "    # if iter > 4000:\n",
    "    #     lr = 0.001\n",
    "    # elif iter > 2500:\n",
    "    #     lr = 0.01\n",
    "    # else:\n",
    "    #     lr = 0.1\n",
    "    lr = 0.1\n",
    "    batch_indexes = torch.randint(0, X_train.shape[0], (batch_size,))\n",
    "    embedded = dimensions[X_train[batch_indexes]]\n",
    "    embedded = embedded.view(embedded.shape[0], embedded.shape[1] * embedded.shape[2])\n",
    "    \n",
    "    for layer in layers:\n",
    "        embedded = layer(embedded)\n",
    "\n",
    "    logits = embedded\n",
    "    targets = Y_train[batch_indexes]\n",
    "    loss = F.cross_entropy(logits, targets)\n",
    "    \n",
    "    # Store loss value and iteration number\n",
    "    loss_values.append(loss.item())\n",
    "    iterations.append(iter)\n",
    "    \n",
    "    if iter % 500 == 0:\n",
    "        print(f'Iteration {iter}: {loss.item()}')\n",
    "    \n",
    "    # Zero gradients, perform a backward pass, and update\n",
    "    for layer in layers:\n",
    "        layer.zero_grad()\n",
    "    loss.backward()\n",
    "    with torch.no_grad():\n",
    "        for layer in layers:\n",
    "            for param in layer.parameters():\n",
    "                param -= lr * param.grad\n",
    "\n",
    "# Print time elapsed\n",
    "end_time = time.time()\n",
    "print(f\"Time elapsed: {end_time - start_time} seconds\")\n",
    "\n",
    "# Plot loss graph\n",
    "plt.plot(iterations, loss_values)\n",
    "plt.xlabel('Iteration')\n",
    "plt.ylabel('Loss')\n",
    "plt.title('Loss vs. Iterations')\n",
    "plt.show()\n"
   ]
  },
  {
   "cell_type": "code",
   "execution_count": 27,
   "id": "19e97820-97d0-4a72-bb4f-57108ea64edc",
   "metadata": {},
   "outputs": [
    {
     "data": {
      "text/plain": [
       "tensor(2.7291, grad_fn=<NllLossBackward0>)"
      ]
     },
     "execution_count": 27,
     "metadata": {},
     "output_type": "execute_result"
    }
   ],
   "source": [
    "\n",
    "embedded = dimensions[X_valid] \n",
    "embedded = embedded.view(embedded.shape[0] , embedded.shape[1]*embedded.shape[2])\n",
    "\n",
    "for layer in layers:\n",
    "    embedded = layer(embedded)\n",
    "\n",
    "logits = embedded\n",
    "targets = Y_valid\n",
    "loss = F.cross_entropy(logits, targets)\n",
    "loss"
   ]
  },
  {
   "cell_type": "code",
   "execution_count": 30,
   "id": "bffb1e92-1c52-4ab4-93b0-f114f5b3eea9",
   "metadata": {},
   "outputs": [
    {
     "name": "stdout",
     "output_type": "stream",
     "text": [
      "carmahxqae.\n",
      "hqrifkimlix.\n",
      "thtyrnncaysnejrzhnenfeperahc.\n",
      "irqei.\n",
      "nermniahcmriiv.\n",
      "usleigph.\n",
      "bmh.\n",
      "din.\n",
      "qbijnisnlilea.\n",
      "jaebq.\n",
      "wqathrg.\n",
      "jaryxixfh.\n",
      "eepiusai.\n",
      "ed.\n",
      "ediia.\n",
      "gtleleyifl.\n",
      "uarae.\n",
      "bvljhksyainmqqosozerjrojn.\n",
      "irlairoenekp.\n",
      "sadlnuo.\n"
     ]
    }
   ],
   "source": [
    "\n",
    "\n",
    "# sample from the model\n",
    "g = torch.Generator().manual_seed(2147483647 + 10)\n",
    "\n",
    "for _ in range(20):\n",
    "    \n",
    "    out = []\n",
    "    context = [0] * gram # initialize with all ...\n",
    "    while True:\n",
    "      emb = dimensions[torch.tensor([context])] # (1,block_size,d)\n",
    "      emb = emb.view(1, -1)\n",
    "      for layer in layers:\n",
    "          emb = layer(emb)\n",
    "\n",
    "      logits = emb\n",
    "      probs = F.softmax(logits, dim=1)\n",
    "      ix = torch.multinomial(probs, num_samples=1, generator=g).item()\n",
    "      context = context[1:] + [ix]\n",
    "      out.append(ix)\n",
    "      if ix == 0:\n",
    "        break\n",
    "    \n",
    "    print(''.join(itoc[i] for i in out))"
   ]
  },
  {
   "cell_type": "code",
   "execution_count": null,
   "id": "1b227274-b187-4cee-8698-5da53db61546",
   "metadata": {},
   "outputs": [],
   "source": []
  }
 ],
 "metadata": {
  "kernelspec": {
   "display_name": "Python 3 (ipykernel)",
   "language": "python",
   "name": "python3"
  },
  "language_info": {
   "codemirror_mode": {
    "name": "ipython",
    "version": 3
   },
   "file_extension": ".py",
   "mimetype": "text/x-python",
   "name": "python",
   "nbconvert_exporter": "python",
   "pygments_lexer": "ipython3",
   "version": "3.12.1"
  }
 },
 "nbformat": 4,
 "nbformat_minor": 5
}
