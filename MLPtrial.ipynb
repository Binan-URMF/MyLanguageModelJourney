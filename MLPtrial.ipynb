{
 "cells": [
  {
   "cell_type": "code",
   "execution_count": 1,
   "id": "c5be17e5-c88b-4fee-8753-8ba5394d2d83",
   "metadata": {},
   "outputs": [
    {
     "data": {
      "text/plain": [
       "['emma',\n",
       " 'olivia',\n",
       " 'ava',\n",
       " 'isabella',\n",
       " 'sophia',\n",
       " 'charlotte',\n",
       " 'mia',\n",
       " 'amelia',\n",
       " 'harper',\n",
       " 'evelyn']"
      ]
     },
     "execution_count": 1,
     "metadata": {},
     "output_type": "execute_result"
    }
   ],
   "source": [
    "import torch\n",
    "# initiating the generator for generating radom integers\n",
    "generator = torch.Generator(device=device)\n",
    "seed = 20040324\n",
    "generator.manual_seed(seed)\n",
    "\n",
    "words = open('/Users/ezelbayraktar/Documents/DL-NLP/MyLanguageModelJourney/names.txt','r').read().splitlines()\n",
    "words[:10]"
   ]
  },
  {
   "cell_type": "code",
   "execution_count": 2,
   "id": "c78f6ccb-e00e-4dc7-bd08-8db176b496fe",
   "metadata": {},
   "outputs": [
    {
     "data": {
      "text/plain": [
       "['a',\n",
       " 'b',\n",
       " 'c',\n",
       " 'd',\n",
       " 'e',\n",
       " 'f',\n",
       " 'g',\n",
       " 'h',\n",
       " 'i',\n",
       " 'j',\n",
       " 'k',\n",
       " 'l',\n",
       " 'm',\n",
       " 'n',\n",
       " 'o',\n",
       " 'p',\n",
       " 'q',\n",
       " 'r',\n",
       " 's',\n",
       " 't',\n",
       " 'u',\n",
       " 'v',\n",
       " 'w',\n",
       " 'x',\n",
       " 'y',\n",
       " 'z']"
      ]
     },
     "execution_count": 2,
     "metadata": {},
     "output_type": "execute_result"
    }
   ],
   "source": [
    "#getting chars \n",
    "chars = sorted(list(set(''.join(words))))\n",
    "chars"
   ]
  },
  {
   "cell_type": "code",
   "execution_count": 3,
   "id": "6b21a6b4-3350-4f04-8eee-717f6ae1b195",
   "metadata": {},
   "outputs": [
    {
     "data": {
      "text/plain": [
       "0"
      ]
     },
     "execution_count": 3,
     "metadata": {},
     "output_type": "execute_result"
    }
   ],
   "source": [
    "## implementing a dictionary to enum chars\n",
    "ctoi={}\n",
    "ctoi['.'] = 0\n",
    "i = 1\n",
    "for char in chars:\n",
    "    # i do not check if char is in ctoi since chars is already a set so no dupes\n",
    "    # so it is not possible that char is added to ctos twice\n",
    "    ctoi[char] = i\n",
    "    i+=1\n",
    "ctoi['.']"
   ]
  },
  {
   "cell_type": "code",
   "execution_count": 4,
   "id": "4ff0bb09-b2c0-4353-8970-b52c1a437e4d",
   "metadata": {},
   "outputs": [
    {
     "data": {
      "text/plain": [
       "'.'"
      ]
     },
     "execution_count": 4,
     "metadata": {},
     "output_type": "execute_result"
    }
   ],
   "source": [
    "## implementing a dictionary to char nums\n",
    "\n",
    "## just flipping ctoi since itoc is just the same but with keys and values exchanged\n",
    "itoc = {value: key for key, value in ctoi.items()}\n",
    "itoc[0]"
   ]
  },
  {
   "cell_type": "code",
   "execution_count": 5,
   "id": "7a68f458-03ed-46d8-884c-d4c159b74d4c",
   "metadata": {},
   "outputs": [],
   "source": [
    "## building ...\n",
    "import torch\n",
    "gram = 3\n",
    "X,Y = [],[]\n",
    "for w in words:\n",
    "    #print(w)\n",
    "    grams = [0]*gram\n",
    "    for ch in w+'.':\n",
    "        cai = ctoi[ch] ## cai stands for character as integer\n",
    "        X.append(grams)\n",
    "        Y.append(cai)\n",
    "        #print(itoc[grams[0]],itoc[grams[1]],itoc[grams[2]],\" >> \",itoc[cai])\n",
    "        ##print(ch,cai)\n",
    "        grams = grams[1:] + [cai]\n",
    "\n",
    "X = torch.tensor(X)\n",
    "Y = torch.tensor(Y)"
   ]
  },
  {
   "cell_type": "code",
   "execution_count": 34,
   "id": "1d1e2968-664f-40fe-aca4-b590bad1b3d6",
   "metadata": {},
   "outputs": [
    {
     "data": {
      "text/plain": [
       "tensor([214368,  66134,  94484,  ...,  85392,  95951,  81987])"
      ]
     },
     "execution_count": 34,
     "metadata": {},
     "output_type": "execute_result"
    }
   ],
   "source": [
    "data_size = X.shape[0]\n",
    "data_random_indices = torch.randperm(data_size)\n",
    "data_random_indices"
   ]
  },
  {
   "cell_type": "code",
   "execution_count": 39,
   "id": "d80a8205-a0a5-4a8a-9c0c-37cbf5fa3ea0",
   "metadata": {},
   "outputs": [],
   "source": [
    "train_size = 0.8\n",
    "#train_indices_of_rows = torch.randint(0, data_size ,data_size * train_size, generator=generator)\n",
    "train_indices_of_rows = data_random_indices[:int(train_size*data_size)]\n",
    "X_train = X[train_indices_of_rows]\n",
    "Y_train = Y[train_indices_of_rows]"
   ]
  },
  {
   "cell_type": "code",
   "execution_count": 41,
   "id": "72cdc2ed-bf39-499c-8714-42f3131c9cc5",
   "metadata": {},
   "outputs": [],
   "source": [
    "validation_size = 0.1\n",
    "#validation_indices_of_rows = torch.randint(0, data_size ,data_size * validation_size, generator=generator)\n",
    "validation_indices_of_rows = data_random_indices[int(train_size*data_size):int((validation_size+train_size)*data_size)]\n",
    "X_valid = X[validation_indices_of_rows]\n",
    "Y_valid = Y[validation_indices_of_rows]"
   ]
  },
  {
   "cell_type": "code",
   "execution_count": 43,
   "id": "e95aaa74-59f4-489d-865b-14e406dfa201",
   "metadata": {},
   "outputs": [],
   "source": [
    "evaluation_size = 0.1\n",
    "#evalutation_indices_of_rows = torch.randint(0, data_size ,data_size * evaluation_size, generator=generator)\n",
    "evalutation_indices_of_rows = data_random_indices[int((validation_size+train_size)*data_size):]\n",
    "X_eval = X[evalutation_indices_of_rows]\n",
    "Y_eval = Y[evalutation_indices_of_rows]"
   ]
  },
  {
   "cell_type": "code",
   "execution_count": 48,
   "id": "7bc77328-2271-455d-9ba4-d96a184bd1ff",
   "metadata": {},
   "outputs": [
    {
     "name": "stdout",
     "output_type": "stream",
     "text": [
      "Shapes:\n",
      "X_train: torch.Size([182516, 3])\n",
      "Y_train: torch.Size([182516])\n",
      "X_valid: torch.Size([22815, 3])\n",
      "Y_valid: torch.Size([22815])\n",
      "X_eval: torch.Size([22815, 3])\n",
      "Y_eval: torch.Size([22815])\n"
     ]
    }
   ],
   "source": [
    "\n",
    "# Print shapes\n",
    "print(\"Shapes:\")\n",
    "print(f\"X_train: {X_train.shape}\")\n",
    "print(f\"Y_train: {Y_train.shape}\")\n",
    "print(f\"X_valid: {X_valid.shape}\")\n",
    "print(f\"Y_valid: {Y_valid.shape}\")\n",
    "print(f\"X_eval: {X_eval.shape}\")\n",
    "print(f\"Y_eval: {Y_eval.shape}\")\n",
    "\n"
   ]
  },
  {
   "cell_type": "code",
   "execution_count": 9,
   "id": "c057ac80-ef7c-44f9-8e2a-5092ba34a2e6",
   "metadata": {},
   "outputs": [
    {
     "data": {
      "text/plain": [
       "tensor([[-0.8441,  0.4442],\n",
       "        [ 0.7368,  0.7954],\n",
       "        [-0.5493,  0.2943],\n",
       "        [-0.1826, -1.3402],\n",
       "        [ 1.2121,  0.3059],\n",
       "        [ 0.3878, -1.1010],\n",
       "        [ 1.8189,  0.4719],\n",
       "        [-0.2023, -1.8422],\n",
       "        [ 0.5779,  1.0814],\n",
       "        [ 1.2433,  0.4114],\n",
       "        [-0.7053, -0.3688],\n",
       "        [-0.8450, -0.0475],\n",
       "        [-0.9467,  1.3064],\n",
       "        [-0.6005, -0.4381],\n",
       "        [ 0.7840,  0.3449],\n",
       "        [ 0.1305, -0.9211],\n",
       "        [ 1.0137, -0.3206],\n",
       "        [-1.0797, -1.0420],\n",
       "        [ 0.7330,  0.0224],\n",
       "        [-0.6115,  2.0619],\n",
       "        [ 0.2378, -1.1784],\n",
       "        [-1.8409, -1.0786],\n",
       "        [-0.2863, -0.9967],\n",
       "        [ 0.3653,  0.0674],\n",
       "        [-0.6903, -1.4424],\n",
       "        [-0.2955,  0.1750],\n",
       "        [-1.3892,  0.9093]], device='mps:0')"
      ]
     },
     "execution_count": 9,
     "metadata": {},
     "output_type": "execute_result"
    }
   ],
   "source": [
    "# choosing gpu as computational device if gpu is available\n",
    "# since we are working with small data this step is not necessary indeed\n",
    "# but i own the repo and do whatever i want... just joking doing it for fun im really stressed out\n",
    "\n",
    "\n",
    "# MPS: Metal Performance Shaders --> for Mac devices with M chips\n",
    "# CUDA: For device with cuda support\n",
    "# CPU: General case\n",
    "if torch.cuda.is_available():\n",
    "    device = torch.device(\"cuda\")\n",
    "elif torch.backends.mps.is_available():\n",
    "    device = torch.device(\"mps\")\n",
    "else:\n",
    "    device = torch.device(\"cpu\")\n",
    "\n",
    "#X_train = X_train.to(device)\n",
    "#Y_train = Y_train.to(device)\n",
    "#X_valid = X_valid.to(device)\n",
    "#Y_valid = Y_valid.to(device)\n",
    "#X_eval = X_eval.to(device)\n",
    "#Y_eval = Y_eval.to(device)\n",
    "\n",
    "\n",
    "rows = 27 #  english chars + the dot\n",
    "dimension = 2 # dimensions for each char\n",
    "params = torch.randn(rows, dimension, generator=generator, device=device)\n",
    "params\n",
    "# params are the dimension values our model assigns to characters"
   ]
  },
  {
   "cell_type": "code",
   "execution_count": 10,
   "id": "7919b84e-b7cc-4f0d-a2f3-80a609b1f645",
   "metadata": {},
   "outputs": [
    {
     "data": {
      "text/plain": [
       "tensor([-0.5493,  0.2943], device='mps:0')"
      ]
     },
     "execution_count": 10,
     "metadata": {},
     "output_type": "execute_result"
    }
   ],
   "source": []
  },
  {
   "cell_type": "code",
   "execution_count": 11,
   "id": "16c1dd3a-636a-48e1-bc07-330b4b8bd240",
   "metadata": {},
   "outputs": [
    {
     "data": {
      "text/plain": [
       "tensor([ 9, 22,  9], device='mps:0')"
      ]
     },
     "execution_count": 11,
     "metadata": {},
     "output_type": "execute_result"
    }
   ],
   "source": []
  },
  {
   "cell_type": "code",
   "execution_count": 12,
   "id": "9ff2f94a-432c-4726-8abc-fe5fc5e60f69",
   "metadata": {},
   "outputs": [
    {
     "data": {
      "text/plain": [
       "tensor([[ 1.2433,  0.4114],\n",
       "        [-0.2863, -0.9967],\n",
       "        [ 1.2433,  0.4114]], device='mps:0')"
      ]
     },
     "execution_count": 12,
     "metadata": {},
     "output_type": "execute_result"
    }
   ],
   "source": []
  },
  {
   "cell_type": "code",
   "execution_count": 13,
   "id": "df2b679c-3afb-459d-a59e-9759809dbe20",
   "metadata": {},
   "outputs": [
    {
     "data": {
      "text/plain": [
       "torch.Size([3, 2])"
      ]
     },
     "execution_count": 13,
     "metadata": {},
     "output_type": "execute_result"
    }
   ],
   "source": [
    "params[X[10]].shape"
   ]
  },
  {
   "cell_type": "code",
   "execution_count": 14,
   "id": "251671a0-f5ac-45e5-908c-961d40e9987c",
   "metadata": {},
   "outputs": [
    {
     "data": {
      "text/plain": [
       "torch.Size([228146, 3, 2])"
      ]
     },
     "execution_count": 14,
     "metadata": {},
     "output_type": "execute_result"
    }
   ],
   "source": [
    "params[X].shape"
   ]
  },
  {
   "cell_type": "code",
   "execution_count": 15,
   "id": "7e11a6b9-01e9-4d56-9233-38ed234523a7",
   "metadata": {},
   "outputs": [
    {
     "data": {
      "text/plain": [
       "tensor([[[-0.8441,  0.4442],\n",
       "         [-0.8441,  0.4442],\n",
       "         [-0.8441,  0.4442]],\n",
       "\n",
       "        [[-0.8441,  0.4442],\n",
       "         [-0.8441,  0.4442],\n",
       "         [ 0.3878, -1.1010]],\n",
       "\n",
       "        [[-0.8441,  0.4442],\n",
       "         [ 0.3878, -1.1010],\n",
       "         [-0.6005, -0.4381]],\n",
       "\n",
       "        ...,\n",
       "\n",
       "        [[-1.3892,  0.9093],\n",
       "         [-1.3892,  0.9093],\n",
       "         [-0.2955,  0.1750]],\n",
       "\n",
       "        [[-1.3892,  0.9093],\n",
       "         [-0.2955,  0.1750],\n",
       "         [-1.3892,  0.9093]],\n",
       "\n",
       "        [[-0.2955,  0.1750],\n",
       "         [-1.3892,  0.9093],\n",
       "         [-0.6903, -1.4424]]], device='mps:0')"
      ]
     },
     "execution_count": 15,
     "metadata": {},
     "output_type": "execute_result"
    }
   ],
   "source": [
    "# here we still have the gram table actually but each character in each gram is repsrented with dimenstional params\n",
    "params[X]"
   ]
  },
  {
   "cell_type": "code",
   "execution_count": 16,
   "id": "20e9174e-38ee-433d-a389-1b5a139a7b51",
   "metadata": {},
   "outputs": [],
   "source": [
    "emb = params[X]\n"
   ]
  },
  {
   "cell_type": "code",
   "execution_count": 17,
   "id": "e86bc4fd-e10c-4c1f-965c-f89f2aac7b63",
   "metadata": {},
   "outputs": [
    {
     "data": {
      "text/plain": [
       "tensor([[ 0.1971,  1.0841, -0.1274,  ...,  0.1460, -0.3943,  0.7193],\n",
       "        [ 1.1630,  0.3827, -1.2829,  ..., -1.8067, -1.2019,  0.9870],\n",
       "        [ 1.0153, -1.9397, -0.4386,  ...,  1.7949,  1.6281,  0.2700],\n",
       "        [ 0.8091,  0.1010,  0.5946,  ..., -0.2223, -0.2951,  0.7659],\n",
       "        [-1.5993,  0.1921,  1.5766,  ..., -0.0186, -1.0555, -0.6648],\n",
       "        [-0.5039,  1.3224, -0.6610,  ...,  0.2759,  0.8184,  0.7730]],\n",
       "       device='mps:0')"
      ]
     },
     "execution_count": 17,
     "metadata": {},
     "output_type": "execute_result"
    }
   ],
   "source": [
    "\n",
    "\n",
    "#layer 1\n",
    "inputNumberLayer1 = (params[X].shape)[2]*(params[X].shape)[1] # input nummber is equal to (grams count) * (dimensions)\n",
    "inputNumberLayer1\n",
    "neuronsLayer1 = 200 # matter of choice CAUTION: too much neurons may cause overfitting\n",
    "\n",
    "W1 = torch.randn(inputNumberLayer1, neuronsLayer1, generator=generator, device=device) # first layer's weights\n",
    "W1"
   ]
  },
  {
   "cell_type": "code",
   "execution_count": 18,
   "id": "c2cad3e3-b3c3-4ee8-859a-0c755ffe7767",
   "metadata": {},
   "outputs": [
    {
     "data": {
      "text/plain": [
       "torch.Size([6, 200])"
      ]
     },
     "execution_count": 18,
     "metadata": {},
     "output_type": "execute_result"
    }
   ],
   "source": [
    "W1.shape"
   ]
  },
  {
   "cell_type": "code",
   "execution_count": 19,
   "id": "81f6517b-55b7-4e73-9c31-e37d5ed6cd1a",
   "metadata": {},
   "outputs": [],
   "source": [
    "b1 = torch.randn(200,generator=generator, device=device)"
   ]
  },
  {
   "cell_type": "code",
   "execution_count": 20,
   "id": "a7a715da-9ab3-40dc-9275-abe32106358e",
   "metadata": {},
   "outputs": [
    {
     "data": {
      "text/plain": [
       "(torch.Size([6, 200]), torch.Size([228146, 3, 2]))"
      ]
     },
     "execution_count": 20,
     "metadata": {},
     "output_type": "execute_result"
    }
   ],
   "source": [
    "W1.shape, emb.shape #hmmmm.. problem! cannot matrix multiply because of dimensions not holding"
   ]
  },
  {
   "cell_type": "code",
   "execution_count": 21,
   "id": "2ff8d079-d18b-4631-8284-d4399602e8f8",
   "metadata": {},
   "outputs": [],
   "source": [
    "#->> emb = torch.cat(torch.unbind(emb,1),1)\n",
    "#->> emb\n",
    "## MY EXPLANATION:\n",
    "\n",
    "## here torch.unbind(emb,1) seperates our tensor across the first dimension (columns) and we get three (32,2) tensors. \n",
    "## i was confused when i learned about it at first so here is the explanation. \n",
    "## imagine a cube of 32 rows , 3 columns, and 2 layers(depth) we seperate the cube across columns so we are left with three slices\n",
    "## each of 32 row and 2 depth layers. we concatenate the slices now across the first dimension of each. \n",
    "## here is the key! the first dimension now is what was depth layers before. the 2 is now the columns. so when we contatenate\n",
    "## across the first dimension we combine three two columns to get six columns. the first two are the columns of the first slice\n",
    "## and the depth layers of the first column we had initially.\n",
    "\n",
    "## GPT EDITED EXPLANATION\n",
    "\n",
    "# Imagine 'emb' as a 3D tensor with a shape of (32, 3, 2), where\n",
    "# 32 represents the depth (layers), 3 represents the rows, and 2 represents the columns.\n",
    "\n",
    "# Applying torch.unbind(emb, 1) splits 'emb' across the rows (since 1 indicates rows here),\n",
    "# resulting in 3 tensors, each with a shape of (32, 2) - they have 32 layers (depth) and 2 columns,\n",
    "# but only 1 row because we've split along the rows.\n",
    "\n",
    "# These 3 tensors are like 3 flat sheets from our initial cube:\n",
    "# 1. The first sheet contains the first row from every layer.\n",
    "# 2. The second sheet contains the second row from every layer.\n",
    "# 3. The third sheet contains the third row from every layer.\n",
    "\n",
    "# Now, torch.cat(...) will concatenate these 3 sheets along the first dimension (rows),\n",
    "# effectively stacking them back to form the original structure but now as separate tensors.\n",
    "\n",
    "# After concatenation, we have a tensor that resembles the original 'emb' in shape,\n",
    "# having 32 layers (depth), 3 rows, and 2 columns.\n",
    "# The first dimension now refers to the rows, the second to the layers (depth), and the third to columns.\n",
    "# This reassembled structure maintains the original depth and columns but has reorganized the rows.\n"
   ]
  },
  {
   "cell_type": "code",
   "execution_count": 22,
   "id": "e3f54a92-4e1a-42d9-8942-c7583594a127",
   "metadata": {},
   "outputs": [
    {
     "data": {
      "text/plain": [
       "tensor([[True, True, True, True, True, True],\n",
       "        [True, True, True, True, True, True],\n",
       "        [True, True, True, True, True, True],\n",
       "        ...,\n",
       "        [True, True, True, True, True, True],\n",
       "        [True, True, True, True, True, True],\n",
       "        [True, True, True, True, True, True]], device='mps:0')"
      ]
     },
     "execution_count": 22,
     "metadata": {},
     "output_type": "execute_result"
    }
   ],
   "source": [
    "## ACTUALLY IT IS EASIER TO RESHAPE!! \n",
    "## since all tensors are stored as one dimensional arrays in memory we can just reshape the tensor\n",
    "## but old and new dimensions mul must hold\n",
    "emb.view(X.shape[0],6) == torch.cat(torch.unbind(emb,1),1)"
   ]
  },
  {
   "cell_type": "code",
   "execution_count": 23,
   "id": "e93fec16-bb8e-4c00-b887-f6faa2a02673",
   "metadata": {},
   "outputs": [
    {
     "data": {
      "text/plain": [
       "(torch.Size([228146, 200]),\n",
       " tensor([[ 0.8475,  0.4614, -0.7325,  ..., -0.9877, -0.4904, -0.7608],\n",
       "         [ 0.0556, -0.8637,  0.9661,  ..., -0.9950, -0.9960, -0.9952],\n",
       "         [ 0.8624, -0.9965, -0.8908,  ..., -0.2313,  0.7379, -0.9909],\n",
       "         ...,\n",
       "         [ 0.6421,  0.7351,  0.0971,  ..., -0.9998, -0.9911, -0.8604],\n",
       "         [ 0.9902, -0.4582, -0.9953,  ..., -0.9792,  0.7810, -0.2613],\n",
       "         [ 0.9170, -0.3544,  0.8732,  ..., -0.9984, -0.9964, -0.9767]],\n",
       "        device='mps:0'))"
      ]
     },
     "execution_count": 23,
     "metadata": {},
     "output_type": "execute_result"
    }
   ],
   "source": [
    "activation1 = torch.tanh(emb.view(emb.shape[0],emb.shape[1] * emb.shape[2]) @ W1 + b1)\n",
    "activation1.shape,activation1"
   ]
  },
  {
   "cell_type": "code",
   "execution_count": 24,
   "id": "734fca3b-6435-4f0a-bc36-3940c688212f",
   "metadata": {},
   "outputs": [],
   "source": [
    "W2 = torch.randn(200,27,generator=generator, device=device)\n",
    "b2 = torch.randn(27,generator=generator, device=device)"
   ]
  },
  {
   "cell_type": "code",
   "execution_count": 25,
   "id": "d4df5e94-e427-4666-8692-0be9fa7ba7bc",
   "metadata": {},
   "outputs": [],
   "source": [
    "logits = activation1 @ W2 + b2\n",
    "logits.shape\n",
    "logits = logits.to(device)\n"
   ]
  },
  {
   "cell_type": "code",
   "execution_count": 26,
   "id": "c60713c7-e5f7-43ae-98e1-99000b9d78ba",
   "metadata": {},
   "outputs": [],
   "source": [
    "import torch.nn.functional as F\n",
    "\n"
   ]
  },
  {
   "cell_type": "code",
   "execution_count": 27,
   "id": "7feb3f04-5751-49df-a09e-8eeb829b7848",
   "metadata": {},
   "outputs": [],
   "source": [
    "parameters = [params,W1,b1,W2,b2]\n",
    "for p in parameters:\n",
    "    p.requires_grad = True"
   ]
  },
  {
   "cell_type": "code",
   "execution_count": 28,
   "id": "5b94445d-bf02-4789-86b5-6c16bfcce55e",
   "metadata": {},
   "outputs": [
    {
     "data": {
      "text/plain": [
       "tensor([0.0010, 0.0010, 0.0010, 0.0010, 0.0010, 0.0010, 0.0010, 0.0010, 0.0011,\n",
       "        0.0011, 0.0011, 0.0011, 0.0011, 0.0011, 0.0011, 0.0011, 0.0011, 0.0011,\n",
       "        0.0011, 0.0011, 0.0011, 0.0012, 0.0012, 0.0012, 0.0012, 0.0012, 0.0012,\n",
       "        0.0012, 0.0012, 0.0012, 0.0012, 0.0012, 0.0012, 0.0013, 0.0013, 0.0013,\n",
       "        0.0013, 0.0013, 0.0013, 0.0013, 0.0013, 0.0013, 0.0013, 0.0013, 0.0014,\n",
       "        0.0014, 0.0014, 0.0014, 0.0014, 0.0014, 0.0014, 0.0014, 0.0014, 0.0014,\n",
       "        0.0015, 0.0015, 0.0015, 0.0015, 0.0015, 0.0015, 0.0015, 0.0015, 0.0015,\n",
       "        0.0015, 0.0016, 0.0016, 0.0016, 0.0016, 0.0016, 0.0016, 0.0016, 0.0016,\n",
       "        0.0016, 0.0017, 0.0017, 0.0017, 0.0017, 0.0017, 0.0017, 0.0017, 0.0017,\n",
       "        0.0018, 0.0018, 0.0018, 0.0018, 0.0018, 0.0018, 0.0018, 0.0018, 0.0019,\n",
       "        0.0019, 0.0019, 0.0019, 0.0019, 0.0019, 0.0019, 0.0019, 0.0020, 0.0020,\n",
       "        0.0020, 0.0020, 0.0020, 0.0020, 0.0020, 0.0021, 0.0021, 0.0021, 0.0021,\n",
       "        0.0021, 0.0021, 0.0021, 0.0022, 0.0022, 0.0022, 0.0022, 0.0022, 0.0022,\n",
       "        0.0022, 0.0023, 0.0023, 0.0023, 0.0023, 0.0023, 0.0023, 0.0024, 0.0024,\n",
       "        0.0024, 0.0024, 0.0024, 0.0024, 0.0025, 0.0025, 0.0025, 0.0025, 0.0025,\n",
       "        0.0025, 0.0026, 0.0026, 0.0026, 0.0026, 0.0026, 0.0027, 0.0027, 0.0027,\n",
       "        0.0027, 0.0027, 0.0027, 0.0028, 0.0028, 0.0028, 0.0028, 0.0028, 0.0029,\n",
       "        0.0029, 0.0029, 0.0029, 0.0029, 0.0030, 0.0030, 0.0030, 0.0030, 0.0030,\n",
       "        0.0031, 0.0031, 0.0031, 0.0031, 0.0032, 0.0032, 0.0032, 0.0032, 0.0032,\n",
       "        0.0033, 0.0033, 0.0033, 0.0033, 0.0034, 0.0034, 0.0034, 0.0034, 0.0034,\n",
       "        0.0035, 0.0035, 0.0035, 0.0035, 0.0036, 0.0036, 0.0036, 0.0036, 0.0037,\n",
       "        0.0037, 0.0037, 0.0037, 0.0038, 0.0038, 0.0038, 0.0039, 0.0039, 0.0039,\n",
       "        0.0039, 0.0040, 0.0040, 0.0040, 0.0040, 0.0041, 0.0041, 0.0041, 0.0042,\n",
       "        0.0042, 0.0042, 0.0042, 0.0043, 0.0043, 0.0043, 0.0044, 0.0044, 0.0044,\n",
       "        0.0045, 0.0045, 0.0045, 0.0045, 0.0046, 0.0046, 0.0046, 0.0047, 0.0047,\n",
       "        0.0047, 0.0048, 0.0048, 0.0048, 0.0049, 0.0049, 0.0049, 0.0050, 0.0050,\n",
       "        0.0050, 0.0051, 0.0051, 0.0051, 0.0052, 0.0052, 0.0053, 0.0053, 0.0053,\n",
       "        0.0054, 0.0054, 0.0054, 0.0055, 0.0055, 0.0056, 0.0056, 0.0056, 0.0057,\n",
       "        0.0057, 0.0058, 0.0058, 0.0058, 0.0059, 0.0059, 0.0060, 0.0060, 0.0060,\n",
       "        0.0061, 0.0061, 0.0062, 0.0062, 0.0062, 0.0063, 0.0063, 0.0064, 0.0064,\n",
       "        0.0065, 0.0065, 0.0066, 0.0066, 0.0067, 0.0067, 0.0067, 0.0068, 0.0068,\n",
       "        0.0069, 0.0069, 0.0070, 0.0070, 0.0071, 0.0071, 0.0072, 0.0072, 0.0073,\n",
       "        0.0073, 0.0074, 0.0074, 0.0075, 0.0075, 0.0076, 0.0076, 0.0077, 0.0077,\n",
       "        0.0078, 0.0079, 0.0079, 0.0080, 0.0080, 0.0081, 0.0081, 0.0082, 0.0082,\n",
       "        0.0083, 0.0084, 0.0084, 0.0085, 0.0085, 0.0086, 0.0086, 0.0087, 0.0088,\n",
       "        0.0088, 0.0089, 0.0090, 0.0090, 0.0091, 0.0091, 0.0092, 0.0093, 0.0093,\n",
       "        0.0094, 0.0095, 0.0095, 0.0096, 0.0097, 0.0097, 0.0098, 0.0099, 0.0099,\n",
       "        0.0100, 0.0101, 0.0101, 0.0102, 0.0103, 0.0104, 0.0104, 0.0105, 0.0106,\n",
       "        0.0106, 0.0107, 0.0108, 0.0109, 0.0109, 0.0110, 0.0111, 0.0112, 0.0112,\n",
       "        0.0113, 0.0114, 0.0115, 0.0116, 0.0116, 0.0117, 0.0118, 0.0119, 0.0120,\n",
       "        0.0121, 0.0121, 0.0122, 0.0123, 0.0124, 0.0125, 0.0126, 0.0127, 0.0127,\n",
       "        0.0128, 0.0129, 0.0130, 0.0131, 0.0132, 0.0133, 0.0134, 0.0135, 0.0136,\n",
       "        0.0137, 0.0137, 0.0138, 0.0139, 0.0140, 0.0141, 0.0142, 0.0143, 0.0144,\n",
       "        0.0145, 0.0146, 0.0147, 0.0148, 0.0149, 0.0150, 0.0151, 0.0152, 0.0154,\n",
       "        0.0155, 0.0156, 0.0157, 0.0158, 0.0159, 0.0160, 0.0161, 0.0162, 0.0163,\n",
       "        0.0165, 0.0166, 0.0167, 0.0168, 0.0169, 0.0170, 0.0171, 0.0173, 0.0174,\n",
       "        0.0175, 0.0176, 0.0178, 0.0179, 0.0180, 0.0181, 0.0182, 0.0184, 0.0185,\n",
       "        0.0186, 0.0188, 0.0189, 0.0190, 0.0192, 0.0193, 0.0194, 0.0196, 0.0197,\n",
       "        0.0198, 0.0200, 0.0201, 0.0202, 0.0204, 0.0205, 0.0207, 0.0208, 0.0210,\n",
       "        0.0211, 0.0212, 0.0214, 0.0215, 0.0217, 0.0218, 0.0220, 0.0221, 0.0223,\n",
       "        0.0225, 0.0226, 0.0228, 0.0229, 0.0231, 0.0232, 0.0234, 0.0236, 0.0237,\n",
       "        0.0239, 0.0241, 0.0242, 0.0244, 0.0246, 0.0247, 0.0249, 0.0251, 0.0253,\n",
       "        0.0254, 0.0256, 0.0258, 0.0260, 0.0261, 0.0263, 0.0265, 0.0267, 0.0269,\n",
       "        0.0271, 0.0273, 0.0274, 0.0276, 0.0278, 0.0280, 0.0282, 0.0284, 0.0286,\n",
       "        0.0288, 0.0290, 0.0292, 0.0294, 0.0296, 0.0298, 0.0300, 0.0302, 0.0304,\n",
       "        0.0307, 0.0309, 0.0311, 0.0313, 0.0315, 0.0317, 0.0320, 0.0322, 0.0324,\n",
       "        0.0326, 0.0328, 0.0331, 0.0333, 0.0335, 0.0338, 0.0340, 0.0342, 0.0345,\n",
       "        0.0347, 0.0350, 0.0352, 0.0354, 0.0357, 0.0359, 0.0362, 0.0364, 0.0367,\n",
       "        0.0369, 0.0372, 0.0375, 0.0377, 0.0380, 0.0382, 0.0385, 0.0388, 0.0390,\n",
       "        0.0393, 0.0396, 0.0399, 0.0401, 0.0404, 0.0407, 0.0410, 0.0413, 0.0416,\n",
       "        0.0418, 0.0421, 0.0424, 0.0427, 0.0430, 0.0433, 0.0436, 0.0439, 0.0442,\n",
       "        0.0445, 0.0448, 0.0451, 0.0455, 0.0458, 0.0461, 0.0464, 0.0467, 0.0471,\n",
       "        0.0474, 0.0477, 0.0480, 0.0484, 0.0487, 0.0491, 0.0494, 0.0497, 0.0501,\n",
       "        0.0504, 0.0508, 0.0511, 0.0515, 0.0518, 0.0522, 0.0526, 0.0529, 0.0533,\n",
       "        0.0537, 0.0540, 0.0544, 0.0548, 0.0552, 0.0556, 0.0559, 0.0563, 0.0567,\n",
       "        0.0571, 0.0575, 0.0579, 0.0583, 0.0587, 0.0591, 0.0595, 0.0599, 0.0604,\n",
       "        0.0608, 0.0612, 0.0616, 0.0621, 0.0625, 0.0629, 0.0634, 0.0638, 0.0642,\n",
       "        0.0647, 0.0651, 0.0656, 0.0660, 0.0665, 0.0670, 0.0674, 0.0679, 0.0684,\n",
       "        0.0688, 0.0693, 0.0698, 0.0703, 0.0708, 0.0713, 0.0718, 0.0723, 0.0728,\n",
       "        0.0733, 0.0738, 0.0743, 0.0748, 0.0753, 0.0758, 0.0764, 0.0769, 0.0774,\n",
       "        0.0780, 0.0785, 0.0790, 0.0796, 0.0802, 0.0807, 0.0813, 0.0818, 0.0824,\n",
       "        0.0830, 0.0835, 0.0841, 0.0847, 0.0853, 0.0859, 0.0865, 0.0871, 0.0877,\n",
       "        0.0883, 0.0889, 0.0895, 0.0901, 0.0908, 0.0914, 0.0920, 0.0927, 0.0933,\n",
       "        0.0940, 0.0946, 0.0953, 0.0959, 0.0966, 0.0973, 0.0979, 0.0986, 0.0993,\n",
       "        0.1000, 0.1007, 0.1014, 0.1021, 0.1028, 0.1035, 0.1042, 0.1050, 0.1057,\n",
       "        0.1064, 0.1072, 0.1079, 0.1087, 0.1094, 0.1102, 0.1109, 0.1117, 0.1125,\n",
       "        0.1133, 0.1140, 0.1148, 0.1156, 0.1164, 0.1172, 0.1181, 0.1189, 0.1197,\n",
       "        0.1205, 0.1214, 0.1222, 0.1231, 0.1239, 0.1248, 0.1256, 0.1265, 0.1274,\n",
       "        0.1283, 0.1292, 0.1301, 0.1310, 0.1319, 0.1328, 0.1337, 0.1346, 0.1356,\n",
       "        0.1365, 0.1374, 0.1384, 0.1394, 0.1403, 0.1413, 0.1423, 0.1433, 0.1443,\n",
       "        0.1453, 0.1463, 0.1473, 0.1483, 0.1493, 0.1504, 0.1514, 0.1525, 0.1535,\n",
       "        0.1546, 0.1557, 0.1567, 0.1578, 0.1589, 0.1600, 0.1611, 0.1623, 0.1634,\n",
       "        0.1645, 0.1657, 0.1668, 0.1680, 0.1691, 0.1703, 0.1715, 0.1727, 0.1739,\n",
       "        0.1751, 0.1763, 0.1775, 0.1788, 0.1800, 0.1812, 0.1825, 0.1838, 0.1850,\n",
       "        0.1863, 0.1876, 0.1889, 0.1902, 0.1916, 0.1929, 0.1942, 0.1956, 0.1969,\n",
       "        0.1983, 0.1997, 0.2010, 0.2024, 0.2038, 0.2053, 0.2067, 0.2081, 0.2096,\n",
       "        0.2110, 0.2125, 0.2140, 0.2154, 0.2169, 0.2184, 0.2200, 0.2215, 0.2230,\n",
       "        0.2246, 0.2261, 0.2277, 0.2293, 0.2309, 0.2325, 0.2341, 0.2357, 0.2373,\n",
       "        0.2390, 0.2406, 0.2423, 0.2440, 0.2457, 0.2474, 0.2491, 0.2508, 0.2526,\n",
       "        0.2543, 0.2561, 0.2579, 0.2597, 0.2615, 0.2633, 0.2651, 0.2669, 0.2688,\n",
       "        0.2707, 0.2725, 0.2744, 0.2763, 0.2783, 0.2802, 0.2821, 0.2841, 0.2861,\n",
       "        0.2880, 0.2900, 0.2921, 0.2941, 0.2961, 0.2982, 0.3002, 0.3023, 0.3044,\n",
       "        0.3065, 0.3087, 0.3108, 0.3130, 0.3151, 0.3173, 0.3195, 0.3217, 0.3240,\n",
       "        0.3262, 0.3285, 0.3308, 0.3331, 0.3354, 0.3377, 0.3400, 0.3424, 0.3448,\n",
       "        0.3472, 0.3496, 0.3520, 0.3544, 0.3569, 0.3594, 0.3619, 0.3644, 0.3669,\n",
       "        0.3695, 0.3720, 0.3746, 0.3772, 0.3798, 0.3825, 0.3851, 0.3878, 0.3905,\n",
       "        0.3932, 0.3959, 0.3987, 0.4014, 0.4042, 0.4070, 0.4098, 0.4127, 0.4155,\n",
       "        0.4184, 0.4213, 0.4243, 0.4272, 0.4302, 0.4331, 0.4362, 0.4392, 0.4422,\n",
       "        0.4453, 0.4484, 0.4515, 0.4546, 0.4578, 0.4610, 0.4642, 0.4674, 0.4706,\n",
       "        0.4739, 0.4772, 0.4805, 0.4838, 0.4872, 0.4906, 0.4940, 0.4974, 0.5008,\n",
       "        0.5043, 0.5078, 0.5113, 0.5149, 0.5185, 0.5221, 0.5257, 0.5293, 0.5330,\n",
       "        0.5367, 0.5404, 0.5442, 0.5479, 0.5517, 0.5556, 0.5594, 0.5633, 0.5672,\n",
       "        0.5712, 0.5751, 0.5791, 0.5831, 0.5872, 0.5913, 0.5954, 0.5995, 0.6036,\n",
       "        0.6078, 0.6120, 0.6163, 0.6206, 0.6249, 0.6292, 0.6336, 0.6380, 0.6424,\n",
       "        0.6469, 0.6513, 0.6559, 0.6604, 0.6650, 0.6696, 0.6743, 0.6789, 0.6837,\n",
       "        0.6884, 0.6932, 0.6980, 0.7028, 0.7077, 0.7126, 0.7176, 0.7225, 0.7275,\n",
       "        0.7326, 0.7377, 0.7428, 0.7480, 0.7531, 0.7584, 0.7636, 0.7689, 0.7743,\n",
       "        0.7796, 0.7850, 0.7905, 0.7960, 0.8015, 0.8071, 0.8127, 0.8183, 0.8240,\n",
       "        0.8297, 0.8355, 0.8412, 0.8471, 0.8530, 0.8589, 0.8648, 0.8708, 0.8769,\n",
       "        0.8830, 0.8891, 0.8953, 0.9015, 0.9077, 0.9140, 0.9204, 0.9268, 0.9332,\n",
       "        0.9397, 0.9462, 0.9528, 0.9594, 0.9660, 0.9727, 0.9795, 0.9863, 0.9931,\n",
       "        1.0000])"
      ]
     },
     "execution_count": 28,
     "metadata": {},
     "output_type": "execute_result"
    }
   ],
   "source": [
    "lr = torch.linspace(-3,0,1000)\n",
    "lre = 10 ** lr\n",
    "lre"
   ]
  },
  {
   "cell_type": "code",
   "execution_count": 29,
   "id": "07dfa481-8c6d-4265-92df-758027080155",
   "metadata": {},
   "outputs": [
    {
     "name": "stdout",
     "output_type": "stream",
     "text": [
      "Iteration 0: 21.1524600982666\n",
      "Iteration 500: 2.6536290645599365\n",
      "Iteration 1000: 2.5067598819732666\n",
      "Iteration 1500: 2.738835334777832\n",
      "Iteration 2000: 2.3977582454681396\n",
      "Iteration 2500: 2.687786817550659\n",
      "Iteration 3000: 2.5006229877471924\n",
      "Iteration 3500: 2.5729546546936035\n",
      "Iteration 4000: 2.5633432865142822\n",
      "Iteration 4500: 2.6543543338775635\n",
      "Iteration 5000: 2.5089805126190186\n",
      "Iteration 5500: 2.746448278427124\n",
      "Iteration 6000: 2.4625182151794434\n",
      "Iteration 6500: 2.6376864910125732\n",
      "Iteration 7000: 2.470358371734619\n",
      "Iteration 7500: 2.255056858062744\n",
      "Iteration 8000: 2.5208353996276855\n",
      "Iteration 8500: 2.579360246658325\n",
      "Iteration 9000: 2.373802661895752\n",
      "Iteration 9500: 2.3660056591033936\n",
      "Time elapsed: 28.07880973815918 seconds\n"
     ]
    },
    {
     "data": {
      "image/png": "[encoded data removed]",
      "text/plain": [
       "<Figure size 640x480 with 1 Axes>"
      ]
     },
     "metadata": {},
     "output_type": "display_data"
    }
   ],
   "source": [
    "import time\n",
    "import matplotlib.pyplot as plt\n",
    "\n",
    "# Initialize lists to store loss values and iteration numbers\n",
    "loss_values = []\n",
    "iterations = []\n",
    "\n",
    "# Start the timer\n",
    "start_time = time.time()\n",
    "\n",
    "# Training loop\n",
    "for iter in range(10000):\n",
    "\n",
    "    batch_indexes = torch.randint(0, X.shape[0], (100,), generator=generator, device='mps')\n",
    "\n",
    "    \n",
    "    emb = params[X[batch_indexes]]\n",
    "    activation1 = torch.tanh(emb.view(emb.shape[0], emb.shape[1] * emb.shape[2]) @ W1 + b1)\n",
    "    logits = activation1 @ W2 + b2\n",
    "    loss = F.cross_entropy(logits, Y[batch_indexes])\n",
    "    \n",
    "    # Store loss value and iteration number\n",
    "    loss_values.append(loss.item())\n",
    "    iterations.append(iter)\n",
    "    \n",
    "    if iter % 500 == 0:\n",
    "        print(f'Iteration {iter}: {loss.item()}')\n",
    "    \n",
    "    for p in parameters:\n",
    "        p.grad = None\n",
    "    loss.backward()\n",
    "    for p in parameters:\n",
    "        p.data += -0.1 * p.grad\n",
    "\n",
    "# Print time elapsed\n",
    "end_time = time.time()\n",
    "print(f\"Time elapsed: {end_time - start_time} seconds\")\n",
    "\n",
    "# Plot loss graph\n",
    "plt.plot(iterations, loss_values)\n",
    "plt.xlabel('Iteration')\n",
    "plt.ylabel('Loss')\n",
    "plt.title('Loss vs. Iterations')\n",
    "plt.show()\n"
   ]
  },
  {
   "cell_type": "code",
   "execution_count": 30,
   "id": "19e97820-97d0-4a72-bb4f-57108ea64edc",
   "metadata": {},
   "outputs": [
    {
     "data": {
      "text/plain": [
       "2.4901480674743652"
      ]
     },
     "execution_count": 30,
     "metadata": {},
     "output_type": "execute_result"
    }
   ],
   "source": [
    "emb = params[X]\n",
    "activation1 = torch.tanh(emb.view(emb.shape[0], emb.shape[1] * emb.shape[2]) @ W1 + b1)\n",
    "logits = activation1 @ W2 + b2\n",
    "loss = F.cross_entropy(logits, Y)\n",
    "loss.item()\n"
   ]
  },
  {
   "cell_type": "code",
   "execution_count": null,
   "id": "bffb1e92-1c52-4ab4-93b0-f114f5b3eea9",
   "metadata": {},
   "outputs": [],
   "source": []
  }
 ],
 "metadata": {
  "kernelspec": {
   "display_name": "Python 3 (ipykernel)",
   "language": "python",
   "name": "python3"
  },
  "language_info": {
   "codemirror_mode": {
    "name": "ipython",
    "version": 3
   },
   "file_extension": ".py",
   "mimetype": "text/x-python",
   "name": "python",
   "nbconvert_exporter": "python",
   "pygments_lexer": "ipython3",
   "version": "3.12.1"
  }
 },
 "nbformat": 4,
 "nbformat_minor": 5
}
